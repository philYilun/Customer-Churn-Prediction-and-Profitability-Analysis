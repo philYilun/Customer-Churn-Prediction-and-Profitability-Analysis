{
 "cells": [
  {
   "cell_type": "markdown",
   "metadata": {
    "collapsed": true
   },
   "source": [
    "* The analysis aims to build a prediction model for customer churn propensity \n",
    "* After the prediction, the analysis also provide business solution for churn prevention with revenue-cost analysis"
   ]
  },
  {
   "cell_type": "code",
   "execution_count": 162,
   "metadata": {
    "collapsed": true
   },
   "outputs": [],
   "source": [
    "import pandas as pd\n",
    "import numpy as np\n",
    "import matplotlib.pyplot as plt\n",
    "import datetime\n",
    "%matplotlib inline\n",
    "\n",
    "pd.options.display.float_format = '{:,.2f}'.format"
   ]
  },
  {
   "cell_type": "code",
   "execution_count": 163,
   "metadata": {
    "collapsed": false
   },
   "outputs": [],
   "source": [
    "#sns.distplot(T1['date_end'].apply(lambda x:x.month),color='green')"
   ]
  },
  {
   "cell_type": "code",
   "execution_count": 179,
   "metadata": {
    "collapsed": false
   },
   "outputs": [
    {
     "name": "stdout",
     "output_type": "stream",
     "text": [
      "(16096, 32)\n",
      "Index(['id', 'activity_new', 'campaign_disc_ele', 'channel_sales', 'cons_12m',\n",
      "       'cons_gas_12m', 'cons_last_month', 'date_activ', 'date_end',\n",
      "       'date_first_activ', 'date_modif_prod', 'date_renewal',\n",
      "       'forecast_base_bill_ele', 'forecast_base_bill_year',\n",
      "       'forecast_bill_12m', 'forecast_cons', 'forecast_cons_12m',\n",
      "       'forecast_cons_year', 'forecast_discount_energy',\n",
      "       'forecast_meter_rent_12m', 'forecast_price_energy_p1',\n",
      "       'forecast_price_energy_p2', 'forecast_price_pow_p1', 'has_gas',\n",
      "       'imp_cons', 'margin_gross_pow_ele', 'margin_net_pow_ele', 'nb_prod_act',\n",
      "       'net_margin', 'num_years_antig', 'origin_up', 'pow_max'],\n",
      "      dtype='object')\n"
     ]
    }
   ],
   "source": [
    "# Load csv containing all the information to build the model on\n",
    "train_input = pd.read_csv(\"ml_case_training_data.csv\")\n",
    "print(train_input.shape)\n",
    "print(train_input.columns)"
   ]
  },
  {
   "cell_type": "code",
   "execution_count": 180,
   "metadata": {
    "collapsed": false
   },
   "outputs": [
    {
     "name": "stdout",
     "output_type": "stream",
     "text": [
      "(4024, 32)\n",
      "Index(['id', 'activity_new', 'campaign_disc_ele', 'channel_sales', 'cons_12m',\n",
      "       'cons_gas_12m', 'cons_last_month', 'date_activ', 'date_end',\n",
      "       'date_first_activ', 'date_modif_prod', 'date_renewal',\n",
      "       'forecast_base_bill_ele', 'forecast_base_bill_year',\n",
      "       'forecast_bill_12m', 'forecast_cons', 'forecast_cons_12m',\n",
      "       'forecast_cons_year', 'forecast_discount_energy',\n",
      "       'forecast_meter_rent_12m', 'forecast_price_energy_p1',\n",
      "       'forecast_price_energy_p2', 'forecast_price_pow_p1', 'has_gas',\n",
      "       'imp_cons', 'margin_gross_pow_ele', 'margin_net_pow_ele', 'nb_prod_act',\n",
      "       'net_margin', 'num_years_antig', 'origin_up', 'pow_max'],\n",
      "      dtype='object')\n"
     ]
    }
   ],
   "source": [
    "# Load csv containing all the information to build the model on\n",
    "test_input = pd.read_csv(\"ml_case_test_data.csv\")\n",
    "print(test_input.shape)\n",
    "print(test_input.columns)"
   ]
  },
  {
   "cell_type": "code",
   "execution_count": 181,
   "metadata": {
    "collapsed": false
   },
   "outputs": [
    {
     "name": "stdout",
     "output_type": "stream",
     "text": [
      "(16096, 2)\n",
      "<class 'pandas.core.frame.DataFrame'>\n",
      "RangeIndex: 16096 entries, 0 to 16095\n",
      "Data columns (total 2 columns):\n",
      "id       16096 non-null object\n",
      "churn    16096 non-null int64\n",
      "dtypes: int64(1), object(1)\n",
      "memory usage: 251.6+ KB\n"
     ]
    }
   ],
   "source": [
    "# Load the csv containing the churned customer ids training data\n",
    "train_output = pd.read_csv(\"ml_case_training_output.csv\")\n",
    "print (train_output.shape)\n",
    "train_output.info()"
   ]
  },
  {
   "cell_type": "code",
   "execution_count": 182,
   "metadata": {
    "collapsed": false
   },
   "outputs": [
    {
     "name": "stdout",
     "output_type": "stream",
     "text": [
      "(4024, 4)\n",
      "<class 'pandas.core.frame.DataFrame'>\n",
      "RangeIndex: 4024 entries, 0 to 4023\n",
      "Data columns (total 4 columns):\n",
      "Unnamed: 0           4024 non-null int64\n",
      "id                   4024 non-null object\n",
      "Churn_prediction     0 non-null float64\n",
      "Churn_probability    0 non-null float64\n",
      "dtypes: float64(2), int64(1), object(1)\n",
      "memory usage: 125.8+ KB\n"
     ]
    }
   ],
   "source": [
    "test_output = pd.read_csv(\"ml_case_test_output_template.csv\")\n",
    "print (test_output.shape)\n",
    "test_output.info()"
   ]
  },
  {
   "cell_type": "code",
   "execution_count": 183,
   "metadata": {
    "collapsed": false
   },
   "outputs": [
    {
     "data": {
      "text/plain": [
       "num_years_antig               int64\n",
       "nb_prod_act                   int64\n",
       "cons_12m                      int64\n",
       "cons_gas_12m                  int64\n",
       "cons_last_month               int64\n",
       "forecast_cons_year            int64\n",
       "forecast_cons               float64\n",
       "net_margin                  float64\n",
       "margin_net_pow_ele          float64\n",
       "margin_gross_pow_ele        float64\n",
       "imp_cons                    float64\n",
       "forecast_price_pow_p1       float64\n",
       "forecast_price_energy_p2    float64\n",
       "forecast_price_energy_p1    float64\n",
       "forecast_meter_rent_12m     float64\n",
       "forecast_discount_energy    float64\n",
       "pow_max                     float64\n",
       "forecast_bill_12m           float64\n",
       "forecast_base_bill_year     float64\n",
       "forecast_base_bill_ele      float64\n",
       "campaign_disc_ele           float64\n",
       "forecast_cons_12m           float64\n",
       "origin_up                    object\n",
       "date_renewal                 object\n",
       "date_modif_prod              object\n",
       "has_gas                      object\n",
       "date_first_activ             object\n",
       "date_end                     object\n",
       "date_activ                   object\n",
       "channel_sales                object\n",
       "activity_new                 object\n",
       "id                           object\n",
       "dtype: object"
      ]
     },
     "execution_count": 183,
     "metadata": {},
     "output_type": "execute_result"
    }
   ],
   "source": [
    "train_input.dtypes.sort_values()"
   ]
  },
  {
   "cell_type": "code",
   "execution_count": 184,
   "metadata": {
    "collapsed": true
   },
   "outputs": [],
   "source": [
    "# Count number of unique values in each column of our training data. If there are \n",
    "# very few uniques, we might consider dropping the columns as that data might skew \n",
    "# our model. We do need to be careful about categorical data though, \n",
    "# i.e. we need to see what the data is before dropping the column."
   ]
  },
  {
   "cell_type": "code",
   "execution_count": 185,
   "metadata": {
    "collapsed": false
   },
   "outputs": [
    {
     "name": "stdout",
     "output_type": "stream",
     "text": [
      "\n",
      " campaign_disc_ele \n",
      "count   0.00\n",
      "mean     nan\n",
      "std      nan\n",
      "min      nan\n",
      "25%      nan\n",
      "50%      nan\n",
      "75%      nan\n",
      "max      nan\n",
      "Name: campaign_disc_ele, dtype: float64\n",
      "\n",
      " cons_12m \n",
      "count       16,096.00\n",
      "mean       194,804.38\n",
      "std        679,515.08\n",
      "min       -125,276.00\n",
      "25%          5,906.25\n",
      "50%         15,332.50\n",
      "75%         50,221.50\n",
      "max     16,097,108.00\n",
      "Name: cons_12m, dtype: float64\n",
      "\n",
      " cons_gas_12m \n",
      "count      16,096.00\n",
      "mean       31,911.64\n",
      "std       177,588.46\n",
      "min        -3,037.00\n",
      "25%             0.00\n",
      "50%             0.00\n",
      "75%             0.00\n",
      "max     4,188,440.00\n",
      "Name: cons_gas_12m, dtype: float64\n",
      "\n",
      " cons_last_month \n",
      "count      16,096.00\n",
      "mean       19,461.54\n",
      "std        82,356.76\n",
      "min       -91,386.00\n",
      "25%             0.00\n",
      "50%           901.00\n",
      "75%         4,127.00\n",
      "max     4,538,720.00\n",
      "Name: cons_last_month, dtype: float64\n",
      "\n",
      " forecast_base_bill_ele \n",
      "count    3,508.00\n",
      "mean       335.84\n",
      "std        649.41\n",
      "min       -364.94\n",
      "25%          0.00\n",
      "50%        162.95\n",
      "75%        396.19\n",
      "max     12,566.08\n",
      "Name: forecast_base_bill_ele, dtype: float64\n",
      "\n",
      " forecast_base_bill_year \n",
      "count    3,508.00\n",
      "mean       335.84\n",
      "std        649.41\n",
      "min       -364.94\n",
      "25%          0.00\n",
      "50%        162.95\n",
      "75%        396.19\n",
      "max     12,566.08\n",
      "Name: forecast_base_bill_year, dtype: float64\n",
      "\n",
      " forecast_bill_12m \n",
      "count    3,508.00\n",
      "mean     3,837.44\n",
      "std      5,425.74\n",
      "min     -2,503.48\n",
      "25%      1,158.17\n",
      "50%      2,187.23\n",
      "75%      4,246.56\n",
      "max     81,122.63\n",
      "Name: forecast_bill_12m, dtype: float64\n",
      "\n",
      " forecast_cons \n",
      "count   3,508.00\n",
      "mean      206.85\n",
      "std       455.63\n",
      "min         0.00\n",
      "25%         0.00\n",
      "50%        42.22\n",
      "75%       228.12\n",
      "max     9,682.89\n",
      "Name: forecast_cons, dtype: float64\n",
      "\n",
      " forecast_cons_12m \n",
      "count    16,096.00\n",
      "mean      2,370.56\n",
      "std       4,035.09\n",
      "min     -16,689.26\n",
      "25%         513.23\n",
      "50%       1,179.16\n",
      "75%       2,692.08\n",
      "max     103,801.93\n",
      "Name: forecast_cons_12m, dtype: float64\n",
      "\n",
      " forecast_cons_year \n",
      "count    16,096.00\n",
      "mean      1,907.35\n",
      "std       5,257.36\n",
      "min     -85,627.00\n",
      "25%           0.00\n",
      "50%         378.00\n",
      "75%       1,994.25\n",
      "max     175,375.00\n",
      "Name: forecast_cons_year, dtype: float64\n",
      "\n",
      " forecast_discount_energy \n",
      "count   15,970.00\n",
      "mean         0.99\n",
      "std          5.16\n",
      "min          0.00\n",
      "25%          0.00\n",
      "50%          0.00\n",
      "75%          0.00\n",
      "max         50.00\n",
      "Name: forecast_discount_energy, dtype: float64\n",
      "\n",
      " forecast_meter_rent_12m \n",
      "count   16,096.00\n",
      "mean        70.31\n",
      "std         79.02\n",
      "min       -242.96\n",
      "25%         16.23\n",
      "50%         19.44\n",
      "75%        131.47\n",
      "max      2,411.69\n",
      "Name: forecast_meter_rent_12m, dtype: float64\n",
      "\n",
      " forecast_price_energy_p1 \n",
      "count   15,970.00\n",
      "mean         0.14\n",
      "std          0.03\n",
      "min          0.00\n",
      "25%          0.12\n",
      "50%          0.14\n",
      "75%          0.15\n",
      "max          0.27\n",
      "Name: forecast_price_energy_p1, dtype: float64\n",
      "\n",
      " forecast_price_energy_p2 \n",
      "count   15,970.00\n",
      "mean         0.05\n",
      "std          0.05\n",
      "min          0.00\n",
      "25%          0.00\n",
      "50%          0.09\n",
      "75%          0.10\n",
      "max          0.20\n",
      "Name: forecast_price_energy_p2, dtype: float64\n",
      "\n",
      " forecast_price_pow_p1 \n",
      "count   15,970.00\n",
      "mean        43.53\n",
      "std          5.21\n",
      "min         -0.12\n",
      "25%         40.61\n",
      "50%         44.31\n",
      "75%         44.31\n",
      "max         59.44\n",
      "Name: forecast_price_pow_p1, dtype: float64\n",
      "\n",
      " imp_cons \n",
      "count   16,096.00\n",
      "mean       196.12\n",
      "std        494.37\n",
      "min     -9,038.21\n",
      "25%          0.00\n",
      "50%         44.47\n",
      "75%        218.09\n",
      "max     15,042.79\n",
      "Name: imp_cons, dtype: float64\n",
      "\n",
      " margin_gross_pow_ele \n",
      "count   16,083.00\n",
      "mean        22.46\n",
      "std         23.70\n",
      "min       -525.54\n",
      "25%         11.96\n",
      "50%         21.09\n",
      "75%         29.64\n",
      "max        374.64\n",
      "Name: margin_gross_pow_ele, dtype: float64\n",
      "\n",
      " margin_net_pow_ele \n",
      "count   16,083.00\n",
      "mean        21.46\n",
      "std         27.92\n",
      "min       -615.66\n",
      "25%         11.95\n",
      "50%         20.97\n",
      "75%         29.64\n",
      "max        374.64\n",
      "Name: margin_net_pow_ele, dtype: float64\n",
      "\n",
      " nb_prod_act \n",
      "count   16,096.00\n",
      "mean         1.35\n",
      "std          1.46\n",
      "min          1.00\n",
      "25%          1.00\n",
      "50%          1.00\n",
      "75%          1.00\n",
      "max         32.00\n",
      "Name: nb_prod_act, dtype: float64\n",
      "\n",
      " net_margin \n",
      "count   16,081.00\n",
      "mean       217.99\n",
      "std        366.74\n",
      "min     -4,148.99\n",
      "25%         51.97\n",
      "50%        119.68\n",
      "75%        275.81\n",
      "max     24,570.65\n",
      "Name: net_margin, dtype: float64\n",
      "\n",
      " num_years_antig \n",
      "count   16,096.00\n",
      "mean         5.03\n",
      "std          1.68\n",
      "min          1.00\n",
      "25%          4.00\n",
      "50%          5.00\n",
      "75%          6.00\n",
      "max         16.00\n",
      "Name: num_years_antig, dtype: float64\n",
      "\n",
      " pow_max \n",
      "count   16,093.00\n",
      "mean        20.60\n",
      "std         21.77\n",
      "min          1.00\n",
      "25%         12.50\n",
      "50%         13.86\n",
      "75%         19.80\n",
      "max        500.00\n",
      "Name: pow_max, dtype: float64\n"
     ]
    }
   ],
   "source": [
    "for i in train_input.columns:\n",
    "    if train_input[i].dtype !='object':\n",
    "        print('\\n {} '.format(i) )\n",
    "        print(train_input[i].describe() )"
   ]
  },
  {
   "cell_type": "code",
   "execution_count": 186,
   "metadata": {
    "collapsed": false
   },
   "outputs": [
    {
     "data": {
      "text/html": [
       "<div>\n",
       "<style scoped>\n",
       "    .dataframe tbody tr th:only-of-type {\n",
       "        vertical-align: middle;\n",
       "    }\n",
       "\n",
       "    .dataframe tbody tr th {\n",
       "        vertical-align: top;\n",
       "    }\n",
       "\n",
       "    .dataframe thead th {\n",
       "        text-align: right;\n",
       "    }\n",
       "</style>\n",
       "<table border=\"1\" class=\"dataframe\">\n",
       "  <thead>\n",
       "    <tr style=\"text-align: right;\">\n",
       "      <th></th>\n",
       "      <th>campaign_disc_ele</th>\n",
       "      <th>cons_12m</th>\n",
       "      <th>cons_gas_12m</th>\n",
       "      <th>cons_last_month</th>\n",
       "      <th>forecast_base_bill_ele</th>\n",
       "      <th>forecast_base_bill_year</th>\n",
       "      <th>forecast_bill_12m</th>\n",
       "      <th>forecast_cons</th>\n",
       "      <th>forecast_cons_12m</th>\n",
       "      <th>forecast_cons_year</th>\n",
       "      <th>...</th>\n",
       "      <th>forecast_price_energy_p1</th>\n",
       "      <th>forecast_price_energy_p2</th>\n",
       "      <th>forecast_price_pow_p1</th>\n",
       "      <th>imp_cons</th>\n",
       "      <th>margin_gross_pow_ele</th>\n",
       "      <th>margin_net_pow_ele</th>\n",
       "      <th>nb_prod_act</th>\n",
       "      <th>net_margin</th>\n",
       "      <th>num_years_antig</th>\n",
       "      <th>pow_max</th>\n",
       "    </tr>\n",
       "  </thead>\n",
       "  <tbody>\n",
       "    <tr>\n",
       "      <th>count</th>\n",
       "      <td>0.00</td>\n",
       "      <td>16,096.00</td>\n",
       "      <td>16,096.00</td>\n",
       "      <td>16,096.00</td>\n",
       "      <td>3,508.00</td>\n",
       "      <td>3,508.00</td>\n",
       "      <td>3,508.00</td>\n",
       "      <td>3,508.00</td>\n",
       "      <td>16,096.00</td>\n",
       "      <td>16,096.00</td>\n",
       "      <td>...</td>\n",
       "      <td>15,970.00</td>\n",
       "      <td>15,970.00</td>\n",
       "      <td>15,970.00</td>\n",
       "      <td>16,096.00</td>\n",
       "      <td>16,083.00</td>\n",
       "      <td>16,083.00</td>\n",
       "      <td>16,096.00</td>\n",
       "      <td>16,081.00</td>\n",
       "      <td>16,096.00</td>\n",
       "      <td>16,093.00</td>\n",
       "    </tr>\n",
       "    <tr>\n",
       "      <th>mean</th>\n",
       "      <td>nan</td>\n",
       "      <td>194,804.38</td>\n",
       "      <td>31,911.64</td>\n",
       "      <td>19,461.54</td>\n",
       "      <td>335.84</td>\n",
       "      <td>335.84</td>\n",
       "      <td>3,837.44</td>\n",
       "      <td>206.85</td>\n",
       "      <td>2,370.56</td>\n",
       "      <td>1,907.35</td>\n",
       "      <td>...</td>\n",
       "      <td>0.14</td>\n",
       "      <td>0.05</td>\n",
       "      <td>43.53</td>\n",
       "      <td>196.12</td>\n",
       "      <td>22.46</td>\n",
       "      <td>21.46</td>\n",
       "      <td>1.35</td>\n",
       "      <td>217.99</td>\n",
       "      <td>5.03</td>\n",
       "      <td>20.60</td>\n",
       "    </tr>\n",
       "    <tr>\n",
       "      <th>std</th>\n",
       "      <td>nan</td>\n",
       "      <td>679,515.08</td>\n",
       "      <td>177,588.46</td>\n",
       "      <td>82,356.76</td>\n",
       "      <td>649.41</td>\n",
       "      <td>649.41</td>\n",
       "      <td>5,425.74</td>\n",
       "      <td>455.63</td>\n",
       "      <td>4,035.09</td>\n",
       "      <td>5,257.36</td>\n",
       "      <td>...</td>\n",
       "      <td>0.03</td>\n",
       "      <td>0.05</td>\n",
       "      <td>5.21</td>\n",
       "      <td>494.37</td>\n",
       "      <td>23.70</td>\n",
       "      <td>27.92</td>\n",
       "      <td>1.46</td>\n",
       "      <td>366.74</td>\n",
       "      <td>1.68</td>\n",
       "      <td>21.77</td>\n",
       "    </tr>\n",
       "    <tr>\n",
       "      <th>min</th>\n",
       "      <td>nan</td>\n",
       "      <td>-125,276.00</td>\n",
       "      <td>-3,037.00</td>\n",
       "      <td>-91,386.00</td>\n",
       "      <td>-364.94</td>\n",
       "      <td>-364.94</td>\n",
       "      <td>-2,503.48</td>\n",
       "      <td>0.00</td>\n",
       "      <td>-16,689.26</td>\n",
       "      <td>-85,627.00</td>\n",
       "      <td>...</td>\n",
       "      <td>0.00</td>\n",
       "      <td>0.00</td>\n",
       "      <td>-0.12</td>\n",
       "      <td>-9,038.21</td>\n",
       "      <td>-525.54</td>\n",
       "      <td>-615.66</td>\n",
       "      <td>1.00</td>\n",
       "      <td>-4,148.99</td>\n",
       "      <td>1.00</td>\n",
       "      <td>1.00</td>\n",
       "    </tr>\n",
       "    <tr>\n",
       "      <th>25%</th>\n",
       "      <td>nan</td>\n",
       "      <td>5,906.25</td>\n",
       "      <td>0.00</td>\n",
       "      <td>0.00</td>\n",
       "      <td>0.00</td>\n",
       "      <td>0.00</td>\n",
       "      <td>1,158.17</td>\n",
       "      <td>0.00</td>\n",
       "      <td>513.23</td>\n",
       "      <td>0.00</td>\n",
       "      <td>...</td>\n",
       "      <td>0.12</td>\n",
       "      <td>0.00</td>\n",
       "      <td>40.61</td>\n",
       "      <td>0.00</td>\n",
       "      <td>11.96</td>\n",
       "      <td>11.95</td>\n",
       "      <td>1.00</td>\n",
       "      <td>51.97</td>\n",
       "      <td>4.00</td>\n",
       "      <td>12.50</td>\n",
       "    </tr>\n",
       "    <tr>\n",
       "      <th>50%</th>\n",
       "      <td>nan</td>\n",
       "      <td>15,332.50</td>\n",
       "      <td>0.00</td>\n",
       "      <td>901.00</td>\n",
       "      <td>162.95</td>\n",
       "      <td>162.95</td>\n",
       "      <td>2,187.23</td>\n",
       "      <td>42.22</td>\n",
       "      <td>1,179.16</td>\n",
       "      <td>378.00</td>\n",
       "      <td>...</td>\n",
       "      <td>0.14</td>\n",
       "      <td>0.09</td>\n",
       "      <td>44.31</td>\n",
       "      <td>44.47</td>\n",
       "      <td>21.09</td>\n",
       "      <td>20.97</td>\n",
       "      <td>1.00</td>\n",
       "      <td>119.68</td>\n",
       "      <td>5.00</td>\n",
       "      <td>13.86</td>\n",
       "    </tr>\n",
       "    <tr>\n",
       "      <th>75%</th>\n",
       "      <td>nan</td>\n",
       "      <td>50,221.50</td>\n",
       "      <td>0.00</td>\n",
       "      <td>4,127.00</td>\n",
       "      <td>396.19</td>\n",
       "      <td>396.19</td>\n",
       "      <td>4,246.56</td>\n",
       "      <td>228.12</td>\n",
       "      <td>2,692.08</td>\n",
       "      <td>1,994.25</td>\n",
       "      <td>...</td>\n",
       "      <td>0.15</td>\n",
       "      <td>0.10</td>\n",
       "      <td>44.31</td>\n",
       "      <td>218.09</td>\n",
       "      <td>29.64</td>\n",
       "      <td>29.64</td>\n",
       "      <td>1.00</td>\n",
       "      <td>275.81</td>\n",
       "      <td>6.00</td>\n",
       "      <td>19.80</td>\n",
       "    </tr>\n",
       "    <tr>\n",
       "      <th>max</th>\n",
       "      <td>nan</td>\n",
       "      <td>16,097,108.00</td>\n",
       "      <td>4,188,440.00</td>\n",
       "      <td>4,538,720.00</td>\n",
       "      <td>12,566.08</td>\n",
       "      <td>12,566.08</td>\n",
       "      <td>81,122.63</td>\n",
       "      <td>9,682.89</td>\n",
       "      <td>103,801.93</td>\n",
       "      <td>175,375.00</td>\n",
       "      <td>...</td>\n",
       "      <td>0.27</td>\n",
       "      <td>0.20</td>\n",
       "      <td>59.44</td>\n",
       "      <td>15,042.79</td>\n",
       "      <td>374.64</td>\n",
       "      <td>374.64</td>\n",
       "      <td>32.00</td>\n",
       "      <td>24,570.65</td>\n",
       "      <td>16.00</td>\n",
       "      <td>500.00</td>\n",
       "    </tr>\n",
       "  </tbody>\n",
       "</table>\n",
       "<p>8 rows × 22 columns</p>\n",
       "</div>"
      ],
      "text/plain": [
       "       campaign_disc_ele      cons_12m  cons_gas_12m  cons_last_month  \\\n",
       "count               0.00     16,096.00     16,096.00        16,096.00   \n",
       "mean                 nan    194,804.38     31,911.64        19,461.54   \n",
       "std                  nan    679,515.08    177,588.46        82,356.76   \n",
       "min                  nan   -125,276.00     -3,037.00       -91,386.00   \n",
       "25%                  nan      5,906.25          0.00             0.00   \n",
       "50%                  nan     15,332.50          0.00           901.00   \n",
       "75%                  nan     50,221.50          0.00         4,127.00   \n",
       "max                  nan 16,097,108.00  4,188,440.00     4,538,720.00   \n",
       "\n",
       "       forecast_base_bill_ele  forecast_base_bill_year  forecast_bill_12m  \\\n",
       "count                3,508.00                 3,508.00           3,508.00   \n",
       "mean                   335.84                   335.84           3,837.44   \n",
       "std                    649.41                   649.41           5,425.74   \n",
       "min                   -364.94                  -364.94          -2,503.48   \n",
       "25%                      0.00                     0.00           1,158.17   \n",
       "50%                    162.95                   162.95           2,187.23   \n",
       "75%                    396.19                   396.19           4,246.56   \n",
       "max                 12,566.08                12,566.08          81,122.63   \n",
       "\n",
       "       forecast_cons  forecast_cons_12m  forecast_cons_year  ...  \\\n",
       "count       3,508.00          16,096.00           16,096.00  ...   \n",
       "mean          206.85           2,370.56            1,907.35  ...   \n",
       "std           455.63           4,035.09            5,257.36  ...   \n",
       "min             0.00         -16,689.26          -85,627.00  ...   \n",
       "25%             0.00             513.23                0.00  ...   \n",
       "50%            42.22           1,179.16              378.00  ...   \n",
       "75%           228.12           2,692.08            1,994.25  ...   \n",
       "max         9,682.89         103,801.93          175,375.00  ...   \n",
       "\n",
       "       forecast_price_energy_p1  forecast_price_energy_p2  \\\n",
       "count                 15,970.00                 15,970.00   \n",
       "mean                       0.14                      0.05   \n",
       "std                        0.03                      0.05   \n",
       "min                        0.00                      0.00   \n",
       "25%                        0.12                      0.00   \n",
       "50%                        0.14                      0.09   \n",
       "75%                        0.15                      0.10   \n",
       "max                        0.27                      0.20   \n",
       "\n",
       "       forecast_price_pow_p1  imp_cons  margin_gross_pow_ele  \\\n",
       "count              15,970.00 16,096.00             16,083.00   \n",
       "mean                   43.53    196.12                 22.46   \n",
       "std                     5.21    494.37                 23.70   \n",
       "min                    -0.12 -9,038.21               -525.54   \n",
       "25%                    40.61      0.00                 11.96   \n",
       "50%                    44.31     44.47                 21.09   \n",
       "75%                    44.31    218.09                 29.64   \n",
       "max                    59.44 15,042.79                374.64   \n",
       "\n",
       "       margin_net_pow_ele  nb_prod_act  net_margin  num_years_antig   pow_max  \n",
       "count           16,083.00    16,096.00   16,081.00        16,096.00 16,093.00  \n",
       "mean                21.46         1.35      217.99             5.03     20.60  \n",
       "std                 27.92         1.46      366.74             1.68     21.77  \n",
       "min               -615.66         1.00   -4,148.99             1.00      1.00  \n",
       "25%                 11.95         1.00       51.97             4.00     12.50  \n",
       "50%                 20.97         1.00      119.68             5.00     13.86  \n",
       "75%                 29.64         1.00      275.81             6.00     19.80  \n",
       "max                374.64        32.00   24,570.65            16.00    500.00  \n",
       "\n",
       "[8 rows x 22 columns]"
      ]
     },
     "execution_count": 186,
     "metadata": {},
     "output_type": "execute_result"
    }
   ],
   "source": [
    "train_input.describe()"
   ]
  },
  {
   "cell_type": "code",
   "execution_count": 187,
   "metadata": {
    "collapsed": false
   },
   "outputs": [
    {
     "data": {
      "text/plain": [
       "foosdfpfkusacimwkcsosbicdxkicaua    7377\n",
       "lmkebamcaaclubfxadlmueccxoimlema    2073\n",
       "usilxuppasemubllopkaafesmlibmsdf    1444\n",
       "ewpakwlliwisiwduibdlfmalxowmwpci     966\n",
       "sddiedcslfslkckwlfkdpoeeailfpeds      12\n",
       "epumfxlbckeskwekxbiuasklxalciiuu       4\n",
       "fixdbufsefwooaasfcxdxadsiekoceaa       2\n",
       "Name: channel_sales, dtype: int64"
      ]
     },
     "execution_count": 187,
     "metadata": {},
     "output_type": "execute_result"
    }
   ],
   "source": [
    "train_input['channel_sales'].value_counts()"
   ]
  },
  {
   "cell_type": "code",
   "execution_count": 188,
   "metadata": {
    "collapsed": false
   },
   "outputs": [
    {
     "data": {
      "text/plain": [
       "f    13132\n",
       "t     2964\n",
       "Name: has_gas, dtype: int64"
      ]
     },
     "execution_count": 188,
     "metadata": {},
     "output_type": "execute_result"
    }
   ],
   "source": [
    "train_input['has_gas'].value_counts()"
   ]
  },
  {
   "cell_type": "code",
   "execution_count": 189,
   "metadata": {
    "collapsed": false
   },
   "outputs": [
    {
     "data": {
      "text/plain": [
       "lxidpiddsbxsbosboudacockeimpuepw    7825\n",
       "kamkkxfxxuwbdslkwifmmcsiusiuosws    4517\n",
       "ldkssxwpmemidmecebumciepifcamkci    3664\n",
       "usapbepcfoloekilkwsdiboslwaxobdp       2\n",
       "ewxeelcelemmiwuafmddpobolfuxioce       1\n",
       "Name: origin_up, dtype: int64"
      ]
     },
     "execution_count": 189,
     "metadata": {},
     "output_type": "execute_result"
    }
   ],
   "source": [
    "train_input['origin_up'].value_counts()"
   ]
  },
  {
   "cell_type": "code",
   "execution_count": 190,
   "metadata": {
    "collapsed": false
   },
   "outputs": [],
   "source": [
    "m=pd.cut(train_input['margin_gross_pow_ele'],bins=10)"
   ]
  },
  {
   "cell_type": "code",
   "execution_count": 191,
   "metadata": {
    "collapsed": false
   },
   "outputs": [
    {
     "data": {
      "text/plain": [
       "(14.568, 104.586]       10952\n",
       "(-75.45, 14.568]         4942\n",
       "(104.586, 194.604]        126\n",
       "(194.604, 284.622]         46\n",
       "(284.622, 374.64]           5\n",
       "(-165.468, -75.45]          5\n",
       "(-255.486, -165.468]        2\n",
       "(-345.504, -255.486]        2\n",
       "(-526.44, -435.522]         2\n",
       "(-435.522, -345.504]        1\n",
       "Name: margin_gross_pow_ele, dtype: int64"
      ]
     },
     "execution_count": 191,
     "metadata": {},
     "output_type": "execute_result"
    }
   ],
   "source": [
    "m.value_counts()"
   ]
  },
  {
   "cell_type": "code",
   "execution_count": 192,
   "metadata": {
    "collapsed": false
   },
   "outputs": [],
   "source": [
    "T=train_input[['id', \n",
    "             #categorical\n",
    "             'activity_new','origin_up', 'campaign_disc_ele', 'channel_sales', \n",
    "             'has_gas', 'nb_prod_act', 'num_years_antig',\n",
    "             #numerical\n",
    "             'cons_12m','cons_gas_12m', 'cons_last_month', \n",
    "             # relavent num\n",
    "              'imp_cons', 'margin_gross_pow_ele', 'margin_net_pow_ele','net_margin',\n",
    "             #date\n",
    "             'date_activ', 'date_end','date_first_activ', 'date_modif_prod', 'date_renewal']]"
   ]
  },
  {
   "cell_type": "markdown",
   "metadata": {
    "collapsed": true
   },
   "source": [
    "* start to feature engineer"
   ]
  },
  {
   "cell_type": "code",
   "execution_count": 194,
   "metadata": {
    "collapsed": false
   },
   "outputs": [
    {
     "name": "stderr",
     "output_type": "stream",
     "text": [
      "C:\\Users\\Yilun\\Anaconda3\\lib\\site-packages\\ipykernel\\__main__.py:2: SettingWithCopyWarning: \n",
      "A value is trying to be set on a copy of a slice from a DataFrame.\n",
      "Try using .loc[row_indexer,col_indexer] = value instead\n",
      "\n",
      "See the caveats in the documentation: http://pandas.pydata.org/pandas-docs/stable/indexing.html#indexing-view-versus-copy\n",
      "  from ipykernel import kernelapp as app\n",
      "C:\\Users\\Yilun\\Anaconda3\\lib\\site-packages\\ipykernel\\__main__.py:4: SettingWithCopyWarning: \n",
      "A value is trying to be set on a copy of a slice from a DataFrame.\n",
      "Try using .loc[row_indexer,col_indexer] = value instead\n",
      "\n",
      "See the caveats in the documentation: http://pandas.pydata.org/pandas-docs/stable/indexing.html#indexing-view-versus-copy\n"
     ]
    }
   ],
   "source": [
    "\n",
    "T['activity_new']=T['activity_new'].fillna('NA')\n",
    "ActDum=T['activity_new'].value_counts()[T['activity_new'].value_counts()>50].index.tolist()\n",
    "T['activity_new_clean']=T.apply(lambda x: x['activity_new']if x['activity_new'] in ActDum else 'other',axis=1)"
   ]
  },
  {
   "cell_type": "code",
   "execution_count": 196,
   "metadata": {
    "collapsed": false
   },
   "outputs": [
    {
     "data": {
      "text/plain": [
       "NA                                  9545\n",
       "other                               2971\n",
       "apdekpcbwosbxepsfxclislboipuxpop    1577\n",
       "kkklcdamwfafdcfwofuscwfwadblfmce     422\n",
       "kwuslieomapmswolewpobpplkaooaaew     230\n",
       "fmwdwsxillemwbbwelxsampiuwwpcdcb     219\n",
       "ckfxocssowaeipxueikxcmaxdmcduxsa     189\n",
       "cwofmuicebbcmiaaxufmfimpowpacobu     122\n",
       "cluecxlameloamldmasudocsbmaoamdw     119\n",
       "wxemiwkumpibllwklfbcooafckufkdlm     119\n",
       "sfisfxfcocfpcmckuekokxuseixdaoeu      83\n",
       "sffadmsbuamddwapeumdfibkmpkdicmc      75\n",
       "sxublbwoeuckkocekklxkllcdxxaisop      72\n",
       "ipdldckuswupeifllfbwccfpeafludfi      64\n",
       "saxlifeumaobawxpemwuopbwwldlucff      62\n",
       "dupxuibdflmskeieweeofcaluuuiioix      61\n",
       "daobdssbkieoukwxbopxiiospudkopwl      58\n",
       "ibkiiwcxiccxpoedpweiuxwbxbuewbxm      57\n",
       "cfdsselwimsklimddecfifseabdkxfcs      51\n",
       "Name: activity_new_clean, dtype: int64"
      ]
     },
     "execution_count": 196,
     "metadata": {},
     "output_type": "execute_result"
    }
   ],
   "source": [
    "T['activity_new_clean'].value_counts()"
   ]
  },
  {
   "cell_type": "code",
   "execution_count": 197,
   "metadata": {
    "collapsed": false
   },
   "outputs": [],
   "source": [
    "s={}\n",
    "for column in T.columns:\n",
    "    if sum(T[column].isnull())>0:\n",
    "        s[column]=(sum(T[column].isnull()),T[column].nunique())"
   ]
  },
  {
   "cell_type": "code",
   "execution_count": 198,
   "metadata": {
    "collapsed": false
   },
   "outputs": [
    {
     "data": {
      "text/plain": [
       "{'campaign_disc_ele': (16096, 0),\n",
       " 'channel_sales': (4218, 7),\n",
       " 'date_end': (2, 371),\n",
       " 'date_first_activ': (12588, 1133),\n",
       " 'date_modif_prod': (157, 2307),\n",
       " 'date_renewal': (40, 398),\n",
       " 'margin_gross_pow_ele': (13, 2979),\n",
       " 'margin_net_pow_ele': (13, 3006),\n",
       " 'net_margin': (15, 13189),\n",
       " 'origin_up': (87, 5)}"
      ]
     },
     "execution_count": 198,
     "metadata": {},
     "output_type": "execute_result"
    }
   ],
   "source": [
    "s"
   ]
  },
  {
   "cell_type": "code",
   "execution_count": 199,
   "metadata": {
    "collapsed": false
   },
   "outputs": [
    {
     "name": "stderr",
     "output_type": "stream",
     "text": [
      "C:\\Users\\Yilun\\Anaconda3\\lib\\site-packages\\ipykernel\\__main__.py:1: SettingWithCopyWarning: \n",
      "A value is trying to be set on a copy of a slice from a DataFrame.\n",
      "Try using .loc[row_indexer,col_indexer] = value instead\n",
      "\n",
      "See the caveats in the documentation: http://pandas.pydata.org/pandas-docs/stable/indexing.html#indexing-view-versus-copy\n",
      "  if __name__ == '__main__':\n"
     ]
    }
   ],
   "source": [
    "T['First_activ_Tag']=T['date_first_activ'].isnull()"
   ]
  },
  {
   "cell_type": "code",
   "execution_count": 201,
   "metadata": {
    "collapsed": false
   },
   "outputs": [
    {
     "name": "stderr",
     "output_type": "stream",
     "text": [
      "C:\\Users\\Yilun\\Anaconda3\\lib\\site-packages\\ipykernel\\__main__.py:4: SettingWithCopyWarning: \n",
      "A value is trying to be set on a copy of a slice from a DataFrame.\n",
      "Try using .loc[row_indexer,col_indexer] = value instead\n",
      "\n",
      "See the caveats in the documentation: http://pandas.pydata.org/pandas-docs/stable/indexing.html#indexing-view-versus-copy\n"
     ]
    }
   ],
   "source": [
    "for column in T.columns:\n",
    "    if column.startswith('date'):\n",
    "        ##print(T[column].dtype)\n",
    "        T[column]=pd.to_datetime(T.loc[:,column])"
   ]
  },
  {
   "cell_type": "code",
   "execution_count": 209,
   "metadata": {
    "collapsed": false
   },
   "outputs": [
    {
     "name": "stderr",
     "output_type": "stream",
     "text": [
      "C:\\Users\\Yilun\\Anaconda3\\lib\\site-packages\\ipykernel\\__main__.py:1: SettingWithCopyWarning: \n",
      "A value is trying to be set on a copy of a slice from a DataFrame\n",
      "\n",
      "See the caveats in the documentation: http://pandas.pydata.org/pandas-docs/stable/indexing.html#indexing-view-versus-copy\n",
      "  if __name__ == '__main__':\n"
     ]
    }
   ],
   "source": [
    "T.sort_values(by=['date_activ'],ascending=True,inplace=True)"
   ]
  },
  {
   "cell_type": "code",
   "execution_count": 215,
   "metadata": {
    "collapsed": false
   },
   "outputs": [
    {
     "name": "stderr",
     "output_type": "stream",
     "text": [
      "C:\\Users\\Yilun\\Anaconda3\\lib\\site-packages\\ipykernel\\__main__.py:1: RuntimeWarning: divide by zero encountered in log\n",
      "  if __name__ == '__main__':\n",
      "C:\\Users\\Yilun\\Anaconda3\\lib\\site-packages\\ipykernel\\__main__.py:1: RuntimeWarning: invalid value encountered in log\n",
      "  if __name__ == '__main__':\n",
      "C:\\Users\\Yilun\\Anaconda3\\lib\\site-packages\\ipykernel\\__main__.py:2: RuntimeWarning: divide by zero encountered in log\n",
      "  from ipykernel import kernelapp as app\n",
      "C:\\Users\\Yilun\\Anaconda3\\lib\\site-packages\\ipykernel\\__main__.py:2: RuntimeWarning: invalid value encountered in log\n",
      "  from ipykernel import kernelapp as app\n"
     ]
    },
    {
     "data": {
      "text/plain": [
       "<matplotlib.legend.Legend at 0x2005fc53470>"
      ]
     },
     "execution_count": 215,
     "metadata": {},
     "output_type": "execute_result"
    },
    {
     "data": {
      "image/png": "[encoded data removed]",
      "text/plain": [
       "<matplotlib.figure.Figure at 0x20052ff22e8>"
      ]
     },
     "metadata": {},
     "output_type": "display_data"
    }
   ],
   "source": [
    "plt.plot(T['date_activ'],np.log(T['cons_12m']),c='b')\n",
    "plt.plot(T['date_activ'],np.log(T['cons_gas_12m']),c='g',linestyle=':')\n",
    "plt.legend(['Current consumption','Forecasted consumption'],loc='upper left')"
   ]
  },
  {
   "cell_type": "code",
   "execution_count": null,
   "metadata": {
    "collapsed": true
   },
   "outputs": [],
   "source": [
    "train_"
   ]
  },
  {
   "cell_type": "code",
   "execution_count": 235,
   "metadata": {
    "collapsed": false
   },
   "outputs": [
    {
     "name": "stderr",
     "output_type": "stream",
     "text": [
      "C:\\Users\\Yilun\\Anaconda3\\lib\\site-packages\\ipykernel\\__main__.py:2: RuntimeWarning: divide by zero encountered in log\n",
      "  from ipykernel import kernelapp as app\n",
      "C:\\Users\\Yilun\\Anaconda3\\lib\\site-packages\\ipykernel\\__main__.py:2: RuntimeWarning: invalid value encountered in log\n",
      "  from ipykernel import kernelapp as app\n"
     ]
    },
    {
     "data": {
      "text/plain": [
       "<matplotlib.collections.PathCollection at 0x20062b3aa20>"
      ]
     },
     "execution_count": 235,
     "metadata": {},
     "output_type": "execute_result"
    },
    {
     "data": {
      "image/png": "[encoded data removed]",
      "text/plain": [
       "<matplotlib.figure.Figure at 0x2005320be10>"
      ]
     },
     "metadata": {},
     "output_type": "display_data"
    }
   ],
   "source": [
    "\n",
    "plt.scatter(np.log(train_input['forecast_cons_year']),np.log(train_input['net_margin']))"
   ]
  },
  {
   "cell_type": "code",
   "execution_count": 117,
   "metadata": {
    "collapsed": false
   },
   "outputs": [],
   "source": [
    "values = {'activity_new': 'NA', 'channel_sales': 'NA'}\n",
    "T=T.fillna(value=values)"
   ]
  },
  {
   "cell_type": "code",
   "execution_count": 113,
   "metadata": {
    "collapsed": false
   },
   "outputs": [
    {
     "name": "stderr",
     "output_type": "stream",
     "text": [
      "C:\\Users\\Yilun\\Anaconda3\\lib\\site-packages\\ipykernel\\__main__.py:1: SettingWithCopyWarning: \n",
      "A value is trying to be set on a copy of a slice from a DataFrame.\n",
      "Try using .loc[row_indexer,col_indexer] = value instead\n",
      "\n",
      "See the caveats in the documentation: http://pandas.pydata.org/pandas-docs/stable/indexing.html#indexing-view-versus-copy\n",
      "  if __name__ == '__main__':\n"
     ]
    }
   ],
   "source": [
    "T['campaign_disc_ele']=T['campaign_disc_ele'].fillna('NA')"
   ]
  },
  {
   "cell_type": "code",
   "execution_count": 110,
   "metadata": {
    "collapsed": false
   },
   "outputs": [
    {
     "data": {
      "text/plain": [
       "419"
      ]
     },
     "execution_count": 110,
     "metadata": {},
     "output_type": "execute_result"
    }
   ],
   "source": [
    "T['activity_new'].nunique()"
   ]
  },
  {
   "cell_type": "code",
   "execution_count": 124,
   "metadata": {
    "collapsed": false
   },
   "outputs": [],
   "source": [
    "T=T.fillna()"
   ]
  },
  {
   "cell_type": "code",
   "execution_count": 105,
   "metadata": {
    "collapsed": false
   },
   "outputs": [
    {
     "data": {
      "text/plain": [
       "<matplotlib.axes._subplots.AxesSubplot at 0x13f58baf898>"
      ]
     },
     "execution_count": 105,
     "metadata": {},
     "output_type": "execute_result"
    },
    {
     "data": {
      "image/png": "[encoded data removed]",
      "text/plain": [
       "<matplotlib.figure.Figure at 0x13f58b997f0>"
      ]
     },
     "metadata": {},
     "output_type": "display_data"
    }
   ],
   "source": [
    "import matplotlib.pyplot as plt\n",
    "%matplotlib inline\n",
    "\n",
    "T['margin_gross_pow_ele'].plot.hist(by='margin_gross_pow_ele',bins=100)"
   ]
  },
  {
   "cell_type": "markdown",
   "metadata": {},
   "source": [
    "* for not num var, get dummies with pd"
   ]
  },
  {
   "cell_type": "code",
   "execution_count": 75,
   "metadata": {
    "collapsed": false
   },
   "outputs": [
    {
     "data": {
      "text/plain": [
       "campaign_disc_ele           $0.00\n",
       "nb_prod_act            $16,096.00\n",
       "num_years_antig        $16,096.00\n",
       "cons_12m               $16,096.00\n",
       "cons_gas_12m           $16,096.00\n",
       "cons_last_month        $16,096.00\n",
       "imp_cons               $16,096.00\n",
       "margin_gross_pow_ele   $16,083.00\n",
       "margin_net_pow_ele     $16,083.00\n",
       "net_margin             $16,081.00\n",
       "Name: count, dtype: float64"
      ]
     },
     "execution_count": 75,
     "metadata": {},
     "output_type": "execute_result"
    }
   ],
   "source": [
    "T.describe().loc['count']"
   ]
  },
  {
   "cell_type": "code",
   "execution_count": 78,
   "metadata": {
    "collapsed": false
   },
   "outputs": [
    {
     "name": "stderr",
     "output_type": "stream",
     "text": [
      "C:\\Users\\Yilun\\Anaconda3\\lib\\site-packages\\ipykernel\\__main__.py:1: SettingWithCopyWarning: \n",
      "A value is trying to be set on a copy of a slice from a DataFrame.\n",
      "Try using .loc[row_indexer,col_indexer] = value instead\n",
      "\n",
      "See the caveats in the documentation: http://pandas.pydata.org/pandas-docs/stable/indexing.html#indexing-view-versus-copy\n",
      "  if __name__ == '__main__':\n"
     ]
    }
   ],
   "source": [
    "T['net_margin']=T['net_margin'].fillna(T['net_margin'].mean())"
   ]
  },
  {
   "cell_type": "code",
   "execution_count": null,
   "metadata": {
    "collapsed": true
   },
   "outputs": [],
   "source": [
    "sum(T['net_margin'].isnull())"
   ]
  },
  {
   "cell_type": "code",
   "execution_count": 68,
   "metadata": {
    "collapsed": true
   },
   "outputs": [],
   "source": [
    "l=[]\n",
    "for x in T.columns:\n",
    "    if x not in  T.describe().columns:\n",
    "        l.append(x)"
   ]
  },
  {
   "cell_type": "code",
   "execution_count": 69,
   "metadata": {
    "collapsed": false
   },
   "outputs": [
    {
     "data": {
      "text/plain": [
       "['id',\n",
       " 'activity_new',\n",
       " 'origin_up',\n",
       " 'channel_sales',\n",
       " 'has_gas',\n",
       " 'date_activ',\n",
       " 'date_end',\n",
       " 'date_first_activ',\n",
       " 'date_modif_prod',\n",
       " 'date_renewal',\n",
       " 'activity_new_clean']"
      ]
     },
     "execution_count": 69,
     "metadata": {},
     "output_type": "execute_result"
    }
   ],
   "source": [
    "l"
   ]
  },
  {
   "cell_type": "code",
   "execution_count": 83,
   "metadata": {
    "collapsed": false
   },
   "outputs": [
    {
     "name": "stderr",
     "output_type": "stream",
     "text": [
      "C:\\Users\\Yilun\\Anaconda3\\lib\\site-packages\\pandas\\core\\frame.py:3940: SettingWithCopyWarning: \n",
      "A value is trying to be set on a copy of a slice from a DataFrame\n",
      "\n",
      "See the caveats in the documentation: http://pandas.pydata.org/pandas-docs/stable/indexing.html#indexing-view-versus-copy\n",
      "  errors=errors)\n"
     ]
    }
   ],
   "source": [
    "T.drop(columns=['activity_new','campaign_disc_ele'],inplace=True)"
   ]
  },
  {
   "cell_type": "code",
   "execution_count": 88,
   "metadata": {
    "collapsed": false
   },
   "outputs": [
    {
     "name": "stderr",
     "output_type": "stream",
     "text": [
      "C:\\Users\\Yilun\\Anaconda3\\lib\\site-packages\\ipykernel\\__main__.py:1: SettingWithCopyWarning: \n",
      "A value is trying to be set on a copy of a slice from a DataFrame.\n",
      "Try using .loc[row_indexer,col_indexer] = value instead\n",
      "\n",
      "See the caveats in the documentation: http://pandas.pydata.org/pandas-docs/stable/indexing.html#indexing-view-versus-copy\n",
      "  if __name__ == '__main__':\n",
      "C:\\Users\\Yilun\\Anaconda3\\lib\\site-packages\\ipykernel\\__main__.py:3: SettingWithCopyWarning: \n",
      "A value is trying to be set on a copy of a slice from a DataFrame.\n",
      "Try using .loc[row_indexer,col_indexer] = value instead\n",
      "\n",
      "See the caveats in the documentation: http://pandas.pydata.org/pandas-docs/stable/indexing.html#indexing-view-versus-copy\n",
      "  app.launch_new_instance()\n",
      "C:\\Users\\Yilun\\Anaconda3\\lib\\site-packages\\ipykernel\\__main__.py:5: SettingWithCopyWarning: \n",
      "A value is trying to be set on a copy of a slice from a DataFrame.\n",
      "Try using .loc[row_indexer,col_indexer] = value instead\n",
      "\n",
      "See the caveats in the documentation: http://pandas.pydata.org/pandas-docs/stable/indexing.html#indexing-view-versus-copy\n",
      "C:\\Users\\Yilun\\Anaconda3\\lib\\site-packages\\ipykernel\\__main__.py:7: SettingWithCopyWarning: \n",
      "A value is trying to be set on a copy of a slice from a DataFrame.\n",
      "Try using .loc[row_indexer,col_indexer] = value instead\n",
      "\n",
      "See the caveats in the documentation: http://pandas.pydata.org/pandas-docs/stable/indexing.html#indexing-view-versus-copy\n"
     ]
    },
    {
     "data": {
      "text/plain": [
       "<matplotlib.axes._subplots.AxesSubplot at 0x200557a9ef0>"
      ]
     },
     "execution_count": 88,
     "metadata": {},
     "output_type": "execute_result"
    },
    {
     "data": {
      "image/png": "[encoded data removed]",
      "text/plain": [
       "<matplotlib.figure.Figure at 0x200559f6e48>"
      ]
     },
     "metadata": {},
     "output_type": "display_data"
    }
   ],
   "source": [
    "T['Act_Year']=T.apply(lambda x:x['date_activ'].year,axis=1)\n",
    "\n",
    "T['Act_Year']=T.apply(lambda x:x['date_activ'].year,axis=1)\n",
    "\n",
    "T['Start_Stop_Int']=T.apply(lambda x: (x['date_end']-x['date_activ'])/datetime.timedelta(days=1),axis=1)\n",
    "\n",
    "T['Modi_Stop_Int']=T.apply(lambda x: (x['date_end']-x['date_modif_prod'])/datetime.timedelta(days=1),axis=1)\n",
    "\n",
    "T['Modi_Stop_Int'].plot.hist(bins=30)"
   ]
  },
  {
   "cell_type": "code",
   "execution_count": 90,
   "metadata": {
    "collapsed": false
   },
   "outputs": [
    {
     "data": {
      "text/plain": [
       "Index(['id', 'origin_up', 'channel_sales', 'has_gas', 'nb_prod_act',\n",
       "       'num_years_antig', 'cons_12m', 'cons_gas_12m', 'cons_last_month',\n",
       "       'imp_cons', 'margin_gross_pow_ele', 'margin_net_pow_ele', 'net_margin',\n",
       "       'date_activ', 'date_end', 'date_first_activ', 'date_modif_prod',\n",
       "       'date_renewal', 'activity_new_clean', 'Act_Year', 'Start_Stop_Int',\n",
       "       'Modi_Stop_Int'],\n",
       "      dtype='object')"
      ]
     },
     "execution_count": 90,
     "metadata": {},
     "output_type": "execute_result"
    }
   ],
   "source": [
    "T.columns"
   ]
  },
  {
   "cell_type": "code",
   "execution_count": 99,
   "metadata": {
    "collapsed": false
   },
   "outputs": [],
   "source": [
    "T1=pd.get_dummies(T.drop(columns=[ 'date_activ', 'date_end', 'date_first_activ', 'date_modif_prod',\n",
    "       'date_renewal']).dropna(),columns=[\n",
    " 'origin_up',\n",
    " 'channel_sales',\n",
    " 'has_gas','activity_new_clean'],drop_first=True)"
   ]
  },
  {
   "cell_type": "code",
   "execution_count": 100,
   "metadata": {
    "collapsed": false
   },
   "outputs": [],
   "source": [
    "T1.set_index('id',inplace=True)"
   ]
  },
  {
   "cell_type": "code",
   "execution_count": 216,
   "metadata": {
    "collapsed": false
   },
   "outputs": [
    {
     "name": "stdout",
     "output_type": "stream",
     "text": [
      "nb_prod_act                                              int64\n",
      "num_years_antig                                          int64\n",
      "cons_12m                                                 int64\n",
      "cons_gas_12m                                             int64\n",
      "cons_last_month                                          int64\n",
      "imp_cons                                               float64\n",
      "margin_gross_pow_ele                                   float64\n",
      "margin_net_pow_ele                                     float64\n",
      "net_margin                                             float64\n",
      "Act_Year                                                 int64\n",
      "Start_Stop_Int                                         float64\n",
      "Modi_Stop_Int                                          float64\n",
      "origin_up_ldkssxwpmemidmecebumciepifcamkci               uint8\n",
      "origin_up_lxidpiddsbxsbosboudacockeimpuepw               uint8\n",
      "origin_up_usapbepcfoloekilkwsdiboslwaxobdp               uint8\n",
      "channel_sales_ewpakwlliwisiwduibdlfmalxowmwpci           uint8\n",
      "channel_sales_foosdfpfkusacimwkcsosbicdxkicaua           uint8\n",
      "channel_sales_lmkebamcaaclubfxadlmueccxoimlema           uint8\n",
      "channel_sales_sddiedcslfslkckwlfkdpoeeailfpeds           uint8\n",
      "channel_sales_usilxuppasemubllopkaafesmlibmsdf           uint8\n",
      "has_gas_t                                                uint8\n",
      "activity_new_clean_apdekpcbwosbxepsfxclislboipuxpop      uint8\n",
      "activity_new_clean_cfdsselwimsklimddecfifseabdkxfcs      uint8\n",
      "activity_new_clean_ckfxocssowaeipxueikxcmaxdmcduxsa      uint8\n",
      "activity_new_clean_cluecxlameloamldmasudocsbmaoamdw      uint8\n",
      "activity_new_clean_cwofmuicebbcmiaaxufmfimpowpacobu      uint8\n",
      "activity_new_clean_daobdssbkieoukwxbopxiiospudkopwl      uint8\n",
      "activity_new_clean_dupxuibdflmskeieweeofcaluuuiioix      uint8\n",
      "activity_new_clean_fmwdwsxillemwbbwelxsampiuwwpcdcb      uint8\n",
      "activity_new_clean_ibkiiwcxiccxpoedpweiuxwbxbuewbxm      uint8\n",
      "activity_new_clean_ipdldckuswupeifllfbwccfpeafludfi      uint8\n",
      "activity_new_clean_kkklcdamwfafdcfwofuscwfwadblfmce      uint8\n",
      "activity_new_clean_kwuslieomapmswolewpobpplkaooaaew      uint8\n",
      "activity_new_clean_other                                 uint8\n",
      "activity_new_clean_saxlifeumaobawxpemwuopbwwldlucff      uint8\n",
      "activity_new_clean_sffadmsbuamddwapeumdfibkmpkdicmc      uint8\n",
      "activity_new_clean_sfisfxfcocfpcmckuekokxuseixdaoeu      uint8\n",
      "activity_new_clean_sxublbwoeuckkocekklxkllcdxxaisop      uint8\n",
      "activity_new_clean_wxemiwkumpibllwklfbcooafckufkdlm      uint8\n",
      "dtype: object\n"
     ]
    }
   ],
   "source": [
    "print(T1.dtypes)"
   ]
  },
  {
   "cell_type": "code",
   "execution_count": 217,
   "metadata": {
    "collapsed": false
   },
   "outputs": [
    {
     "name": "stdout",
     "output_type": "stream",
     "text": [
      "nb_prod_act                                            11651\n",
      "num_years_antig                                        11651\n",
      "cons_12m                                               11651\n",
      "cons_gas_12m                                           11651\n",
      "cons_last_month                                        11651\n",
      "imp_cons                                               11651\n",
      "margin_gross_pow_ele                                   11651\n",
      "margin_net_pow_ele                                     11651\n",
      "net_margin                                             11651\n",
      "Act_Year                                               11651\n",
      "Start_Stop_Int                                         11651\n",
      "Modi_Stop_Int                                          11651\n",
      "origin_up_ldkssxwpmemidmecebumciepifcamkci             11651\n",
      "origin_up_lxidpiddsbxsbosboudacockeimpuepw             11651\n",
      "origin_up_usapbepcfoloekilkwsdiboslwaxobdp             11651\n",
      "channel_sales_ewpakwlliwisiwduibdlfmalxowmwpci         11651\n",
      "channel_sales_foosdfpfkusacimwkcsosbicdxkicaua         11651\n",
      "channel_sales_lmkebamcaaclubfxadlmueccxoimlema         11651\n",
      "channel_sales_sddiedcslfslkckwlfkdpoeeailfpeds         11651\n",
      "channel_sales_usilxuppasemubllopkaafesmlibmsdf         11651\n",
      "has_gas_t                                              11651\n",
      "activity_new_clean_apdekpcbwosbxepsfxclislboipuxpop    11651\n",
      "activity_new_clean_cfdsselwimsklimddecfifseabdkxfcs    11651\n",
      "activity_new_clean_ckfxocssowaeipxueikxcmaxdmcduxsa    11651\n",
      "activity_new_clean_cluecxlameloamldmasudocsbmaoamdw    11651\n",
      "activity_new_clean_cwofmuicebbcmiaaxufmfimpowpacobu    11651\n",
      "activity_new_clean_daobdssbkieoukwxbopxiiospudkopwl    11651\n",
      "activity_new_clean_dupxuibdflmskeieweeofcaluuuiioix    11651\n",
      "activity_new_clean_fmwdwsxillemwbbwelxsampiuwwpcdcb    11651\n",
      "activity_new_clean_ibkiiwcxiccxpoedpweiuxwbxbuewbxm    11651\n",
      "activity_new_clean_ipdldckuswupeifllfbwccfpeafludfi    11651\n",
      "activity_new_clean_kkklcdamwfafdcfwofuscwfwadblfmce    11651\n",
      "activity_new_clean_kwuslieomapmswolewpobpplkaooaaew    11651\n",
      "activity_new_clean_other                               11651\n",
      "activity_new_clean_saxlifeumaobawxpemwuopbwwldlucff    11651\n",
      "activity_new_clean_sffadmsbuamddwapeumdfibkmpkdicmc    11651\n",
      "activity_new_clean_sfisfxfcocfpcmckuekokxuseixdaoeu    11651\n",
      "activity_new_clean_sxublbwoeuckkocekklxkllcdxxaisop    11651\n",
      "activity_new_clean_wxemiwkumpibllwklfbcooafckufkdlm    11651\n",
      "dtype: int64\n"
     ]
    }
   ],
   "source": [
    "print(T1.apply(pd.Series.count))"
   ]
  },
  {
   "cell_type": "code",
   "execution_count": 218,
   "metadata": {
    "collapsed": true
   },
   "outputs": [],
   "source": [
    "train_output.set_index('id',inplace=True)"
   ]
  },
  {
   "cell_type": "code",
   "execution_count": 220,
   "metadata": {
    "collapsed": false
   },
   "outputs": [],
   "source": [
    "T1_Out=train_output.loc[T1.index.get_values().tolist()]"
   ]
  },
  {
   "cell_type": "code",
   "execution_count": 2,
   "metadata": {
    "collapsed": false
   },
   "outputs": [],
   "source": [
    "#T1.head()"
   ]
  },
  {
   "cell_type": "code",
   "execution_count": 227,
   "metadata": {
    "collapsed": false
   },
   "outputs": [
    {
     "data": {
      "text/html": [
       "<div>\n",
       "<style scoped>\n",
       "    .dataframe tbody tr th:only-of-type {\n",
       "        vertical-align: middle;\n",
       "    }\n",
       "\n",
       "    .dataframe tbody tr th {\n",
       "        vertical-align: top;\n",
       "    }\n",
       "\n",
       "    .dataframe thead th {\n",
       "        text-align: right;\n",
       "    }\n",
       "</style>\n",
       "<table border=\"1\" class=\"dataframe\">\n",
       "  <thead>\n",
       "    <tr style=\"text-align: right;\">\n",
       "      <th></th>\n",
       "      <th>id</th>\n",
       "      <th>activity_new</th>\n",
       "      <th>origin_up</th>\n",
       "      <th>campaign_disc_ele</th>\n",
       "      <th>channel_sales</th>\n",
       "      <th>has_gas</th>\n",
       "      <th>nb_prod_act</th>\n",
       "      <th>num_years_antig</th>\n",
       "      <th>cons_12m</th>\n",
       "      <th>cons_gas_12m</th>\n",
       "      <th>...</th>\n",
       "      <th>imp_cons</th>\n",
       "      <th>margin_gross_pow_ele</th>\n",
       "      <th>margin_net_pow_ele</th>\n",
       "      <th>net_margin</th>\n",
       "      <th>date_end</th>\n",
       "      <th>date_first_activ</th>\n",
       "      <th>date_modif_prod</th>\n",
       "      <th>date_renewal</th>\n",
       "      <th>activity_new_clean</th>\n",
       "      <th>First_activ_Tag</th>\n",
       "    </tr>\n",
       "    <tr>\n",
       "      <th>date_activ</th>\n",
       "      <th></th>\n",
       "      <th></th>\n",
       "      <th></th>\n",
       "      <th></th>\n",
       "      <th></th>\n",
       "      <th></th>\n",
       "      <th></th>\n",
       "      <th></th>\n",
       "      <th></th>\n",
       "      <th></th>\n",
       "      <th></th>\n",
       "      <th></th>\n",
       "      <th></th>\n",
       "      <th></th>\n",
       "      <th></th>\n",
       "      <th></th>\n",
       "      <th></th>\n",
       "      <th></th>\n",
       "      <th></th>\n",
       "      <th></th>\n",
       "      <th></th>\n",
       "    </tr>\n",
       "  </thead>\n",
       "  <tbody>\n",
       "    <tr>\n",
       "      <th>2005-01-01</th>\n",
       "      <td>2b579605333ca465e53d59d48c9f0a1b</td>\n",
       "      <td>fmwdwsxillemwbbwelxsampiuwwpcdcb</td>\n",
       "      <td>ldkssxwpmemidmecebumciepifcamkci</td>\n",
       "      <td>nan</td>\n",
       "      <td>NaN</td>\n",
       "      <td>f</td>\n",
       "      <td>1</td>\n",
       "      <td>11</td>\n",
       "      <td>184338</td>\n",
       "      <td>0</td>\n",
       "      <td>...</td>\n",
       "      <td>232.94</td>\n",
       "      <td>29.64</td>\n",
       "      <td>29.64</td>\n",
       "      <td>314.01</td>\n",
       "      <td>2017-01-01</td>\n",
       "      <td>NaT</td>\n",
       "      <td>2015-05-24</td>\n",
       "      <td>2016-01-02</td>\n",
       "      <td>fmwdwsxillemwbbwelxsampiuwwpcdcb</td>\n",
       "      <td>True</td>\n",
       "    </tr>\n",
       "    <tr>\n",
       "      <th>2005-01-07</th>\n",
       "      <td>7fb767948e9edd930722609a46cb14e3</td>\n",
       "      <td>NA</td>\n",
       "      <td>ldkssxwpmemidmecebumciepifcamkci</td>\n",
       "      <td>nan</td>\n",
       "      <td>NaN</td>\n",
       "      <td>f</td>\n",
       "      <td>1</td>\n",
       "      <td>11</td>\n",
       "      <td>46203</td>\n",
       "      <td>0</td>\n",
       "      <td>...</td>\n",
       "      <td>406.28</td>\n",
       "      <td>62.28</td>\n",
       "      <td>62.28</td>\n",
       "      <td>530.56</td>\n",
       "      <td>2017-01-07</td>\n",
       "      <td>NaT</td>\n",
       "      <td>2005-01-07</td>\n",
       "      <td>2016-01-08</td>\n",
       "      <td>NA</td>\n",
       "      <td>True</td>\n",
       "    </tr>\n",
       "    <tr>\n",
       "      <th>2005-01-07</th>\n",
       "      <td>0a87b73bc5dfa50fc0dc20a87bfe25a1</td>\n",
       "      <td>daobdssbkieoukwxbopxiiospudkopwl</td>\n",
       "      <td>ldkssxwpmemidmecebumciepifcamkci</td>\n",
       "      <td>nan</td>\n",
       "      <td>NaN</td>\n",
       "      <td>f</td>\n",
       "      <td>1</td>\n",
       "      <td>11</td>\n",
       "      <td>65431</td>\n",
       "      <td>0</td>\n",
       "      <td>...</td>\n",
       "      <td>656.82</td>\n",
       "      <td>19.68</td>\n",
       "      <td>19.68</td>\n",
       "      <td>572.88</td>\n",
       "      <td>2016-03-06</td>\n",
       "      <td>NaT</td>\n",
       "      <td>2015-03-09</td>\n",
       "      <td>2015-03-09</td>\n",
       "      <td>daobdssbkieoukwxbopxiiospudkopwl</td>\n",
       "      <td>True</td>\n",
       "    </tr>\n",
       "    <tr>\n",
       "      <th>2005-01-12</th>\n",
       "      <td>a5f0362398eacbf6d40570635d5db857</td>\n",
       "      <td>NA</td>\n",
       "      <td>ldkssxwpmemidmecebumciepifcamkci</td>\n",
       "      <td>nan</td>\n",
       "      <td>NaN</td>\n",
       "      <td>f</td>\n",
       "      <td>1</td>\n",
       "      <td>11</td>\n",
       "      <td>41600</td>\n",
       "      <td>0</td>\n",
       "      <td>...</td>\n",
       "      <td>380.44</td>\n",
       "      <td>49.44</td>\n",
       "      <td>49.44</td>\n",
       "      <td>469.40</td>\n",
       "      <td>2017-01-12</td>\n",
       "      <td>NaT</td>\n",
       "      <td>2016-01-14</td>\n",
       "      <td>2016-01-14</td>\n",
       "      <td>NA</td>\n",
       "      <td>True</td>\n",
       "    </tr>\n",
       "    <tr>\n",
       "      <th>2005-01-13</th>\n",
       "      <td>a6effeb924c64b2dc8120ea7ba600617</td>\n",
       "      <td>NA</td>\n",
       "      <td>ldkssxwpmemidmecebumciepifcamkci</td>\n",
       "      <td>nan</td>\n",
       "      <td>NaN</td>\n",
       "      <td>f</td>\n",
       "      <td>1</td>\n",
       "      <td>11</td>\n",
       "      <td>89022</td>\n",
       "      <td>0</td>\n",
       "      <td>...</td>\n",
       "      <td>1,584.78</td>\n",
       "      <td>52.44</td>\n",
       "      <td>52.44</td>\n",
       "      <td>753.31</td>\n",
       "      <td>2016-02-14</td>\n",
       "      <td>NaT</td>\n",
       "      <td>2005-01-13</td>\n",
       "      <td>2015-02-16</td>\n",
       "      <td>NA</td>\n",
       "      <td>True</td>\n",
       "    </tr>\n",
       "    <tr>\n",
       "      <th>2005-01-18</th>\n",
       "      <td>0ab1981333914eaf67caa523e35aab94</td>\n",
       "      <td>NA</td>\n",
       "      <td>ldkssxwpmemidmecebumciepifcamkci</td>\n",
       "      <td>nan</td>\n",
       "      <td>NaN</td>\n",
       "      <td>f</td>\n",
       "      <td>2</td>\n",
       "      <td>11</td>\n",
       "      <td>51748</td>\n",
       "      <td>0</td>\n",
       "      <td>...</td>\n",
       "      <td>904.49</td>\n",
       "      <td>29.64</td>\n",
       "      <td>29.64</td>\n",
       "      <td>441.07</td>\n",
       "      <td>2017-01-18</td>\n",
       "      <td>NaT</td>\n",
       "      <td>2015-05-24</td>\n",
       "      <td>2016-01-19</td>\n",
       "      <td>NA</td>\n",
       "      <td>True</td>\n",
       "    </tr>\n",
       "    <tr>\n",
       "      <th>2005-01-19</th>\n",
       "      <td>155dafee114c6d9f73f1922353696a27</td>\n",
       "      <td>wlxfbefauebfbauopppswxppaafdkoap</td>\n",
       "      <td>ldkssxwpmemidmecebumciepifcamkci</td>\n",
       "      <td>nan</td>\n",
       "      <td>NaN</td>\n",
       "      <td>f</td>\n",
       "      <td>1</td>\n",
       "      <td>11</td>\n",
       "      <td>267470</td>\n",
       "      <td>0</td>\n",
       "      <td>...</td>\n",
       "      <td>2,319.17</td>\n",
       "      <td>-0.24</td>\n",
       "      <td>-0.24</td>\n",
       "      <td>1,301.37</td>\n",
       "      <td>2016-02-21</td>\n",
       "      <td>NaT</td>\n",
       "      <td>2005-01-19</td>\n",
       "      <td>2015-02-23</td>\n",
       "      <td>other</td>\n",
       "      <td>True</td>\n",
       "    </tr>\n",
       "    <tr>\n",
       "      <th>2005-01-24</th>\n",
       "      <td>16c3208d87f5a27345125d4616473e75</td>\n",
       "      <td>NA</td>\n",
       "      <td>ldkssxwpmemidmecebumciepifcamkci</td>\n",
       "      <td>nan</td>\n",
       "      <td>NaN</td>\n",
       "      <td>f</td>\n",
       "      <td>1</td>\n",
       "      <td>11</td>\n",
       "      <td>3405</td>\n",
       "      <td>0</td>\n",
       "      <td>...</td>\n",
       "      <td>67.13</td>\n",
       "      <td>23.76</td>\n",
       "      <td>23.76</td>\n",
       "      <td>51.57</td>\n",
       "      <td>2016-06-20</td>\n",
       "      <td>NaT</td>\n",
       "      <td>2014-02-20</td>\n",
       "      <td>2015-06-23</td>\n",
       "      <td>NA</td>\n",
       "      <td>True</td>\n",
       "    </tr>\n",
       "    <tr>\n",
       "      <th>2005-01-24</th>\n",
       "      <td>b47f1c32d6442710226415646db08793</td>\n",
       "      <td>NA</td>\n",
       "      <td>ldkssxwpmemidmecebumciepifcamkci</td>\n",
       "      <td>nan</td>\n",
       "      <td>NaN</td>\n",
       "      <td>f</td>\n",
       "      <td>2</td>\n",
       "      <td>11</td>\n",
       "      <td>73482</td>\n",
       "      <td>0</td>\n",
       "      <td>...</td>\n",
       "      <td>1,074.36</td>\n",
       "      <td>19.80</td>\n",
       "      <td>19.80</td>\n",
       "      <td>623.04</td>\n",
       "      <td>2017-01-24</td>\n",
       "      <td>NaT</td>\n",
       "      <td>2015-12-17</td>\n",
       "      <td>2016-01-25</td>\n",
       "      <td>NA</td>\n",
       "      <td>True</td>\n",
       "    </tr>\n",
       "    <tr>\n",
       "      <th>2005-01-24</th>\n",
       "      <td>54e1e0cc721b4f5e25101cf57f5e6ec2</td>\n",
       "      <td>fcbfabofwcdaosksieduepeeusawfdsi</td>\n",
       "      <td>ldkssxwpmemidmecebumciepifcamkci</td>\n",
       "      <td>nan</td>\n",
       "      <td>NaN</td>\n",
       "      <td>f</td>\n",
       "      <td>1</td>\n",
       "      <td>11</td>\n",
       "      <td>62036</td>\n",
       "      <td>0</td>\n",
       "      <td>...</td>\n",
       "      <td>480.44</td>\n",
       "      <td>26.40</td>\n",
       "      <td>26.40</td>\n",
       "      <td>532.31</td>\n",
       "      <td>2017-01-24</td>\n",
       "      <td>NaT</td>\n",
       "      <td>2005-01-24</td>\n",
       "      <td>2016-01-25</td>\n",
       "      <td>other</td>\n",
       "      <td>True</td>\n",
       "    </tr>\n",
       "    <tr>\n",
       "      <th>2005-01-25</th>\n",
       "      <td>eb5163da4e79d2026ad498a7f210c3d6</td>\n",
       "      <td>NA</td>\n",
       "      <td>ldkssxwpmemidmecebumciepifcamkci</td>\n",
       "      <td>nan</td>\n",
       "      <td>NaN</td>\n",
       "      <td>t</td>\n",
       "      <td>2</td>\n",
       "      <td>11</td>\n",
       "      <td>42639</td>\n",
       "      <td>45710</td>\n",
       "      <td>...</td>\n",
       "      <td>386.24</td>\n",
       "      <td>45.80</td>\n",
       "      <td>45.80</td>\n",
       "      <td>426.02</td>\n",
       "      <td>2016-06-26</td>\n",
       "      <td>NaT</td>\n",
       "      <td>2014-06-26</td>\n",
       "      <td>2015-07-04</td>\n",
       "      <td>NA</td>\n",
       "      <td>True</td>\n",
       "    </tr>\n",
       "    <tr>\n",
       "      <th>2005-01-26</th>\n",
       "      <td>9f969ba0ac2bd07b06128cee48c6e98a</td>\n",
       "      <td>NA</td>\n",
       "      <td>ldkssxwpmemidmecebumciepifcamkci</td>\n",
       "      <td>nan</td>\n",
       "      <td>NaN</td>\n",
       "      <td>f</td>\n",
       "      <td>1</td>\n",
       "      <td>11</td>\n",
       "      <td>26973</td>\n",
       "      <td>0</td>\n",
       "      <td>...</td>\n",
       "      <td>105.28</td>\n",
       "      <td>24.72</td>\n",
       "      <td>24.72</td>\n",
       "      <td>278.11</td>\n",
       "      <td>2017-01-26</td>\n",
       "      <td>NaT</td>\n",
       "      <td>2005-01-26</td>\n",
       "      <td>2016-01-27</td>\n",
       "      <td>NA</td>\n",
       "      <td>True</td>\n",
       "    </tr>\n",
       "    <tr>\n",
       "      <th>2005-01-28</th>\n",
       "      <td>a6165b4cce864612240b560b546b0049</td>\n",
       "      <td>xclapbmiasllcspuclsumusikimpckek</td>\n",
       "      <td>ldkssxwpmemidmecebumciepifcamkci</td>\n",
       "      <td>nan</td>\n",
       "      <td>NaN</td>\n",
       "      <td>f</td>\n",
       "      <td>1</td>\n",
       "      <td>11</td>\n",
       "      <td>141030</td>\n",
       "      <td>0</td>\n",
       "      <td>...</td>\n",
       "      <td>231.45</td>\n",
       "      <td>31.21</td>\n",
       "      <td>31.21</td>\n",
       "      <td>353.47</td>\n",
       "      <td>2016-03-11</td>\n",
       "      <td>NaT</td>\n",
       "      <td>2015-03-09</td>\n",
       "      <td>2015-03-13</td>\n",
       "      <td>other</td>\n",
       "      <td>True</td>\n",
       "    </tr>\n",
       "    <tr>\n",
       "      <th>2005-02-01</th>\n",
       "      <td>8cd2edbbd2e22e91731ed92524716fcb</td>\n",
       "      <td>fmwdwsxillemwbbwelxsampiuwwpcdcb</td>\n",
       "      <td>ldkssxwpmemidmecebumciepifcamkci</td>\n",
       "      <td>nan</td>\n",
       "      <td>NaN</td>\n",
       "      <td>t</td>\n",
       "      <td>2</td>\n",
       "      <td>11</td>\n",
       "      <td>40712</td>\n",
       "      <td>55638</td>\n",
       "      <td>...</td>\n",
       "      <td>293.71</td>\n",
       "      <td>29.64</td>\n",
       "      <td>29.64</td>\n",
       "      <td>490.79</td>\n",
       "      <td>2016-02-01</td>\n",
       "      <td>NaT</td>\n",
       "      <td>2005-02-01</td>\n",
       "      <td>2015-02-02</td>\n",
       "      <td>fmwdwsxillemwbbwelxsampiuwwpcdcb</td>\n",
       "      <td>True</td>\n",
       "    </tr>\n",
       "    <tr>\n",
       "      <th>2005-02-02</th>\n",
       "      <td>a375227dbd198e4702f2c522c2d78f68</td>\n",
       "      <td>NA</td>\n",
       "      <td>ldkssxwpmemidmecebumciepifcamkci</td>\n",
       "      <td>nan</td>\n",
       "      <td>NaN</td>\n",
       "      <td>f</td>\n",
       "      <td>1</td>\n",
       "      <td>11</td>\n",
       "      <td>5207</td>\n",
       "      <td>0</td>\n",
       "      <td>...</td>\n",
       "      <td>0.00</td>\n",
       "      <td>0.12</td>\n",
       "      <td>0.12</td>\n",
       "      <td>76.29</td>\n",
       "      <td>2016-02-15</td>\n",
       "      <td>NaT</td>\n",
       "      <td>NaT</td>\n",
       "      <td>2015-02-16</td>\n",
       "      <td>NA</td>\n",
       "      <td>True</td>\n",
       "    </tr>\n",
       "    <tr>\n",
       "      <th>2005-02-04</th>\n",
       "      <td>16ee9f7200c826fe83c9643c489d16c1</td>\n",
       "      <td>NA</td>\n",
       "      <td>ldkssxwpmemidmecebumciepifcamkci</td>\n",
       "      <td>nan</td>\n",
       "      <td>NaN</td>\n",
       "      <td>f</td>\n",
       "      <td>1</td>\n",
       "      <td>11</td>\n",
       "      <td>26790</td>\n",
       "      <td>0</td>\n",
       "      <td>...</td>\n",
       "      <td>322.04</td>\n",
       "      <td>22.44</td>\n",
       "      <td>22.44</td>\n",
       "      <td>295.78</td>\n",
       "      <td>2016-02-04</td>\n",
       "      <td>NaT</td>\n",
       "      <td>2005-02-04</td>\n",
       "      <td>2015-02-05</td>\n",
       "      <td>NA</td>\n",
       "      <td>True</td>\n",
       "    </tr>\n",
       "    <tr>\n",
       "      <th>2005-02-08</th>\n",
       "      <td>f351b860db60c0937f5cece9c1ba64f8</td>\n",
       "      <td>NA</td>\n",
       "      <td>lxidpiddsbxsbosboudacockeimpuepw</td>\n",
       "      <td>nan</td>\n",
       "      <td>NaN</td>\n",
       "      <td>f</td>\n",
       "      <td>1</td>\n",
       "      <td>11</td>\n",
       "      <td>6841</td>\n",
       "      <td>0</td>\n",
       "      <td>...</td>\n",
       "      <td>45.18</td>\n",
       "      <td>33.12</td>\n",
       "      <td>33.12</td>\n",
       "      <td>31.15</td>\n",
       "      <td>2016-02-08</td>\n",
       "      <td>2005-02-08</td>\n",
       "      <td>2005-02-08</td>\n",
       "      <td>2015-02-09</td>\n",
       "      <td>NA</td>\n",
       "      <td>False</td>\n",
       "    </tr>\n",
       "    <tr>\n",
       "      <th>2005-02-10</th>\n",
       "      <td>4b45ba20656b57c9c7d58d931e0508ff</td>\n",
       "      <td>fupwmsbfffpmcasudlsdmxckmuxsuaku</td>\n",
       "      <td>ldkssxwpmemidmecebumciepifcamkci</td>\n",
       "      <td>nan</td>\n",
       "      <td>NaN</td>\n",
       "      <td>f</td>\n",
       "      <td>1</td>\n",
       "      <td>11</td>\n",
       "      <td>287252</td>\n",
       "      <td>0</td>\n",
       "      <td>...</td>\n",
       "      <td>0.00</td>\n",
       "      <td>19.28</td>\n",
       "      <td>19.28</td>\n",
       "      <td>-282.37</td>\n",
       "      <td>2016-05-06</td>\n",
       "      <td>NaT</td>\n",
       "      <td>2015-06-24</td>\n",
       "      <td>NaT</td>\n",
       "      <td>other</td>\n",
       "      <td>True</td>\n",
       "    </tr>\n",
       "    <tr>\n",
       "      <th>2005-02-10</th>\n",
       "      <td>d47a1a865315beb6d5200b892458d0ba</td>\n",
       "      <td>NA</td>\n",
       "      <td>ldkssxwpmemidmecebumciepifcamkci</td>\n",
       "      <td>nan</td>\n",
       "      <td>NaN</td>\n",
       "      <td>t</td>\n",
       "      <td>2</td>\n",
       "      <td>11</td>\n",
       "      <td>64455</td>\n",
       "      <td>8049</td>\n",
       "      <td>...</td>\n",
       "      <td>201.16</td>\n",
       "      <td>39.60</td>\n",
       "      <td>39.60</td>\n",
       "      <td>307.05</td>\n",
       "      <td>2016-02-10</td>\n",
       "      <td>NaT</td>\n",
       "      <td>2005-02-10</td>\n",
       "      <td>2015-02-11</td>\n",
       "      <td>NA</td>\n",
       "      <td>True</td>\n",
       "    </tr>\n",
       "    <tr>\n",
       "      <th>2005-02-11</th>\n",
       "      <td>601fe50a9238fb4ad11baf994723b2b8</td>\n",
       "      <td>pbpfffswspwswuxudcdibsmdkpokflmi</td>\n",
       "      <td>ldkssxwpmemidmecebumciepifcamkci</td>\n",
       "      <td>nan</td>\n",
       "      <td>NaN</td>\n",
       "      <td>f</td>\n",
       "      <td>1</td>\n",
       "      <td>11</td>\n",
       "      <td>53800</td>\n",
       "      <td>0</td>\n",
       "      <td>...</td>\n",
       "      <td>346.67</td>\n",
       "      <td>29.88</td>\n",
       "      <td>29.88</td>\n",
       "      <td>473.62</td>\n",
       "      <td>2016-02-11</td>\n",
       "      <td>NaT</td>\n",
       "      <td>2015-02-05</td>\n",
       "      <td>2015-02-12</td>\n",
       "      <td>other</td>\n",
       "      <td>True</td>\n",
       "    </tr>\n",
       "    <tr>\n",
       "      <th>2005-02-14</th>\n",
       "      <td>b19e227a1f66d1a6eda99221d5ce5c9e</td>\n",
       "      <td>sxublbwoeuckkocekklxkllcdxxaisop</td>\n",
       "      <td>ldkssxwpmemidmecebumciepifcamkci</td>\n",
       "      <td>nan</td>\n",
       "      <td>NaN</td>\n",
       "      <td>f</td>\n",
       "      <td>1</td>\n",
       "      <td>11</td>\n",
       "      <td>132033</td>\n",
       "      <td>0</td>\n",
       "      <td>...</td>\n",
       "      <td>322.46</td>\n",
       "      <td>78.60</td>\n",
       "      <td>78.60</td>\n",
       "      <td>473.04</td>\n",
       "      <td>2016-06-19</td>\n",
       "      <td>NaT</td>\n",
       "      <td>2014-06-19</td>\n",
       "      <td>2015-06-23</td>\n",
       "      <td>sxublbwoeuckkocekklxkllcdxxaisop</td>\n",
       "      <td>True</td>\n",
       "    </tr>\n",
       "    <tr>\n",
       "      <th>2005-02-15</th>\n",
       "      <td>508270ed10444f95ce306fc4b7dcf3c7</td>\n",
       "      <td>NA</td>\n",
       "      <td>ldkssxwpmemidmecebumciepifcamkci</td>\n",
       "      <td>nan</td>\n",
       "      <td>NaN</td>\n",
       "      <td>t</td>\n",
       "      <td>2</td>\n",
       "      <td>11</td>\n",
       "      <td>24883</td>\n",
       "      <td>7386</td>\n",
       "      <td>...</td>\n",
       "      <td>267.49</td>\n",
       "      <td>29.64</td>\n",
       "      <td>29.64</td>\n",
       "      <td>274.16</td>\n",
       "      <td>2016-02-15</td>\n",
       "      <td>NaT</td>\n",
       "      <td>2005-02-15</td>\n",
       "      <td>2015-02-16</td>\n",
       "      <td>NA</td>\n",
       "      <td>True</td>\n",
       "    </tr>\n",
       "    <tr>\n",
       "      <th>2005-02-18</th>\n",
       "      <td>6e665a8ca9793322d26da85913f66070</td>\n",
       "      <td>fxwoeaeiuwupxmeoxdmbfeefexbiuufi</td>\n",
       "      <td>ldkssxwpmemidmecebumciepifcamkci</td>\n",
       "      <td>nan</td>\n",
       "      <td>NaN</td>\n",
       "      <td>f</td>\n",
       "      <td>1</td>\n",
       "      <td>11</td>\n",
       "      <td>5478</td>\n",
       "      <td>0</td>\n",
       "      <td>...</td>\n",
       "      <td>57.71</td>\n",
       "      <td>103.68</td>\n",
       "      <td>103.68</td>\n",
       "      <td>62.70</td>\n",
       "      <td>2016-02-18</td>\n",
       "      <td>NaT</td>\n",
       "      <td>2005-02-18</td>\n",
       "      <td>2015-02-20</td>\n",
       "      <td>other</td>\n",
       "      <td>True</td>\n",
       "    </tr>\n",
       "    <tr>\n",
       "      <th>2005-02-22</th>\n",
       "      <td>f55c7b6e8223efc78243b983ffffbf03</td>\n",
       "      <td>xbsbaipfluioualwapemiublmepsbuoo</td>\n",
       "      <td>ldkssxwpmemidmecebumciepifcamkci</td>\n",
       "      <td>nan</td>\n",
       "      <td>NaN</td>\n",
       "      <td>f</td>\n",
       "      <td>1</td>\n",
       "      <td>11</td>\n",
       "      <td>20925</td>\n",
       "      <td>0</td>\n",
       "      <td>...</td>\n",
       "      <td>209.98</td>\n",
       "      <td>63.60</td>\n",
       "      <td>63.60</td>\n",
       "      <td>227.90</td>\n",
       "      <td>2016-02-22</td>\n",
       "      <td>NaT</td>\n",
       "      <td>2015-02-05</td>\n",
       "      <td>2015-02-23</td>\n",
       "      <td>other</td>\n",
       "      <td>True</td>\n",
       "    </tr>\n",
       "    <tr>\n",
       "      <th>2005-02-22</th>\n",
       "      <td>da222d184c76e025cbaac3ec4ab0a8b7</td>\n",
       "      <td>NA</td>\n",
       "      <td>ldkssxwpmemidmecebumciepifcamkci</td>\n",
       "      <td>nan</td>\n",
       "      <td>NaN</td>\n",
       "      <td>f</td>\n",
       "      <td>1</td>\n",
       "      <td>11</td>\n",
       "      <td>14381</td>\n",
       "      <td>0</td>\n",
       "      <td>...</td>\n",
       "      <td>115.82</td>\n",
       "      <td>30.00</td>\n",
       "      <td>30.00</td>\n",
       "      <td>163.37</td>\n",
       "      <td>2016-02-22</td>\n",
       "      <td>NaT</td>\n",
       "      <td>2005-02-22</td>\n",
       "      <td>2015-02-23</td>\n",
       "      <td>NA</td>\n",
       "      <td>True</td>\n",
       "    </tr>\n",
       "    <tr>\n",
       "      <th>2005-02-25</th>\n",
       "      <td>c434cf7b19cbb5e6a98edaec9cd3fbd4</td>\n",
       "      <td>NA</td>\n",
       "      <td>ldkssxwpmemidmecebumciepifcamkci</td>\n",
       "      <td>nan</td>\n",
       "      <td>lmkebamcaaclubfxadlmueccxoimlema</td>\n",
       "      <td>f</td>\n",
       "      <td>1</td>\n",
       "      <td>11</td>\n",
       "      <td>88604</td>\n",
       "      <td>0</td>\n",
       "      <td>...</td>\n",
       "      <td>575.12</td>\n",
       "      <td>23.04</td>\n",
       "      <td>23.04</td>\n",
       "      <td>751.14</td>\n",
       "      <td>2016-02-25</td>\n",
       "      <td>NaT</td>\n",
       "      <td>2005-02-25</td>\n",
       "      <td>2015-02-26</td>\n",
       "      <td>NA</td>\n",
       "      <td>True</td>\n",
       "    </tr>\n",
       "    <tr>\n",
       "      <th>2005-02-28</th>\n",
       "      <td>674b4a8055d97c11e16633883443262a</td>\n",
       "      <td>xbsbaipfluioualwapemiublmepsbuoo</td>\n",
       "      <td>ldkssxwpmemidmecebumciepifcamkci</td>\n",
       "      <td>nan</td>\n",
       "      <td>NaN</td>\n",
       "      <td>f</td>\n",
       "      <td>1</td>\n",
       "      <td>11</td>\n",
       "      <td>23159</td>\n",
       "      <td>0</td>\n",
       "      <td>...</td>\n",
       "      <td>411.84</td>\n",
       "      <td>44.52</td>\n",
       "      <td>44.52</td>\n",
       "      <td>248.88</td>\n",
       "      <td>2016-02-29</td>\n",
       "      <td>NaT</td>\n",
       "      <td>2015-03-09</td>\n",
       "      <td>2015-03-06</td>\n",
       "      <td>other</td>\n",
       "      <td>True</td>\n",
       "    </tr>\n",
       "    <tr>\n",
       "      <th>2005-02-28</th>\n",
       "      <td>b86c5461640fafb75ea7ff46d67ffe73</td>\n",
       "      <td>fkmblacmaapkaoauabpwpuweokkeiali</td>\n",
       "      <td>ldkssxwpmemidmecebumciepifcamkci</td>\n",
       "      <td>nan</td>\n",
       "      <td>NaN</td>\n",
       "      <td>f</td>\n",
       "      <td>1</td>\n",
       "      <td>11</td>\n",
       "      <td>125892</td>\n",
       "      <td>0</td>\n",
       "      <td>...</td>\n",
       "      <td>226.46</td>\n",
       "      <td>22.44</td>\n",
       "      <td>22.44</td>\n",
       "      <td>182.68</td>\n",
       "      <td>2016-02-29</td>\n",
       "      <td>NaT</td>\n",
       "      <td>2015-03-09</td>\n",
       "      <td>2015-03-06</td>\n",
       "      <td>other</td>\n",
       "      <td>True</td>\n",
       "    </tr>\n",
       "    <tr>\n",
       "      <th>2005-02-28</th>\n",
       "      <td>dff0d9799d160410bea9cb244831dcd8</td>\n",
       "      <td>dmklwapxmxxalfwupxepeiuoooduaueb</td>\n",
       "      <td>ldkssxwpmemidmecebumciepifcamkci</td>\n",
       "      <td>nan</td>\n",
       "      <td>NaN</td>\n",
       "      <td>f</td>\n",
       "      <td>1</td>\n",
       "      <td>11</td>\n",
       "      <td>90551</td>\n",
       "      <td>0</td>\n",
       "      <td>...</td>\n",
       "      <td>1,188.61</td>\n",
       "      <td>29.88</td>\n",
       "      <td>29.88</td>\n",
       "      <td>460.84</td>\n",
       "      <td>2016-02-29</td>\n",
       "      <td>NaT</td>\n",
       "      <td>2015-04-18</td>\n",
       "      <td>2015-03-06</td>\n",
       "      <td>other</td>\n",
       "      <td>True</td>\n",
       "    </tr>\n",
       "    <tr>\n",
       "      <th>2005-02-28</th>\n",
       "      <td>594f4d5a26a95147f4a0afbe5b5ae0a7</td>\n",
       "      <td>kkpddsilciodwwwffucmkflilcpfaumo</td>\n",
       "      <td>ldkssxwpmemidmecebumciepifcamkci</td>\n",
       "      <td>nan</td>\n",
       "      <td>NaN</td>\n",
       "      <td>f</td>\n",
       "      <td>1</td>\n",
       "      <td>11</td>\n",
       "      <td>38387</td>\n",
       "      <td>0</td>\n",
       "      <td>...</td>\n",
       "      <td>338.04</td>\n",
       "      <td>29.64</td>\n",
       "      <td>29.64</td>\n",
       "      <td>416.60</td>\n",
       "      <td>2016-02-29</td>\n",
       "      <td>NaT</td>\n",
       "      <td>2015-03-09</td>\n",
       "      <td>2015-03-06</td>\n",
       "      <td>other</td>\n",
       "      <td>True</td>\n",
       "    </tr>\n",
       "    <tr>\n",
       "      <th>...</th>\n",
       "      <td>...</td>\n",
       "      <td>...</td>\n",
       "      <td>...</td>\n",
       "      <td>...</td>\n",
       "      <td>...</td>\n",
       "      <td>...</td>\n",
       "      <td>...</td>\n",
       "      <td>...</td>\n",
       "      <td>...</td>\n",
       "      <td>...</td>\n",
       "      <td>...</td>\n",
       "      <td>...</td>\n",
       "      <td>...</td>\n",
       "      <td>...</td>\n",
       "      <td>...</td>\n",
       "      <td>...</td>\n",
       "      <td>...</td>\n",
       "      <td>...</td>\n",
       "      <td>...</td>\n",
       "      <td>...</td>\n",
       "      <td>...</td>\n",
       "    </tr>\n",
       "    <tr>\n",
       "      <th>2013-07-01</th>\n",
       "      <td>7fa56eeb6bcc28fe48e4cabb65c76243</td>\n",
       "      <td>NA</td>\n",
       "      <td>ldkssxwpmemidmecebumciepifcamkci</td>\n",
       "      <td>nan</td>\n",
       "      <td>lmkebamcaaclubfxadlmueccxoimlema</td>\n",
       "      <td>f</td>\n",
       "      <td>1</td>\n",
       "      <td>3</td>\n",
       "      <td>20486</td>\n",
       "      <td>0</td>\n",
       "      <td>...</td>\n",
       "      <td>8.54</td>\n",
       "      <td>15.16</td>\n",
       "      <td>15.16</td>\n",
       "      <td>221.52</td>\n",
       "      <td>2016-06-01</td>\n",
       "      <td>NaT</td>\n",
       "      <td>2014-05-26</td>\n",
       "      <td>2015-06-08</td>\n",
       "      <td>NA</td>\n",
       "      <td>True</td>\n",
       "    </tr>\n",
       "    <tr>\n",
       "      <th>2013-07-02</th>\n",
       "      <td>ec139adfd7ce273d1d9efc8a9dda4f24</td>\n",
       "      <td>apdekpcbwosbxepsfxclislboipuxpop</td>\n",
       "      <td>ldkssxwpmemidmecebumciepifcamkci</td>\n",
       "      <td>nan</td>\n",
       "      <td>fixdbufsefwooaasfcxdxadsiekoceaa</td>\n",
       "      <td>t</td>\n",
       "      <td>2</td>\n",
       "      <td>3</td>\n",
       "      <td>2503923</td>\n",
       "      <td>475413</td>\n",
       "      <td>...</td>\n",
       "      <td>905.80</td>\n",
       "      <td>38.53</td>\n",
       "      <td>38.53</td>\n",
       "      <td>376.02</td>\n",
       "      <td>2016-07-02</td>\n",
       "      <td>NaT</td>\n",
       "      <td>NaT</td>\n",
       "      <td>2015-07-04</td>\n",
       "      <td>apdekpcbwosbxepsfxclislboipuxpop</td>\n",
       "      <td>True</td>\n",
       "    </tr>\n",
       "    <tr>\n",
       "      <th>2013-07-02</th>\n",
       "      <td>2e068172f26537586399007ace621740</td>\n",
       "      <td>NA</td>\n",
       "      <td>ldkssxwpmemidmecebumciepifcamkci</td>\n",
       "      <td>nan</td>\n",
       "      <td>lmkebamcaaclubfxadlmueccxoimlema</td>\n",
       "      <td>f</td>\n",
       "      <td>1</td>\n",
       "      <td>3</td>\n",
       "      <td>4378</td>\n",
       "      <td>0</td>\n",
       "      <td>...</td>\n",
       "      <td>70.64</td>\n",
       "      <td>37.54</td>\n",
       "      <td>37.54</td>\n",
       "      <td>56.15</td>\n",
       "      <td>2016-07-02</td>\n",
       "      <td>NaT</td>\n",
       "      <td>NaT</td>\n",
       "      <td>2015-07-04</td>\n",
       "      <td>NA</td>\n",
       "      <td>True</td>\n",
       "    </tr>\n",
       "    <tr>\n",
       "      <th>2013-07-03</th>\n",
       "      <td>16969920b7720a5cddf6fc5802ba1410</td>\n",
       "      <td>NA</td>\n",
       "      <td>lxidpiddsbxsbosboudacockeimpuepw</td>\n",
       "      <td>nan</td>\n",
       "      <td>foosdfpfkusacimwkcsosbicdxkicaua</td>\n",
       "      <td>f</td>\n",
       "      <td>1</td>\n",
       "      <td>3</td>\n",
       "      <td>5953</td>\n",
       "      <td>0</td>\n",
       "      <td>...</td>\n",
       "      <td>88.81</td>\n",
       "      <td>26.04</td>\n",
       "      <td>26.04</td>\n",
       "      <td>89.32</td>\n",
       "      <td>2017-01-22</td>\n",
       "      <td>NaT</td>\n",
       "      <td>2015-11-18</td>\n",
       "      <td>2014-07-14</td>\n",
       "      <td>NA</td>\n",
       "      <td>True</td>\n",
       "    </tr>\n",
       "    <tr>\n",
       "      <th>2013-07-04</th>\n",
       "      <td>8b456e817e3daee08ccc958c70a85013</td>\n",
       "      <td>NA</td>\n",
       "      <td>lxidpiddsbxsbosboudacockeimpuepw</td>\n",
       "      <td>nan</td>\n",
       "      <td>foosdfpfkusacimwkcsosbicdxkicaua</td>\n",
       "      <td>f</td>\n",
       "      <td>1</td>\n",
       "      <td>3</td>\n",
       "      <td>21380</td>\n",
       "      <td>0</td>\n",
       "      <td>...</td>\n",
       "      <td>272.17</td>\n",
       "      <td>16.59</td>\n",
       "      <td>16.59</td>\n",
       "      <td>146.67</td>\n",
       "      <td>2016-07-04</td>\n",
       "      <td>NaT</td>\n",
       "      <td>NaT</td>\n",
       "      <td>2015-07-08</td>\n",
       "      <td>NA</td>\n",
       "      <td>True</td>\n",
       "    </tr>\n",
       "    <tr>\n",
       "      <th>2013-07-04</th>\n",
       "      <td>67bd8297a2bf842f64cfe58224612e7f</td>\n",
       "      <td>NA</td>\n",
       "      <td>ldkssxwpmemidmecebumciepifcamkci</td>\n",
       "      <td>nan</td>\n",
       "      <td>ewpakwlliwisiwduibdlfmalxowmwpci</td>\n",
       "      <td>f</td>\n",
       "      <td>1</td>\n",
       "      <td>3</td>\n",
       "      <td>2542</td>\n",
       "      <td>0</td>\n",
       "      <td>...</td>\n",
       "      <td>29.75</td>\n",
       "      <td>19.48</td>\n",
       "      <td>19.48</td>\n",
       "      <td>32.16</td>\n",
       "      <td>2016-07-04</td>\n",
       "      <td>NaT</td>\n",
       "      <td>NaT</td>\n",
       "      <td>2015-07-15</td>\n",
       "      <td>NA</td>\n",
       "      <td>True</td>\n",
       "    </tr>\n",
       "    <tr>\n",
       "      <th>2013-07-04</th>\n",
       "      <td>a020b85d573fa4fb1c2d11f972fe57e4</td>\n",
       "      <td>NA</td>\n",
       "      <td>ldkssxwpmemidmecebumciepifcamkci</td>\n",
       "      <td>nan</td>\n",
       "      <td>sddiedcslfslkckwlfkdpoeeailfpeds</td>\n",
       "      <td>f</td>\n",
       "      <td>1</td>\n",
       "      <td>3</td>\n",
       "      <td>17841</td>\n",
       "      <td>0</td>\n",
       "      <td>...</td>\n",
       "      <td>0.00</td>\n",
       "      <td>25.70</td>\n",
       "      <td>25.70</td>\n",
       "      <td>161.37</td>\n",
       "      <td>2016-06-05</td>\n",
       "      <td>NaT</td>\n",
       "      <td>2014-06-05</td>\n",
       "      <td>2015-06-10</td>\n",
       "      <td>NA</td>\n",
       "      <td>True</td>\n",
       "    </tr>\n",
       "    <tr>\n",
       "      <th>2013-07-05</th>\n",
       "      <td>42af6b883911239ba4e8b4fc322098c2</td>\n",
       "      <td>NA</td>\n",
       "      <td>lxidpiddsbxsbosboudacockeimpuepw</td>\n",
       "      <td>nan</td>\n",
       "      <td>foosdfpfkusacimwkcsosbicdxkicaua</td>\n",
       "      <td>f</td>\n",
       "      <td>1</td>\n",
       "      <td>3</td>\n",
       "      <td>8159</td>\n",
       "      <td>0</td>\n",
       "      <td>...</td>\n",
       "      <td>89.32</td>\n",
       "      <td>22.17</td>\n",
       "      <td>22.17</td>\n",
       "      <td>92.62</td>\n",
       "      <td>2016-07-05</td>\n",
       "      <td>NaT</td>\n",
       "      <td>2015-06-20</td>\n",
       "      <td>2015-07-08</td>\n",
       "      <td>NA</td>\n",
       "      <td>True</td>\n",
       "    </tr>\n",
       "    <tr>\n",
       "      <th>2013-07-09</th>\n",
       "      <td>b85c962e6449fbfa7eedfe39aff1530c</td>\n",
       "      <td>NA</td>\n",
       "      <td>lxidpiddsbxsbosboudacockeimpuepw</td>\n",
       "      <td>nan</td>\n",
       "      <td>foosdfpfkusacimwkcsosbicdxkicaua</td>\n",
       "      <td>f</td>\n",
       "      <td>1</td>\n",
       "      <td>3</td>\n",
       "      <td>33856</td>\n",
       "      <td>0</td>\n",
       "      <td>...</td>\n",
       "      <td>325.62</td>\n",
       "      <td>15.45</td>\n",
       "      <td>15.45</td>\n",
       "      <td>416.97</td>\n",
       "      <td>2016-07-09</td>\n",
       "      <td>NaT</td>\n",
       "      <td>2014-06-17</td>\n",
       "      <td>2015-07-12</td>\n",
       "      <td>NA</td>\n",
       "      <td>True</td>\n",
       "    </tr>\n",
       "    <tr>\n",
       "      <th>2013-07-09</th>\n",
       "      <td>cd43b1747496605c425891bb64701c10</td>\n",
       "      <td>NA</td>\n",
       "      <td>ldkssxwpmemidmecebumciepifcamkci</td>\n",
       "      <td>nan</td>\n",
       "      <td>sddiedcslfslkckwlfkdpoeeailfpeds</td>\n",
       "      <td>f</td>\n",
       "      <td>1</td>\n",
       "      <td>3</td>\n",
       "      <td>7673</td>\n",
       "      <td>0</td>\n",
       "      <td>...</td>\n",
       "      <td>0.00</td>\n",
       "      <td>21.48</td>\n",
       "      <td>21.48</td>\n",
       "      <td>108.56</td>\n",
       "      <td>2016-04-23</td>\n",
       "      <td>NaT</td>\n",
       "      <td>2014-04-23</td>\n",
       "      <td>2015-04-24</td>\n",
       "      <td>NA</td>\n",
       "      <td>True</td>\n",
       "    </tr>\n",
       "    <tr>\n",
       "      <th>2013-07-09</th>\n",
       "      <td>240e4b4d55561b441cb3e719b2e54930</td>\n",
       "      <td>NA</td>\n",
       "      <td>lxidpiddsbxsbosboudacockeimpuepw</td>\n",
       "      <td>nan</td>\n",
       "      <td>foosdfpfkusacimwkcsosbicdxkicaua</td>\n",
       "      <td>f</td>\n",
       "      <td>1</td>\n",
       "      <td>3</td>\n",
       "      <td>5100</td>\n",
       "      <td>0</td>\n",
       "      <td>...</td>\n",
       "      <td>0.00</td>\n",
       "      <td>19.48</td>\n",
       "      <td>19.48</td>\n",
       "      <td>73.53</td>\n",
       "      <td>2016-07-09</td>\n",
       "      <td>2013-07-09</td>\n",
       "      <td>NaT</td>\n",
       "      <td>2015-07-12</td>\n",
       "      <td>NA</td>\n",
       "      <td>False</td>\n",
       "    </tr>\n",
       "    <tr>\n",
       "      <th>2013-07-10</th>\n",
       "      <td>6a80819cda06292fa636a742a017d46f</td>\n",
       "      <td>NA</td>\n",
       "      <td>lxidpiddsbxsbosboudacockeimpuepw</td>\n",
       "      <td>nan</td>\n",
       "      <td>foosdfpfkusacimwkcsosbicdxkicaua</td>\n",
       "      <td>t</td>\n",
       "      <td>2</td>\n",
       "      <td>3</td>\n",
       "      <td>10135</td>\n",
       "      <td>14967</td>\n",
       "      <td>...</td>\n",
       "      <td>0.00</td>\n",
       "      <td>16.87</td>\n",
       "      <td>16.87</td>\n",
       "      <td>129.12</td>\n",
       "      <td>2016-07-10</td>\n",
       "      <td>NaT</td>\n",
       "      <td>NaT</td>\n",
       "      <td>2015-07-12</td>\n",
       "      <td>NA</td>\n",
       "      <td>True</td>\n",
       "    </tr>\n",
       "    <tr>\n",
       "      <th>2013-07-11</th>\n",
       "      <td>eee152612f862cc5e1f8b7e2a2479ceb</td>\n",
       "      <td>kkpddsilciodwwwffucmkflilcpfaumo</td>\n",
       "      <td>ldkssxwpmemidmecebumciepifcamkci</td>\n",
       "      <td>nan</td>\n",
       "      <td>usilxuppasemubllopkaafesmlibmsdf</td>\n",
       "      <td>t</td>\n",
       "      <td>5</td>\n",
       "      <td>3</td>\n",
       "      <td>311060</td>\n",
       "      <td>450531</td>\n",
       "      <td>...</td>\n",
       "      <td>291.97</td>\n",
       "      <td>17.45</td>\n",
       "      <td>17.45</td>\n",
       "      <td>192.22</td>\n",
       "      <td>2016-07-11</td>\n",
       "      <td>NaT</td>\n",
       "      <td>NaT</td>\n",
       "      <td>2015-07-12</td>\n",
       "      <td>other</td>\n",
       "      <td>True</td>\n",
       "    </tr>\n",
       "    <tr>\n",
       "      <th>2013-07-12</th>\n",
       "      <td>85f8a77c5f5ff430769bb169bfef5cf7</td>\n",
       "      <td>NA</td>\n",
       "      <td>ldkssxwpmemidmecebumciepifcamkci</td>\n",
       "      <td>nan</td>\n",
       "      <td>lmkebamcaaclubfxadlmueccxoimlema</td>\n",
       "      <td>f</td>\n",
       "      <td>1</td>\n",
       "      <td>3</td>\n",
       "      <td>12263</td>\n",
       "      <td>0</td>\n",
       "      <td>...</td>\n",
       "      <td>15.73</td>\n",
       "      <td>13.10</td>\n",
       "      <td>13.10</td>\n",
       "      <td>153.16</td>\n",
       "      <td>2016-07-12</td>\n",
       "      <td>NaT</td>\n",
       "      <td>2015-05-23</td>\n",
       "      <td>2015-07-14</td>\n",
       "      <td>NA</td>\n",
       "      <td>True</td>\n",
       "    </tr>\n",
       "    <tr>\n",
       "      <th>2013-07-24</th>\n",
       "      <td>8bdcd1e4ee19ef24c545d2ca352f7622</td>\n",
       "      <td>NA</td>\n",
       "      <td>lxidpiddsbxsbosboudacockeimpuepw</td>\n",
       "      <td>nan</td>\n",
       "      <td>foosdfpfkusacimwkcsosbicdxkicaua</td>\n",
       "      <td>f</td>\n",
       "      <td>1</td>\n",
       "      <td>3</td>\n",
       "      <td>27705</td>\n",
       "      <td>0</td>\n",
       "      <td>...</td>\n",
       "      <td>255.84</td>\n",
       "      <td>13.32</td>\n",
       "      <td>13.32</td>\n",
       "      <td>272.99</td>\n",
       "      <td>2016-07-24</td>\n",
       "      <td>2013-07-24</td>\n",
       "      <td>2015-06-16</td>\n",
       "      <td>2015-07-27</td>\n",
       "      <td>NA</td>\n",
       "      <td>False</td>\n",
       "    </tr>\n",
       "    <tr>\n",
       "      <th>2013-07-25</th>\n",
       "      <td>2a5dc830d0f2810a9f1fef26e8e594b4</td>\n",
       "      <td>NA</td>\n",
       "      <td>lxidpiddsbxsbosboudacockeimpuepw</td>\n",
       "      <td>nan</td>\n",
       "      <td>foosdfpfkusacimwkcsosbicdxkicaua</td>\n",
       "      <td>f</td>\n",
       "      <td>1</td>\n",
       "      <td>3</td>\n",
       "      <td>5658</td>\n",
       "      <td>0</td>\n",
       "      <td>...</td>\n",
       "      <td>42.45</td>\n",
       "      <td>22.31</td>\n",
       "      <td>22.31</td>\n",
       "      <td>77.18</td>\n",
       "      <td>2016-07-25</td>\n",
       "      <td>2013-07-25</td>\n",
       "      <td>2015-06-16</td>\n",
       "      <td>2015-07-27</td>\n",
       "      <td>NA</td>\n",
       "      <td>False</td>\n",
       "    </tr>\n",
       "    <tr>\n",
       "      <th>2013-07-29</th>\n",
       "      <td>5ed780807931302a567d143328d317d5</td>\n",
       "      <td>NA</td>\n",
       "      <td>kamkkxfxxuwbdslkwifmmcsiusiuosws</td>\n",
       "      <td>nan</td>\n",
       "      <td>sddiedcslfslkckwlfkdpoeeailfpeds</td>\n",
       "      <td>f</td>\n",
       "      <td>1</td>\n",
       "      <td>3</td>\n",
       "      <td>11409</td>\n",
       "      <td>0</td>\n",
       "      <td>...</td>\n",
       "      <td>141.23</td>\n",
       "      <td>55.32</td>\n",
       "      <td>55.32</td>\n",
       "      <td>142.48</td>\n",
       "      <td>2016-02-25</td>\n",
       "      <td>NaT</td>\n",
       "      <td>2014-02-25</td>\n",
       "      <td>2015-02-26</td>\n",
       "      <td>NA</td>\n",
       "      <td>True</td>\n",
       "    </tr>\n",
       "    <tr>\n",
       "      <th>2013-07-29</th>\n",
       "      <td>1bc95bcc3723d3bcb78b9440bbfef63e</td>\n",
       "      <td>wlxfbefauebfbauopppswxppaafdkoap</td>\n",
       "      <td>lxidpiddsbxsbosboudacockeimpuepw</td>\n",
       "      <td>nan</td>\n",
       "      <td>foosdfpfkusacimwkcsosbicdxkicaua</td>\n",
       "      <td>f</td>\n",
       "      <td>1</td>\n",
       "      <td>3</td>\n",
       "      <td>14313</td>\n",
       "      <td>0</td>\n",
       "      <td>...</td>\n",
       "      <td>0.00</td>\n",
       "      <td>15.10</td>\n",
       "      <td>15.10</td>\n",
       "      <td>179.92</td>\n",
       "      <td>2016-07-29</td>\n",
       "      <td>NaT</td>\n",
       "      <td>NaT</td>\n",
       "      <td>2015-07-31</td>\n",
       "      <td>other</td>\n",
       "      <td>True</td>\n",
       "    </tr>\n",
       "    <tr>\n",
       "      <th>2013-08-01</th>\n",
       "      <td>9c36ebbcde4ce2667e707099426ccf82</td>\n",
       "      <td>kwuslieomapmswolewpobpplkaooaaew</td>\n",
       "      <td>lxidpiddsbxsbosboudacockeimpuepw</td>\n",
       "      <td>nan</td>\n",
       "      <td>foosdfpfkusacimwkcsosbicdxkicaua</td>\n",
       "      <td>f</td>\n",
       "      <td>1</td>\n",
       "      <td>2</td>\n",
       "      <td>34108</td>\n",
       "      <td>0</td>\n",
       "      <td>...</td>\n",
       "      <td>14.49</td>\n",
       "      <td>10.32</td>\n",
       "      <td>10.32</td>\n",
       "      <td>374.22</td>\n",
       "      <td>2016-08-01</td>\n",
       "      <td>NaT</td>\n",
       "      <td>NaT</td>\n",
       "      <td>2015-08-02</td>\n",
       "      <td>kwuslieomapmswolewpobpplkaooaaew</td>\n",
       "      <td>True</td>\n",
       "    </tr>\n",
       "    <tr>\n",
       "      <th>2013-08-05</th>\n",
       "      <td>c9c069708535084ed251ff72ebb1b197</td>\n",
       "      <td>akokxbmlwukcmwlimosloemdplieuuwm</td>\n",
       "      <td>lxidpiddsbxsbosboudacockeimpuepw</td>\n",
       "      <td>nan</td>\n",
       "      <td>foosdfpfkusacimwkcsosbicdxkicaua</td>\n",
       "      <td>t</td>\n",
       "      <td>2</td>\n",
       "      <td>2</td>\n",
       "      <td>6737</td>\n",
       "      <td>5075</td>\n",
       "      <td>...</td>\n",
       "      <td>0.00</td>\n",
       "      <td>17.82</td>\n",
       "      <td>17.82</td>\n",
       "      <td>122.43</td>\n",
       "      <td>2016-08-05</td>\n",
       "      <td>NaT</td>\n",
       "      <td>NaT</td>\n",
       "      <td>2015-08-06</td>\n",
       "      <td>other</td>\n",
       "      <td>True</td>\n",
       "    </tr>\n",
       "    <tr>\n",
       "      <th>2013-08-05</th>\n",
       "      <td>fbf22683f4b1b942b5f949a3715ed4ca</td>\n",
       "      <td>NA</td>\n",
       "      <td>lxidpiddsbxsbosboudacockeimpuepw</td>\n",
       "      <td>nan</td>\n",
       "      <td>foosdfpfkusacimwkcsosbicdxkicaua</td>\n",
       "      <td>f</td>\n",
       "      <td>1</td>\n",
       "      <td>2</td>\n",
       "      <td>12580</td>\n",
       "      <td>0</td>\n",
       "      <td>...</td>\n",
       "      <td>331.14</td>\n",
       "      <td>13.32</td>\n",
       "      <td>13.32</td>\n",
       "      <td>210.02</td>\n",
       "      <td>2016-08-05</td>\n",
       "      <td>NaT</td>\n",
       "      <td>NaT</td>\n",
       "      <td>2015-08-06</td>\n",
       "      <td>NA</td>\n",
       "      <td>True</td>\n",
       "    </tr>\n",
       "    <tr>\n",
       "      <th>2013-08-07</th>\n",
       "      <td>c60418f2d939a468fb18a13902901e35</td>\n",
       "      <td>sfisfxfcocfpcmckuekokxuseixdaoeu</td>\n",
       "      <td>lxidpiddsbxsbosboudacockeimpuepw</td>\n",
       "      <td>nan</td>\n",
       "      <td>foosdfpfkusacimwkcsosbicdxkicaua</td>\n",
       "      <td>t</td>\n",
       "      <td>2</td>\n",
       "      <td>2</td>\n",
       "      <td>16736</td>\n",
       "      <td>308</td>\n",
       "      <td>...</td>\n",
       "      <td>132.96</td>\n",
       "      <td>33.74</td>\n",
       "      <td>33.74</td>\n",
       "      <td>145.91</td>\n",
       "      <td>2016-04-13</td>\n",
       "      <td>2013-08-07</td>\n",
       "      <td>2014-04-13</td>\n",
       "      <td>2015-04-14</td>\n",
       "      <td>sfisfxfcocfpcmckuekokxuseixdaoeu</td>\n",
       "      <td>False</td>\n",
       "    </tr>\n",
       "    <tr>\n",
       "      <th>2013-08-07</th>\n",
       "      <td>724c7f276079bbebf77c534a468e1728</td>\n",
       "      <td>NA</td>\n",
       "      <td>lxidpiddsbxsbosboudacockeimpuepw</td>\n",
       "      <td>nan</td>\n",
       "      <td>foosdfpfkusacimwkcsosbicdxkicaua</td>\n",
       "      <td>f</td>\n",
       "      <td>1</td>\n",
       "      <td>2</td>\n",
       "      <td>14004</td>\n",
       "      <td>0</td>\n",
       "      <td>...</td>\n",
       "      <td>0.00</td>\n",
       "      <td>23.40</td>\n",
       "      <td>23.40</td>\n",
       "      <td>158.28</td>\n",
       "      <td>2016-08-07</td>\n",
       "      <td>2013-08-07</td>\n",
       "      <td>NaT</td>\n",
       "      <td>2015-08-09</td>\n",
       "      <td>NA</td>\n",
       "      <td>False</td>\n",
       "    </tr>\n",
       "    <tr>\n",
       "      <th>2013-08-07</th>\n",
       "      <td>39efd04551daed7308f81e987b1492c7</td>\n",
       "      <td>kwuslieomapmswolewpobpplkaooaaew</td>\n",
       "      <td>ldkssxwpmemidmecebumciepifcamkci</td>\n",
       "      <td>nan</td>\n",
       "      <td>usilxuppasemubllopkaafesmlibmsdf</td>\n",
       "      <td>t</td>\n",
       "      <td>2</td>\n",
       "      <td>2</td>\n",
       "      <td>69430</td>\n",
       "      <td>34498</td>\n",
       "      <td>...</td>\n",
       "      <td>1,262.71</td>\n",
       "      <td>7.44</td>\n",
       "      <td>7.44</td>\n",
       "      <td>688.67</td>\n",
       "      <td>2016-08-07</td>\n",
       "      <td>NaT</td>\n",
       "      <td>2014-07-08</td>\n",
       "      <td>2015-08-09</td>\n",
       "      <td>kwuslieomapmswolewpobpplkaooaaew</td>\n",
       "      <td>True</td>\n",
       "    </tr>\n",
       "    <tr>\n",
       "      <th>2013-08-16</th>\n",
       "      <td>47a84301f61c9e35a90c5afca0bc7ab7</td>\n",
       "      <td>NA</td>\n",
       "      <td>lxidpiddsbxsbosboudacockeimpuepw</td>\n",
       "      <td>nan</td>\n",
       "      <td>foosdfpfkusacimwkcsosbicdxkicaua</td>\n",
       "      <td>f</td>\n",
       "      <td>1</td>\n",
       "      <td>2</td>\n",
       "      <td>25352</td>\n",
       "      <td>0</td>\n",
       "      <td>...</td>\n",
       "      <td>187.34</td>\n",
       "      <td>15.24</td>\n",
       "      <td>15.24</td>\n",
       "      <td>296.04</td>\n",
       "      <td>2016-08-16</td>\n",
       "      <td>2013-08-16</td>\n",
       "      <td>2015-07-11</td>\n",
       "      <td>2015-08-17</td>\n",
       "      <td>NA</td>\n",
       "      <td>False</td>\n",
       "    </tr>\n",
       "    <tr>\n",
       "      <th>2013-10-28</th>\n",
       "      <td>49140cc6fdd00ce4b8f864347735d776</td>\n",
       "      <td>fmwdwsxillemwbbwelxsampiuwwpcdcb</td>\n",
       "      <td>ldkssxwpmemidmecebumciepifcamkci</td>\n",
       "      <td>nan</td>\n",
       "      <td>foosdfpfkusacimwkcsosbicdxkicaua</td>\n",
       "      <td>t</td>\n",
       "      <td>2</td>\n",
       "      <td>2</td>\n",
       "      <td>48676</td>\n",
       "      <td>31428</td>\n",
       "      <td>...</td>\n",
       "      <td>0.00</td>\n",
       "      <td>36.03</td>\n",
       "      <td>36.03</td>\n",
       "      <td>423.36</td>\n",
       "      <td>2016-11-07</td>\n",
       "      <td>NaT</td>\n",
       "      <td>2014-11-11</td>\n",
       "      <td>2015-11-09</td>\n",
       "      <td>fmwdwsxillemwbbwelxsampiuwwpcdcb</td>\n",
       "      <td>True</td>\n",
       "    </tr>\n",
       "    <tr>\n",
       "      <th>2013-10-31</th>\n",
       "      <td>b607304ef05bf9556a49310c7ef4c600</td>\n",
       "      <td>NA</td>\n",
       "      <td>ldkssxwpmemidmecebumciepifcamkci</td>\n",
       "      <td>nan</td>\n",
       "      <td>foosdfpfkusacimwkcsosbicdxkicaua</td>\n",
       "      <td>t</td>\n",
       "      <td>2</td>\n",
       "      <td>2</td>\n",
       "      <td>4351</td>\n",
       "      <td>111849</td>\n",
       "      <td>...</td>\n",
       "      <td>41.57</td>\n",
       "      <td>24.20</td>\n",
       "      <td>24.20</td>\n",
       "      <td>54.22</td>\n",
       "      <td>2016-10-31</td>\n",
       "      <td>NaT</td>\n",
       "      <td>2015-08-27</td>\n",
       "      <td>2015-11-01</td>\n",
       "      <td>NA</td>\n",
       "      <td>True</td>\n",
       "    </tr>\n",
       "    <tr>\n",
       "      <th>2013-11-05</th>\n",
       "      <td>ff0ba14787dc2cd65362db505bc41404</td>\n",
       "      <td>ibkiiwcxiccxpoedpweiuxwbxbuewbxm</td>\n",
       "      <td>ldkssxwpmemidmecebumciepifcamkci</td>\n",
       "      <td>nan</td>\n",
       "      <td>foosdfpfkusacimwkcsosbicdxkicaua</td>\n",
       "      <td>f</td>\n",
       "      <td>1</td>\n",
       "      <td>2</td>\n",
       "      <td>20656</td>\n",
       "      <td>0</td>\n",
       "      <td>...</td>\n",
       "      <td>0.00</td>\n",
       "      <td>6.18</td>\n",
       "      <td>6.18</td>\n",
       "      <td>147.66</td>\n",
       "      <td>2016-11-05</td>\n",
       "      <td>NaT</td>\n",
       "      <td>2015-09-18</td>\n",
       "      <td>2015-11-06</td>\n",
       "      <td>ibkiiwcxiccxpoedpweiuxwbxbuewbxm</td>\n",
       "      <td>True</td>\n",
       "    </tr>\n",
       "    <tr>\n",
       "      <th>2013-11-08</th>\n",
       "      <td>985f3ff4ec4e61c5eee84fca79accb5b</td>\n",
       "      <td>fmwdwsxillemwbbwelxsampiuwwpcdcb</td>\n",
       "      <td>ldkssxwpmemidmecebumciepifcamkci</td>\n",
       "      <td>nan</td>\n",
       "      <td>foosdfpfkusacimwkcsosbicdxkicaua</td>\n",
       "      <td>f</td>\n",
       "      <td>1</td>\n",
       "      <td>2</td>\n",
       "      <td>21058</td>\n",
       "      <td>0</td>\n",
       "      <td>...</td>\n",
       "      <td>258.62</td>\n",
       "      <td>3.72</td>\n",
       "      <td>3.72</td>\n",
       "      <td>220.44</td>\n",
       "      <td>2016-11-08</td>\n",
       "      <td>NaT</td>\n",
       "      <td>2015-10-30</td>\n",
       "      <td>2015-11-09</td>\n",
       "      <td>fmwdwsxillemwbbwelxsampiuwwpcdcb</td>\n",
       "      <td>True</td>\n",
       "    </tr>\n",
       "    <tr>\n",
       "      <th>2014-09-01</th>\n",
       "      <td>33bb3af90650ac2e9ecac6ff2c975a6b</td>\n",
       "      <td>axxmxawdwbioollfeexcadkmmksiibcs</td>\n",
       "      <td>lxidpiddsbxsbosboudacockeimpuepw</td>\n",
       "      <td>nan</td>\n",
       "      <td>foosdfpfkusacimwkcsosbicdxkicaua</td>\n",
       "      <td>f</td>\n",
       "      <td>1</td>\n",
       "      <td>1</td>\n",
       "      <td>25572</td>\n",
       "      <td>0</td>\n",
       "      <td>...</td>\n",
       "      <td>199.89</td>\n",
       "      <td>7.69</td>\n",
       "      <td>7.69</td>\n",
       "      <td>307.89</td>\n",
       "      <td>2016-09-01</td>\n",
       "      <td>2014-09-01</td>\n",
       "      <td>2015-08-27</td>\n",
       "      <td>2015-09-02</td>\n",
       "      <td>other</td>\n",
       "      <td>False</td>\n",
       "    </tr>\n",
       "  </tbody>\n",
       "</table>\n",
       "<p>15886 rows × 21 columns</p>\n",
       "</div>"
      ],
      "text/plain": [
       "                                          id  \\\n",
       "date_activ                                     \n",
       "2005-01-01  2b579605333ca465e53d59d48c9f0a1b   \n",
       "2005-01-07  7fb767948e9edd930722609a46cb14e3   \n",
       "2005-01-07  0a87b73bc5dfa50fc0dc20a87bfe25a1   \n",
       "2005-01-12  a5f0362398eacbf6d40570635d5db857   \n",
       "2005-01-13  a6effeb924c64b2dc8120ea7ba600617   \n",
       "2005-01-18  0ab1981333914eaf67caa523e35aab94   \n",
       "2005-01-19  155dafee114c6d9f73f1922353696a27   \n",
       "2005-01-24  16c3208d87f5a27345125d4616473e75   \n",
       "2005-01-24  b47f1c32d6442710226415646db08793   \n",
       "2005-01-24  54e1e0cc721b4f5e25101cf57f5e6ec2   \n",
       "2005-01-25  eb5163da4e79d2026ad498a7f210c3d6   \n",
       "2005-01-26  9f969ba0ac2bd07b06128cee48c6e98a   \n",
       "2005-01-28  a6165b4cce864612240b560b546b0049   \n",
       "2005-02-01  8cd2edbbd2e22e91731ed92524716fcb   \n",
       "2005-02-02  a375227dbd198e4702f2c522c2d78f68   \n",
       "2005-02-04  16ee9f7200c826fe83c9643c489d16c1   \n",
       "2005-02-08  f351b860db60c0937f5cece9c1ba64f8   \n",
       "2005-02-10  4b45ba20656b57c9c7d58d931e0508ff   \n",
       "2005-02-10  d47a1a865315beb6d5200b892458d0ba   \n",
       "2005-02-11  601fe50a9238fb4ad11baf994723b2b8   \n",
       "2005-02-14  b19e227a1f66d1a6eda99221d5ce5c9e   \n",
       "2005-02-15  508270ed10444f95ce306fc4b7dcf3c7   \n",
       "2005-02-18  6e665a8ca9793322d26da85913f66070   \n",
       "2005-02-22  f55c7b6e8223efc78243b983ffffbf03   \n",
       "2005-02-22  da222d184c76e025cbaac3ec4ab0a8b7   \n",
       "2005-02-25  c434cf7b19cbb5e6a98edaec9cd3fbd4   \n",
       "2005-02-28  674b4a8055d97c11e16633883443262a   \n",
       "2005-02-28  b86c5461640fafb75ea7ff46d67ffe73   \n",
       "2005-02-28  dff0d9799d160410bea9cb244831dcd8   \n",
       "2005-02-28  594f4d5a26a95147f4a0afbe5b5ae0a7   \n",
       "...                                      ...   \n",
       "2013-07-01  7fa56eeb6bcc28fe48e4cabb65c76243   \n",
       "2013-07-02  ec139adfd7ce273d1d9efc8a9dda4f24   \n",
       "2013-07-02  2e068172f26537586399007ace621740   \n",
       "2013-07-03  16969920b7720a5cddf6fc5802ba1410   \n",
       "2013-07-04  8b456e817e3daee08ccc958c70a85013   \n",
       "2013-07-04  67bd8297a2bf842f64cfe58224612e7f   \n",
       "2013-07-04  a020b85d573fa4fb1c2d11f972fe57e4   \n",
       "2013-07-05  42af6b883911239ba4e8b4fc322098c2   \n",
       "2013-07-09  b85c962e6449fbfa7eedfe39aff1530c   \n",
       "2013-07-09  cd43b1747496605c425891bb64701c10   \n",
       "2013-07-09  240e4b4d55561b441cb3e719b2e54930   \n",
       "2013-07-10  6a80819cda06292fa636a742a017d46f   \n",
       "2013-07-11  eee152612f862cc5e1f8b7e2a2479ceb   \n",
       "2013-07-12  85f8a77c5f5ff430769bb169bfef5cf7   \n",
       "2013-07-24  8bdcd1e4ee19ef24c545d2ca352f7622   \n",
       "2013-07-25  2a5dc830d0f2810a9f1fef26e8e594b4   \n",
       "2013-07-29  5ed780807931302a567d143328d317d5   \n",
       "2013-07-29  1bc95bcc3723d3bcb78b9440bbfef63e   \n",
       "2013-08-01  9c36ebbcde4ce2667e707099426ccf82   \n",
       "2013-08-05  c9c069708535084ed251ff72ebb1b197   \n",
       "2013-08-05  fbf22683f4b1b942b5f949a3715ed4ca   \n",
       "2013-08-07  c60418f2d939a468fb18a13902901e35   \n",
       "2013-08-07  724c7f276079bbebf77c534a468e1728   \n",
       "2013-08-07  39efd04551daed7308f81e987b1492c7   \n",
       "2013-08-16  47a84301f61c9e35a90c5afca0bc7ab7   \n",
       "2013-10-28  49140cc6fdd00ce4b8f864347735d776   \n",
       "2013-10-31  b607304ef05bf9556a49310c7ef4c600   \n",
       "2013-11-05  ff0ba14787dc2cd65362db505bc41404   \n",
       "2013-11-08  985f3ff4ec4e61c5eee84fca79accb5b   \n",
       "2014-09-01  33bb3af90650ac2e9ecac6ff2c975a6b   \n",
       "\n",
       "                                activity_new  \\\n",
       "date_activ                                     \n",
       "2005-01-01  fmwdwsxillemwbbwelxsampiuwwpcdcb   \n",
       "2005-01-07                                NA   \n",
       "2005-01-07  daobdssbkieoukwxbopxiiospudkopwl   \n",
       "2005-01-12                                NA   \n",
       "2005-01-13                                NA   \n",
       "2005-01-18                                NA   \n",
       "2005-01-19  wlxfbefauebfbauopppswxppaafdkoap   \n",
       "2005-01-24                                NA   \n",
       "2005-01-24                                NA   \n",
       "2005-01-24  fcbfabofwcdaosksieduepeeusawfdsi   \n",
       "2005-01-25                                NA   \n",
       "2005-01-26                                NA   \n",
       "2005-01-28  xclapbmiasllcspuclsumusikimpckek   \n",
       "2005-02-01  fmwdwsxillemwbbwelxsampiuwwpcdcb   \n",
       "2005-02-02                                NA   \n",
       "2005-02-04                                NA   \n",
       "2005-02-08                                NA   \n",
       "2005-02-10  fupwmsbfffpmcasudlsdmxckmuxsuaku   \n",
       "2005-02-10                                NA   \n",
       "2005-02-11  pbpfffswspwswuxudcdibsmdkpokflmi   \n",
       "2005-02-14  sxublbwoeuckkocekklxkllcdxxaisop   \n",
       "2005-02-15                                NA   \n",
       "2005-02-18  fxwoeaeiuwupxmeoxdmbfeefexbiuufi   \n",
       "2005-02-22  xbsbaipfluioualwapemiublmepsbuoo   \n",
       "2005-02-22                                NA   \n",
       "2005-02-25                                NA   \n",
       "2005-02-28  xbsbaipfluioualwapemiublmepsbuoo   \n",
       "2005-02-28  fkmblacmaapkaoauabpwpuweokkeiali   \n",
       "2005-02-28  dmklwapxmxxalfwupxepeiuoooduaueb   \n",
       "2005-02-28  kkpddsilciodwwwffucmkflilcpfaumo   \n",
       "...                                      ...   \n",
       "2013-07-01                                NA   \n",
       "2013-07-02  apdekpcbwosbxepsfxclislboipuxpop   \n",
       "2013-07-02                                NA   \n",
       "2013-07-03                                NA   \n",
       "2013-07-04                                NA   \n",
       "2013-07-04                                NA   \n",
       "2013-07-04                                NA   \n",
       "2013-07-05                                NA   \n",
       "2013-07-09                                NA   \n",
       "2013-07-09                                NA   \n",
       "2013-07-09                                NA   \n",
       "2013-07-10                                NA   \n",
       "2013-07-11  kkpddsilciodwwwffucmkflilcpfaumo   \n",
       "2013-07-12                                NA   \n",
       "2013-07-24                                NA   \n",
       "2013-07-25                                NA   \n",
       "2013-07-29                                NA   \n",
       "2013-07-29  wlxfbefauebfbauopppswxppaafdkoap   \n",
       "2013-08-01  kwuslieomapmswolewpobpplkaooaaew   \n",
       "2013-08-05  akokxbmlwukcmwlimosloemdplieuuwm   \n",
       "2013-08-05                                NA   \n",
       "2013-08-07  sfisfxfcocfpcmckuekokxuseixdaoeu   \n",
       "2013-08-07                                NA   \n",
       "2013-08-07  kwuslieomapmswolewpobpplkaooaaew   \n",
       "2013-08-16                                NA   \n",
       "2013-10-28  fmwdwsxillemwbbwelxsampiuwwpcdcb   \n",
       "2013-10-31                                NA   \n",
       "2013-11-05  ibkiiwcxiccxpoedpweiuxwbxbuewbxm   \n",
       "2013-11-08  fmwdwsxillemwbbwelxsampiuwwpcdcb   \n",
       "2014-09-01  axxmxawdwbioollfeexcadkmmksiibcs   \n",
       "\n",
       "                                   origin_up  campaign_disc_ele  \\\n",
       "date_activ                                                        \n",
       "2005-01-01  ldkssxwpmemidmecebumciepifcamkci                nan   \n",
       "2005-01-07  ldkssxwpmemidmecebumciepifcamkci                nan   \n",
       "2005-01-07  ldkssxwpmemidmecebumciepifcamkci                nan   \n",
       "2005-01-12  ldkssxwpmemidmecebumciepifcamkci                nan   \n",
       "2005-01-13  ldkssxwpmemidmecebumciepifcamkci                nan   \n",
       "2005-01-18  ldkssxwpmemidmecebumciepifcamkci                nan   \n",
       "2005-01-19  ldkssxwpmemidmecebumciepifcamkci                nan   \n",
       "2005-01-24  ldkssxwpmemidmecebumciepifcamkci                nan   \n",
       "2005-01-24  ldkssxwpmemidmecebumciepifcamkci                nan   \n",
       "2005-01-24  ldkssxwpmemidmecebumciepifcamkci                nan   \n",
       "2005-01-25  ldkssxwpmemidmecebumciepifcamkci                nan   \n",
       "2005-01-26  ldkssxwpmemidmecebumciepifcamkci                nan   \n",
       "2005-01-28  ldkssxwpmemidmecebumciepifcamkci                nan   \n",
       "2005-02-01  ldkssxwpmemidmecebumciepifcamkci                nan   \n",
       "2005-02-02  ldkssxwpmemidmecebumciepifcamkci                nan   \n",
       "2005-02-04  ldkssxwpmemidmecebumciepifcamkci                nan   \n",
       "2005-02-08  lxidpiddsbxsbosboudacockeimpuepw                nan   \n",
       "2005-02-10  ldkssxwpmemidmecebumciepifcamkci                nan   \n",
       "2005-02-10  ldkssxwpmemidmecebumciepifcamkci                nan   \n",
       "2005-02-11  ldkssxwpmemidmecebumciepifcamkci                nan   \n",
       "2005-02-14  ldkssxwpmemidmecebumciepifcamkci                nan   \n",
       "2005-02-15  ldkssxwpmemidmecebumciepifcamkci                nan   \n",
       "2005-02-18  ldkssxwpmemidmecebumciepifcamkci                nan   \n",
       "2005-02-22  ldkssxwpmemidmecebumciepifcamkci                nan   \n",
       "2005-02-22  ldkssxwpmemidmecebumciepifcamkci                nan   \n",
       "2005-02-25  ldkssxwpmemidmecebumciepifcamkci                nan   \n",
       "2005-02-28  ldkssxwpmemidmecebumciepifcamkci                nan   \n",
       "2005-02-28  ldkssxwpmemidmecebumciepifcamkci                nan   \n",
       "2005-02-28  ldkssxwpmemidmecebumciepifcamkci                nan   \n",
       "2005-02-28  ldkssxwpmemidmecebumciepifcamkci                nan   \n",
       "...                                      ...                ...   \n",
       "2013-07-01  ldkssxwpmemidmecebumciepifcamkci                nan   \n",
       "2013-07-02  ldkssxwpmemidmecebumciepifcamkci                nan   \n",
       "2013-07-02  ldkssxwpmemidmecebumciepifcamkci                nan   \n",
       "2013-07-03  lxidpiddsbxsbosboudacockeimpuepw                nan   \n",
       "2013-07-04  lxidpiddsbxsbosboudacockeimpuepw                nan   \n",
       "2013-07-04  ldkssxwpmemidmecebumciepifcamkci                nan   \n",
       "2013-07-04  ldkssxwpmemidmecebumciepifcamkci                nan   \n",
       "2013-07-05  lxidpiddsbxsbosboudacockeimpuepw                nan   \n",
       "2013-07-09  lxidpiddsbxsbosboudacockeimpuepw                nan   \n",
       "2013-07-09  ldkssxwpmemidmecebumciepifcamkci                nan   \n",
       "2013-07-09  lxidpiddsbxsbosboudacockeimpuepw                nan   \n",
       "2013-07-10  lxidpiddsbxsbosboudacockeimpuepw                nan   \n",
       "2013-07-11  ldkssxwpmemidmecebumciepifcamkci                nan   \n",
       "2013-07-12  ldkssxwpmemidmecebumciepifcamkci                nan   \n",
       "2013-07-24  lxidpiddsbxsbosboudacockeimpuepw                nan   \n",
       "2013-07-25  lxidpiddsbxsbosboudacockeimpuepw                nan   \n",
       "2013-07-29  kamkkxfxxuwbdslkwifmmcsiusiuosws                nan   \n",
       "2013-07-29  lxidpiddsbxsbosboudacockeimpuepw                nan   \n",
       "2013-08-01  lxidpiddsbxsbosboudacockeimpuepw                nan   \n",
       "2013-08-05  lxidpiddsbxsbosboudacockeimpuepw                nan   \n",
       "2013-08-05  lxidpiddsbxsbosboudacockeimpuepw                nan   \n",
       "2013-08-07  lxidpiddsbxsbosboudacockeimpuepw                nan   \n",
       "2013-08-07  lxidpiddsbxsbosboudacockeimpuepw                nan   \n",
       "2013-08-07  ldkssxwpmemidmecebumciepifcamkci                nan   \n",
       "2013-08-16  lxidpiddsbxsbosboudacockeimpuepw                nan   \n",
       "2013-10-28  ldkssxwpmemidmecebumciepifcamkci                nan   \n",
       "2013-10-31  ldkssxwpmemidmecebumciepifcamkci                nan   \n",
       "2013-11-05  ldkssxwpmemidmecebumciepifcamkci                nan   \n",
       "2013-11-08  ldkssxwpmemidmecebumciepifcamkci                nan   \n",
       "2014-09-01  lxidpiddsbxsbosboudacockeimpuepw                nan   \n",
       "\n",
       "                               channel_sales has_gas  nb_prod_act  \\\n",
       "date_activ                                                          \n",
       "2005-01-01                               NaN       f            1   \n",
       "2005-01-07                               NaN       f            1   \n",
       "2005-01-07                               NaN       f            1   \n",
       "2005-01-12                               NaN       f            1   \n",
       "2005-01-13                               NaN       f            1   \n",
       "2005-01-18                               NaN       f            2   \n",
       "2005-01-19                               NaN       f            1   \n",
       "2005-01-24                               NaN       f            1   \n",
       "2005-01-24                               NaN       f            2   \n",
       "2005-01-24                               NaN       f            1   \n",
       "2005-01-25                               NaN       t            2   \n",
       "2005-01-26                               NaN       f            1   \n",
       "2005-01-28                               NaN       f            1   \n",
       "2005-02-01                               NaN       t            2   \n",
       "2005-02-02                               NaN       f            1   \n",
       "2005-02-04                               NaN       f            1   \n",
       "2005-02-08                               NaN       f            1   \n",
       "2005-02-10                               NaN       f            1   \n",
       "2005-02-10                               NaN       t            2   \n",
       "2005-02-11                               NaN       f            1   \n",
       "2005-02-14                               NaN       f            1   \n",
       "2005-02-15                               NaN       t            2   \n",
       "2005-02-18                               NaN       f            1   \n",
       "2005-02-22                               NaN       f            1   \n",
       "2005-02-22                               NaN       f            1   \n",
       "2005-02-25  lmkebamcaaclubfxadlmueccxoimlema       f            1   \n",
       "2005-02-28                               NaN       f            1   \n",
       "2005-02-28                               NaN       f            1   \n",
       "2005-02-28                               NaN       f            1   \n",
       "2005-02-28                               NaN       f            1   \n",
       "...                                      ...     ...          ...   \n",
       "2013-07-01  lmkebamcaaclubfxadlmueccxoimlema       f            1   \n",
       "2013-07-02  fixdbufsefwooaasfcxdxadsiekoceaa       t            2   \n",
       "2013-07-02  lmkebamcaaclubfxadlmueccxoimlema       f            1   \n",
       "2013-07-03  foosdfpfkusacimwkcsosbicdxkicaua       f            1   \n",
       "2013-07-04  foosdfpfkusacimwkcsosbicdxkicaua       f            1   \n",
       "2013-07-04  ewpakwlliwisiwduibdlfmalxowmwpci       f            1   \n",
       "2013-07-04  sddiedcslfslkckwlfkdpoeeailfpeds       f            1   \n",
       "2013-07-05  foosdfpfkusacimwkcsosbicdxkicaua       f            1   \n",
       "2013-07-09  foosdfpfkusacimwkcsosbicdxkicaua       f            1   \n",
       "2013-07-09  sddiedcslfslkckwlfkdpoeeailfpeds       f            1   \n",
       "2013-07-09  foosdfpfkusacimwkcsosbicdxkicaua       f            1   \n",
       "2013-07-10  foosdfpfkusacimwkcsosbicdxkicaua       t            2   \n",
       "2013-07-11  usilxuppasemubllopkaafesmlibmsdf       t            5   \n",
       "2013-07-12  lmkebamcaaclubfxadlmueccxoimlema       f            1   \n",
       "2013-07-24  foosdfpfkusacimwkcsosbicdxkicaua       f            1   \n",
       "2013-07-25  foosdfpfkusacimwkcsosbicdxkicaua       f            1   \n",
       "2013-07-29  sddiedcslfslkckwlfkdpoeeailfpeds       f            1   \n",
       "2013-07-29  foosdfpfkusacimwkcsosbicdxkicaua       f            1   \n",
       "2013-08-01  foosdfpfkusacimwkcsosbicdxkicaua       f            1   \n",
       "2013-08-05  foosdfpfkusacimwkcsosbicdxkicaua       t            2   \n",
       "2013-08-05  foosdfpfkusacimwkcsosbicdxkicaua       f            1   \n",
       "2013-08-07  foosdfpfkusacimwkcsosbicdxkicaua       t            2   \n",
       "2013-08-07  foosdfpfkusacimwkcsosbicdxkicaua       f            1   \n",
       "2013-08-07  usilxuppasemubllopkaafesmlibmsdf       t            2   \n",
       "2013-08-16  foosdfpfkusacimwkcsosbicdxkicaua       f            1   \n",
       "2013-10-28  foosdfpfkusacimwkcsosbicdxkicaua       t            2   \n",
       "2013-10-31  foosdfpfkusacimwkcsosbicdxkicaua       t            2   \n",
       "2013-11-05  foosdfpfkusacimwkcsosbicdxkicaua       f            1   \n",
       "2013-11-08  foosdfpfkusacimwkcsosbicdxkicaua       f            1   \n",
       "2014-09-01  foosdfpfkusacimwkcsosbicdxkicaua       f            1   \n",
       "\n",
       "            num_years_antig  cons_12m  cons_gas_12m  ...  imp_cons  \\\n",
       "date_activ                                           ...             \n",
       "2005-01-01               11    184338             0  ...    232.94   \n",
       "2005-01-07               11     46203             0  ...    406.28   \n",
       "2005-01-07               11     65431             0  ...    656.82   \n",
       "2005-01-12               11     41600             0  ...    380.44   \n",
       "2005-01-13               11     89022             0  ...  1,584.78   \n",
       "2005-01-18               11     51748             0  ...    904.49   \n",
       "2005-01-19               11    267470             0  ...  2,319.17   \n",
       "2005-01-24               11      3405             0  ...     67.13   \n",
       "2005-01-24               11     73482             0  ...  1,074.36   \n",
       "2005-01-24               11     62036             0  ...    480.44   \n",
       "2005-01-25               11     42639         45710  ...    386.24   \n",
       "2005-01-26               11     26973             0  ...    105.28   \n",
       "2005-01-28               11    141030             0  ...    231.45   \n",
       "2005-02-01               11     40712         55638  ...    293.71   \n",
       "2005-02-02               11      5207             0  ...      0.00   \n",
       "2005-02-04               11     26790             0  ...    322.04   \n",
       "2005-02-08               11      6841             0  ...     45.18   \n",
       "2005-02-10               11    287252             0  ...      0.00   \n",
       "2005-02-10               11     64455          8049  ...    201.16   \n",
       "2005-02-11               11     53800             0  ...    346.67   \n",
       "2005-02-14               11    132033             0  ...    322.46   \n",
       "2005-02-15               11     24883          7386  ...    267.49   \n",
       "2005-02-18               11      5478             0  ...     57.71   \n",
       "2005-02-22               11     20925             0  ...    209.98   \n",
       "2005-02-22               11     14381             0  ...    115.82   \n",
       "2005-02-25               11     88604             0  ...    575.12   \n",
       "2005-02-28               11     23159             0  ...    411.84   \n",
       "2005-02-28               11    125892             0  ...    226.46   \n",
       "2005-02-28               11     90551             0  ...  1,188.61   \n",
       "2005-02-28               11     38387             0  ...    338.04   \n",
       "...                     ...       ...           ...  ...       ...   \n",
       "2013-07-01                3     20486             0  ...      8.54   \n",
       "2013-07-02                3   2503923        475413  ...    905.80   \n",
       "2013-07-02                3      4378             0  ...     70.64   \n",
       "2013-07-03                3      5953             0  ...     88.81   \n",
       "2013-07-04                3     21380             0  ...    272.17   \n",
       "2013-07-04                3      2542             0  ...     29.75   \n",
       "2013-07-04                3     17841             0  ...      0.00   \n",
       "2013-07-05                3      8159             0  ...     89.32   \n",
       "2013-07-09                3     33856             0  ...    325.62   \n",
       "2013-07-09                3      7673             0  ...      0.00   \n",
       "2013-07-09                3      5100             0  ...      0.00   \n",
       "2013-07-10                3     10135         14967  ...      0.00   \n",
       "2013-07-11                3    311060        450531  ...    291.97   \n",
       "2013-07-12                3     12263             0  ...     15.73   \n",
       "2013-07-24                3     27705             0  ...    255.84   \n",
       "2013-07-25                3      5658             0  ...     42.45   \n",
       "2013-07-29                3     11409             0  ...    141.23   \n",
       "2013-07-29                3     14313             0  ...      0.00   \n",
       "2013-08-01                2     34108             0  ...     14.49   \n",
       "2013-08-05                2      6737          5075  ...      0.00   \n",
       "2013-08-05                2     12580             0  ...    331.14   \n",
       "2013-08-07                2     16736           308  ...    132.96   \n",
       "2013-08-07                2     14004             0  ...      0.00   \n",
       "2013-08-07                2     69430         34498  ...  1,262.71   \n",
       "2013-08-16                2     25352             0  ...    187.34   \n",
       "2013-10-28                2     48676         31428  ...      0.00   \n",
       "2013-10-31                2      4351        111849  ...     41.57   \n",
       "2013-11-05                2     20656             0  ...      0.00   \n",
       "2013-11-08                2     21058             0  ...    258.62   \n",
       "2014-09-01                1     25572             0  ...    199.89   \n",
       "\n",
       "            margin_gross_pow_ele  margin_net_pow_ele  net_margin   date_end  \\\n",
       "date_activ                                                                    \n",
       "2005-01-01                 29.64               29.64      314.01 2017-01-01   \n",
       "2005-01-07                 62.28               62.28      530.56 2017-01-07   \n",
       "2005-01-07                 19.68               19.68      572.88 2016-03-06   \n",
       "2005-01-12                 49.44               49.44      469.40 2017-01-12   \n",
       "2005-01-13                 52.44               52.44      753.31 2016-02-14   \n",
       "2005-01-18                 29.64               29.64      441.07 2017-01-18   \n",
       "2005-01-19                 -0.24               -0.24    1,301.37 2016-02-21   \n",
       "2005-01-24                 23.76               23.76       51.57 2016-06-20   \n",
       "2005-01-24                 19.80               19.80      623.04 2017-01-24   \n",
       "2005-01-24                 26.40               26.40      532.31 2017-01-24   \n",
       "2005-01-25                 45.80               45.80      426.02 2016-06-26   \n",
       "2005-01-26                 24.72               24.72      278.11 2017-01-26   \n",
       "2005-01-28                 31.21               31.21      353.47 2016-03-11   \n",
       "2005-02-01                 29.64               29.64      490.79 2016-02-01   \n",
       "2005-02-02                  0.12                0.12       76.29 2016-02-15   \n",
       "2005-02-04                 22.44               22.44      295.78 2016-02-04   \n",
       "2005-02-08                 33.12               33.12       31.15 2016-02-08   \n",
       "2005-02-10                 19.28               19.28     -282.37 2016-05-06   \n",
       "2005-02-10                 39.60               39.60      307.05 2016-02-10   \n",
       "2005-02-11                 29.88               29.88      473.62 2016-02-11   \n",
       "2005-02-14                 78.60               78.60      473.04 2016-06-19   \n",
       "2005-02-15                 29.64               29.64      274.16 2016-02-15   \n",
       "2005-02-18                103.68              103.68       62.70 2016-02-18   \n",
       "2005-02-22                 63.60               63.60      227.90 2016-02-22   \n",
       "2005-02-22                 30.00               30.00      163.37 2016-02-22   \n",
       "2005-02-25                 23.04               23.04      751.14 2016-02-25   \n",
       "2005-02-28                 44.52               44.52      248.88 2016-02-29   \n",
       "2005-02-28                 22.44               22.44      182.68 2016-02-29   \n",
       "2005-02-28                 29.88               29.88      460.84 2016-02-29   \n",
       "2005-02-28                 29.64               29.64      416.60 2016-02-29   \n",
       "...                          ...                 ...         ...        ...   \n",
       "2013-07-01                 15.16               15.16      221.52 2016-06-01   \n",
       "2013-07-02                 38.53               38.53      376.02 2016-07-02   \n",
       "2013-07-02                 37.54               37.54       56.15 2016-07-02   \n",
       "2013-07-03                 26.04               26.04       89.32 2017-01-22   \n",
       "2013-07-04                 16.59               16.59      146.67 2016-07-04   \n",
       "2013-07-04                 19.48               19.48       32.16 2016-07-04   \n",
       "2013-07-04                 25.70               25.70      161.37 2016-06-05   \n",
       "2013-07-05                 22.17               22.17       92.62 2016-07-05   \n",
       "2013-07-09                 15.45               15.45      416.97 2016-07-09   \n",
       "2013-07-09                 21.48               21.48      108.56 2016-04-23   \n",
       "2013-07-09                 19.48               19.48       73.53 2016-07-09   \n",
       "2013-07-10                 16.87               16.87      129.12 2016-07-10   \n",
       "2013-07-11                 17.45               17.45      192.22 2016-07-11   \n",
       "2013-07-12                 13.10               13.10      153.16 2016-07-12   \n",
       "2013-07-24                 13.32               13.32      272.99 2016-07-24   \n",
       "2013-07-25                 22.31               22.31       77.18 2016-07-25   \n",
       "2013-07-29                 55.32               55.32      142.48 2016-02-25   \n",
       "2013-07-29                 15.10               15.10      179.92 2016-07-29   \n",
       "2013-08-01                 10.32               10.32      374.22 2016-08-01   \n",
       "2013-08-05                 17.82               17.82      122.43 2016-08-05   \n",
       "2013-08-05                 13.32               13.32      210.02 2016-08-05   \n",
       "2013-08-07                 33.74               33.74      145.91 2016-04-13   \n",
       "2013-08-07                 23.40               23.40      158.28 2016-08-07   \n",
       "2013-08-07                  7.44                7.44      688.67 2016-08-07   \n",
       "2013-08-16                 15.24               15.24      296.04 2016-08-16   \n",
       "2013-10-28                 36.03               36.03      423.36 2016-11-07   \n",
       "2013-10-31                 24.20               24.20       54.22 2016-10-31   \n",
       "2013-11-05                  6.18                6.18      147.66 2016-11-05   \n",
       "2013-11-08                  3.72                3.72      220.44 2016-11-08   \n",
       "2014-09-01                  7.69                7.69      307.89 2016-09-01   \n",
       "\n",
       "           date_first_activ date_modif_prod date_renewal  \\\n",
       "date_activ                                                 \n",
       "2005-01-01              NaT      2015-05-24   2016-01-02   \n",
       "2005-01-07              NaT      2005-01-07   2016-01-08   \n",
       "2005-01-07              NaT      2015-03-09   2015-03-09   \n",
       "2005-01-12              NaT      2016-01-14   2016-01-14   \n",
       "2005-01-13              NaT      2005-01-13   2015-02-16   \n",
       "2005-01-18              NaT      2015-05-24   2016-01-19   \n",
       "2005-01-19              NaT      2005-01-19   2015-02-23   \n",
       "2005-01-24              NaT      2014-02-20   2015-06-23   \n",
       "2005-01-24              NaT      2015-12-17   2016-01-25   \n",
       "2005-01-24              NaT      2005-01-24   2016-01-25   \n",
       "2005-01-25              NaT      2014-06-26   2015-07-04   \n",
       "2005-01-26              NaT      2005-01-26   2016-01-27   \n",
       "2005-01-28              NaT      2015-03-09   2015-03-13   \n",
       "2005-02-01              NaT      2005-02-01   2015-02-02   \n",
       "2005-02-02              NaT             NaT   2015-02-16   \n",
       "2005-02-04              NaT      2005-02-04   2015-02-05   \n",
       "2005-02-08       2005-02-08      2005-02-08   2015-02-09   \n",
       "2005-02-10              NaT      2015-06-24          NaT   \n",
       "2005-02-10              NaT      2005-02-10   2015-02-11   \n",
       "2005-02-11              NaT      2015-02-05   2015-02-12   \n",
       "2005-02-14              NaT      2014-06-19   2015-06-23   \n",
       "2005-02-15              NaT      2005-02-15   2015-02-16   \n",
       "2005-02-18              NaT      2005-02-18   2015-02-20   \n",
       "2005-02-22              NaT      2015-02-05   2015-02-23   \n",
       "2005-02-22              NaT      2005-02-22   2015-02-23   \n",
       "2005-02-25              NaT      2005-02-25   2015-02-26   \n",
       "2005-02-28              NaT      2015-03-09   2015-03-06   \n",
       "2005-02-28              NaT      2015-03-09   2015-03-06   \n",
       "2005-02-28              NaT      2015-04-18   2015-03-06   \n",
       "2005-02-28              NaT      2015-03-09   2015-03-06   \n",
       "...                     ...             ...          ...   \n",
       "2013-07-01              NaT      2014-05-26   2015-06-08   \n",
       "2013-07-02              NaT             NaT   2015-07-04   \n",
       "2013-07-02              NaT             NaT   2015-07-04   \n",
       "2013-07-03              NaT      2015-11-18   2014-07-14   \n",
       "2013-07-04              NaT             NaT   2015-07-08   \n",
       "2013-07-04              NaT             NaT   2015-07-15   \n",
       "2013-07-04              NaT      2014-06-05   2015-06-10   \n",
       "2013-07-05              NaT      2015-06-20   2015-07-08   \n",
       "2013-07-09              NaT      2014-06-17   2015-07-12   \n",
       "2013-07-09              NaT      2014-04-23   2015-04-24   \n",
       "2013-07-09       2013-07-09             NaT   2015-07-12   \n",
       "2013-07-10              NaT             NaT   2015-07-12   \n",
       "2013-07-11              NaT             NaT   2015-07-12   \n",
       "2013-07-12              NaT      2015-05-23   2015-07-14   \n",
       "2013-07-24       2013-07-24      2015-06-16   2015-07-27   \n",
       "2013-07-25       2013-07-25      2015-06-16   2015-07-27   \n",
       "2013-07-29              NaT      2014-02-25   2015-02-26   \n",
       "2013-07-29              NaT             NaT   2015-07-31   \n",
       "2013-08-01              NaT             NaT   2015-08-02   \n",
       "2013-08-05              NaT             NaT   2015-08-06   \n",
       "2013-08-05              NaT             NaT   2015-08-06   \n",
       "2013-08-07       2013-08-07      2014-04-13   2015-04-14   \n",
       "2013-08-07       2013-08-07             NaT   2015-08-09   \n",
       "2013-08-07              NaT      2014-07-08   2015-08-09   \n",
       "2013-08-16       2013-08-16      2015-07-11   2015-08-17   \n",
       "2013-10-28              NaT      2014-11-11   2015-11-09   \n",
       "2013-10-31              NaT      2015-08-27   2015-11-01   \n",
       "2013-11-05              NaT      2015-09-18   2015-11-06   \n",
       "2013-11-08              NaT      2015-10-30   2015-11-09   \n",
       "2014-09-01       2014-09-01      2015-08-27   2015-09-02   \n",
       "\n",
       "                          activity_new_clean First_activ_Tag  \n",
       "date_activ                                                    \n",
       "2005-01-01  fmwdwsxillemwbbwelxsampiuwwpcdcb            True  \n",
       "2005-01-07                                NA            True  \n",
       "2005-01-07  daobdssbkieoukwxbopxiiospudkopwl            True  \n",
       "2005-01-12                                NA            True  \n",
       "2005-01-13                                NA            True  \n",
       "2005-01-18                                NA            True  \n",
       "2005-01-19                             other            True  \n",
       "2005-01-24                                NA            True  \n",
       "2005-01-24                                NA            True  \n",
       "2005-01-24                             other            True  \n",
       "2005-01-25                                NA            True  \n",
       "2005-01-26                                NA            True  \n",
       "2005-01-28                             other            True  \n",
       "2005-02-01  fmwdwsxillemwbbwelxsampiuwwpcdcb            True  \n",
       "2005-02-02                                NA            True  \n",
       "2005-02-04                                NA            True  \n",
       "2005-02-08                                NA           False  \n",
       "2005-02-10                             other            True  \n",
       "2005-02-10                                NA            True  \n",
       "2005-02-11                             other            True  \n",
       "2005-02-14  sxublbwoeuckkocekklxkllcdxxaisop            True  \n",
       "2005-02-15                                NA            True  \n",
       "2005-02-18                             other            True  \n",
       "2005-02-22                             other            True  \n",
       "2005-02-22                                NA            True  \n",
       "2005-02-25                                NA            True  \n",
       "2005-02-28                             other            True  \n",
       "2005-02-28                             other            True  \n",
       "2005-02-28                             other            True  \n",
       "2005-02-28                             other            True  \n",
       "...                                      ...             ...  \n",
       "2013-07-01                                NA            True  \n",
       "2013-07-02  apdekpcbwosbxepsfxclislboipuxpop            True  \n",
       "2013-07-02                                NA            True  \n",
       "2013-07-03                                NA            True  \n",
       "2013-07-04                                NA            True  \n",
       "2013-07-04                                NA            True  \n",
       "2013-07-04                                NA            True  \n",
       "2013-07-05                                NA            True  \n",
       "2013-07-09                                NA            True  \n",
       "2013-07-09                                NA            True  \n",
       "2013-07-09                                NA           False  \n",
       "2013-07-10                                NA            True  \n",
       "2013-07-11                             other            True  \n",
       "2013-07-12                                NA            True  \n",
       "2013-07-24                                NA           False  \n",
       "2013-07-25                                NA           False  \n",
       "2013-07-29                                NA            True  \n",
       "2013-07-29                             other            True  \n",
       "2013-08-01  kwuslieomapmswolewpobpplkaooaaew            True  \n",
       "2013-08-05                             other            True  \n",
       "2013-08-05                                NA            True  \n",
       "2013-08-07  sfisfxfcocfpcmckuekokxuseixdaoeu           False  \n",
       "2013-08-07                                NA           False  \n",
       "2013-08-07  kwuslieomapmswolewpobpplkaooaaew            True  \n",
       "2013-08-16                                NA           False  \n",
       "2013-10-28  fmwdwsxillemwbbwelxsampiuwwpcdcb            True  \n",
       "2013-10-31                                NA            True  \n",
       "2013-11-05  ibkiiwcxiccxpoedpweiuxwbxbuewbxm            True  \n",
       "2013-11-08  fmwdwsxillemwbbwelxsampiuwwpcdcb            True  \n",
       "2014-09-01                             other           False  \n",
       "\n",
       "[15886 rows x 21 columns]"
      ]
     },
     "execution_count": 227,
     "metadata": {},
     "output_type": "execute_result"
    }
   ],
   "source": [
    "T.set_index('date_activ')['2005-01-01':]"
   ]
  },
  {
   "cell_type": "code",
   "execution_count": null,
   "metadata": {
    "collapsed": true
   },
   "outputs": [],
   "source": [
    "TS_Sample=T.copy()[]"
   ]
  },
  {
   "cell_type": "markdown",
   "metadata": {},
   "source": [
    "* done with cleaning"
   ]
  },
  {
   "cell_type": "code",
   "execution_count": 392,
   "metadata": {
    "collapsed": false
   },
   "outputs": [
    {
     "data": {
      "text/plain": [
       "[<matplotlib.lines.Line2D at 0x191084e5cf8>]"
      ]
     },
     "execution_count": 392,
     "metadata": {},
     "output_type": "execute_result"
    },
    {
     "data": {
      "image/png": "[encoded data removed]",
      "text/plain": [
       "<matplotlib.figure.Figure at 0x1910358a668>"
      ]
     },
     "metadata": {},
     "output_type": "display_data"
    }
   ],
   "source": [
    "plt.plot(data1['origin_up'],data1['forecast_cons_12m'], 'bo')"
   ]
  },
  {
   "cell_type": "code",
   "execution_count": null,
   "metadata": {
    "collapsed": true
   },
   "outputs": [],
   "source": [
    "# We have to apply the same changes to our test data as well, which\n",
    "# is relatively straightforward as it involves repeating the same code\n",
    "# as above but for the test data."
   ]
  },
  {
   "cell_type": "code",
   "execution_count": 398,
   "metadata": {
    "collapsed": true
   },
   "outputs": [],
   "source": [
    "data2 = pd.read_csv(\"ml_case_test_data.csv\")"
   ]
  },
  {
   "cell_type": "code",
   "execution_count": 399,
   "metadata": {
    "collapsed": false
   },
   "outputs": [
    {
     "name": "stdout",
     "output_type": "stream",
     "text": [
      "<class 'pandas.core.frame.DataFrame'>\n",
      "RangeIndex: 4024 entries, 0 to 4023\n",
      "Data columns (total 32 columns):\n",
      "id                          4024 non-null object\n",
      "activity_new                1670 non-null object\n",
      "campaign_disc_ele           0 non-null float64\n",
      "channel_sales               2968 non-null object\n",
      "cons_12m                    4024 non-null int64\n",
      "cons_gas_12m                4024 non-null int64\n",
      "cons_last_month             4024 non-null int64\n",
      "date_activ                  4024 non-null object\n",
      "date_end                    4024 non-null object\n",
      "date_first_activ            877 non-null object\n",
      "date_modif_prod             3979 non-null object\n",
      "date_renewal                4020 non-null object\n",
      "forecast_base_bill_ele      877 non-null float64\n",
      "forecast_base_bill_year     877 non-null float64\n",
      "forecast_bill_12m           877 non-null float64\n",
      "forecast_cons               877 non-null float64\n",
      "forecast_cons_12m           4024 non-null float64\n",
      "forecast_cons_year          4024 non-null int64\n",
      "forecast_discount_energy    4000 non-null float64\n",
      "forecast_meter_rent_12m     4024 non-null float64\n",
      "forecast_price_energy_p1    4000 non-null float64\n",
      "forecast_price_energy_p2    4000 non-null float64\n",
      "forecast_price_pow_p1       4000 non-null float64\n",
      "has_gas                     4024 non-null object\n",
      "imp_cons                    4024 non-null float64\n",
      "margin_gross_pow_ele        4022 non-null float64\n",
      "margin_net_pow_ele          4022 non-null float64\n",
      "nb_prod_act                 4024 non-null int64\n",
      "net_margin                  4021 non-null float64\n",
      "num_years_antig             4024 non-null int64\n",
      "origin_up                   3997 non-null object\n",
      "pow_max                     4023 non-null float64\n",
      "dtypes: float64(16), int64(6), object(10)\n",
      "memory usage: 1006.1+ KB\n"
     ]
    }
   ],
   "source": [
    "data2.info()"
   ]
  },
  {
   "cell_type": "code",
   "execution_count": 236,
   "metadata": {
    "collapsed": true
   },
   "outputs": [],
   "source": [
    "from sklearn import metrics\n",
    "from sklearn.tree import DecisionTreeClassifier\n",
    "from sklearn.linear_model import LogisticRegression"
   ]
  },
  {
   "cell_type": "code",
   "execution_count": null,
   "metadata": {
    "collapsed": true
   },
   "outputs": [],
   "source": [
    "# for logistic regression, not consider all time range span"
   ]
  },
  {
   "cell_type": "code",
   "execution_count": 237,
   "metadata": {
    "collapsed": false
   },
   "outputs": [],
   "source": [
    "from sklearn.cross_validation import train_test_split"
   ]
  },
  {
   "cell_type": "code",
   "execution_count": null,
   "metadata": {
    "collapsed": true
   },
   "outputs": [],
   "source": [
    "\n",
    "\n"
   ]
  },
  {
   "cell_type": "code",
   "execution_count": 133,
   "metadata": {
    "collapsed": true
   },
   "outputs": [],
   "source": [
    "X_train,X_test,y_train,y_test=train_test_split(T1,T1_Out,test_size=0.33,random_state=42)"
   ]
  },
  {
   "cell_type": "code",
   "execution_count": 396,
   "metadata": {
    "collapsed": false
   },
   "outputs": [],
   "source": [
    "l_log=list(x for x in X_train.columns if not x.startswith('date'))"
   ]
  },
  {
   "cell_type": "code",
   "execution_count": 116,
   "metadata": {
    "collapsed": false
   },
   "outputs": [
    {
     "name": "stderr",
     "output_type": "stream",
     "text": [
      "C:\\Users\\Yilun\\Anaconda3\\lib\\site-packages\\sklearn\\utils\\validation.py:515: DataConversionWarning: A column-vector y was passed when a 1d array was expected. Please change the shape of y to (n_samples, ), for example using ravel().\n",
      "  y = column_or_1d(y, warn=True)\n"
     ]
    },
    {
     "data": {
      "text/plain": [
       "LogisticRegression(C=1.0, class_weight=None, dual=False, fit_intercept=True,\n",
       "          intercept_scaling=1, max_iter=100, multi_class='ovr', n_jobs=1,\n",
       "          penalty='l2', random_state=None, solver='liblinear', tol=0.0001,\n",
       "          verbose=0, warm_start=False)"
      ]
     },
     "execution_count": 116,
     "metadata": {},
     "output_type": "execute_result"
    }
   ],
   "source": [
    "log = LogisticRegression()\n",
    "log.fit(X_train,y_train)"
   ]
  },
  {
   "cell_type": "code",
   "execution_count": null,
   "metadata": {
    "collapsed": true
   },
   "outputs": [],
   "source": [
    "* find the test dataset for x"
   ]
  },
  {
   "cell_type": "code",
   "execution_count": 120,
   "metadata": {
    "collapsed": false
   },
   "outputs": [],
   "source": [
    "pred=log.predict(X_test)"
   ]
  },
  {
   "cell_type": "code",
   "execution_count": 126,
   "metadata": {
    "collapsed": true
   },
   "outputs": [],
   "source": [
    "from sklearn.ensemble import RandomForestClassifier\n",
    "from sklearn.ensemble import AdaBoostClassifier\n",
    "from sklearn.ensemble import BaggingClassifier\n",
    "##from sklearn.ensemble import VotingClassifier"
   ]
  },
  {
   "cell_type": "code",
   "execution_count": 125,
   "metadata": {
    "collapsed": false
   },
   "outputs": [],
   "source": [
    "from sklearn.cross_validation import cross_val_score\n",
    "from sklearn.grid_search import  RandomizedSearchCV, GridSearchCV"
   ]
  },
  {
   "cell_type": "code",
   "execution_count": 127,
   "metadata": {
    "collapsed": false
   },
   "outputs": [],
   "source": [
    "from sklearn.cross_validation import train_test_split\n",
    "import time\n",
    "from sklearn.metrics import roc_curve, auc\n",
    "from sklearn.metrics import classification_report, confusion_matrix"
   ]
  },
  {
   "cell_type": "markdown",
   "metadata": {},
   "source": [
    "### 1. logistic regression as baseline for the model tuning\n",
    "### 2. tree as model as baseline\n",
    "### 3. Random Forest as enhancement"
   ]
  },
  {
   "cell_type": "code",
   "execution_count": 238,
   "metadata": {
    "collapsed": true
   },
   "outputs": [],
   "source": [
    "from sklearn import metrics\n",
    "from sklearn.tree import DecisionTreeClassifier\n",
    "from sklearn.linear_model import LogisticRegression\n",
    "from sklearn.ensemble import RandomForestClassifier"
   ]
  },
  {
   "cell_type": "code",
   "execution_count": 261,
   "metadata": {
    "collapsed": true
   },
   "outputs": [],
   "source": [
    "from sklearn.cross_validation import train_test_split\n",
    "from sklearn.metrics import roc_curve, auc\n",
    "from sklearn.metrics import classification_report, confusion_matrix"
   ]
  },
  {
   "cell_type": "code",
   "execution_count": 244,
   "metadata": {
    "collapsed": true
   },
   "outputs": [],
   "source": [
    "from sklearn.cross_validation import cross_val_score\n",
    "from sklearn.grid_search import  RandomizedSearchCV, GridSearchCV"
   ]
  },
  {
   "cell_type": "code",
   "execution_count": 240,
   "metadata": {
    "collapsed": true
   },
   "outputs": [],
   "source": [
    "X_train,X_test,y_train,y_test=train_test_split(T1,T1_Out,test_size=0.33,random_state=42)"
   ]
  },
  {
   "cell_type": "code",
   "execution_count": 241,
   "metadata": {
    "collapsed": false
   },
   "outputs": [
    {
     "name": "stdout",
     "output_type": "stream",
     "text": [
      "             precision    recall  f1-score   support\n",
      "\n",
      "          0       0.90      0.90      0.90      3420\n",
      "          1       0.23      0.23      0.23       425\n",
      "\n",
      "avg / total       0.83      0.83      0.83      3845\n",
      "\n"
     ]
    }
   ],
   "source": [
    "tc = DecisionTreeClassifier()\n",
    "tc.fit(X_train,y_train)\n",
    "pred=tc.predict(X_test)\n",
    "print(classification_report(y_test,pred))"
   ]
  },
  {
   "cell_type": "code",
   "execution_count": 246,
   "metadata": {
    "collapsed": true
   },
   "outputs": [],
   "source": [
    "y_train=y_train.iloc[:,0]"
   ]
  },
  {
   "cell_type": "code",
   "execution_count": 247,
   "metadata": {
    "collapsed": false
   },
   "outputs": [
    {
     "name": "stdout",
     "output_type": "stream",
     "text": [
      "65608.37198519707\n"
     ]
    }
   ],
   "source": [
    "params = {'max_depth':[2,4,8]}\n",
    "\n",
    "tcgrid = GridSearchCV(estimator=tc,param_grid=params,cv=5,scoring='recall')\n",
    "tcgrid.fit(X_train,y_train)\n",
    "\n",
    "end = time.time()\n",
    "print(end-start)"
   ]
  },
  {
   "cell_type": "code",
   "execution_count": 248,
   "metadata": {
    "collapsed": false
   },
   "outputs": [
    {
     "data": {
      "image/png": "[encoded data removed]",
      "text/plain": [
       "<matplotlib.figure.Figure at 0x200576e25f8>"
      ]
     },
     "metadata": {},
     "output_type": "display_data"
    }
   ],
   "source": [
    "X_train_roc, X_test_roc,y_train_roc, y_test_roc = train_test_split(T1,T1_Out,test_size=0.33,random_state=42)\n",
    "\n",
    "actual = y_test_roc\n",
    "\n",
    "y_pred = tcgrid.predict_proba(X_test_roc)\n",
    "predictions = y_pred[:,1]\n",
    "\n",
    "false_positive_rate, true_positive_rate, thresholds = roc_curve(actual, predictions)\n",
    "roc_auc = auc(false_positive_rate, true_positive_rate)\n",
    "\n",
    "plt.title('TC ROC')\n",
    "plt.plot(false_positive_rate, true_positive_rate, 'b',label='AUC = %0.2f'% roc_auc)\n",
    "plt.legend(loc='lower right')\n",
    "plt.plot([0,1],[0,1],'r--')\n",
    "plt.xlim([-0.1,1.2])\n",
    "plt.ylim([-0.1,1.2])\n",
    "plt.ylabel('True Positive Rate')\n",
    "plt.xlabel('False Positive Rate')\n",
    "plt.show()\n"
   ]
  },
  {
   "cell_type": "markdown",
   "metadata": {},
   "source": [
    "* select the threshold and draw confusion matrics"
   ]
  },
  {
   "cell_type": "code",
   "execution_count": 253,
   "metadata": {
    "collapsed": false
   },
   "outputs": [],
   "source": []
  },
  {
   "cell_type": "code",
   "execution_count": 255,
   "metadata": {
    "collapsed": true
   },
   "outputs": [],
   "source": [
    "dfdata={'false_positive_rate':false_positive_rate, 'true_positive_rate':true_positive_rate, 'thresholds':thresholds}\n",
    "df=pd.DataFrame(data=dfdata)\n",
    "df.set_index('thresholds',inplace=True)"
   ]
  },
  {
   "cell_type": "code",
   "execution_count": 283,
   "metadata": {
    "collapsed": false
   },
   "outputs": [
    {
     "data": {
      "text/html": [
       "<div>\n",
       "<style scoped>\n",
       "    .dataframe tbody tr th:only-of-type {\n",
       "        vertical-align: middle;\n",
       "    }\n",
       "\n",
       "    .dataframe tbody tr th {\n",
       "        vertical-align: top;\n",
       "    }\n",
       "\n",
       "    .dataframe thead th {\n",
       "        text-align: right;\n",
       "    }\n",
       "</style>\n",
       "<table border=\"1\" class=\"dataframe\">\n",
       "  <thead>\n",
       "    <tr style=\"text-align: right;\">\n",
       "      <th></th>\n",
       "      <th>false_positive_rate</th>\n",
       "      <th>true_positive_rate</th>\n",
       "    </tr>\n",
       "    <tr>\n",
       "      <th>thresholds</th>\n",
       "      <th></th>\n",
       "      <th></th>\n",
       "    </tr>\n",
       "  </thead>\n",
       "  <tbody>\n",
       "    <tr>\n",
       "      <th>2.000</th>\n",
       "      <td>0.000</td>\n",
       "      <td>0.000</td>\n",
       "    </tr>\n",
       "    <tr>\n",
       "      <th>1.000</th>\n",
       "      <td>0.007</td>\n",
       "      <td>0.021</td>\n",
       "    </tr>\n",
       "    <tr>\n",
       "      <th>0.900</th>\n",
       "      <td>0.008</td>\n",
       "      <td>0.026</td>\n",
       "    </tr>\n",
       "    <tr>\n",
       "      <th>0.875</th>\n",
       "      <td>0.008</td>\n",
       "      <td>0.035</td>\n",
       "    </tr>\n",
       "    <tr>\n",
       "      <th>0.846</th>\n",
       "      <td>0.009</td>\n",
       "      <td>0.038</td>\n",
       "    </tr>\n",
       "    <tr>\n",
       "      <th>0.800</th>\n",
       "      <td>0.010</td>\n",
       "      <td>0.038</td>\n",
       "    </tr>\n",
       "    <tr>\n",
       "      <th>0.750</th>\n",
       "      <td>0.010</td>\n",
       "      <td>0.040</td>\n",
       "    </tr>\n",
       "    <tr>\n",
       "      <th>0.667</th>\n",
       "      <td>0.010</td>\n",
       "      <td>0.042</td>\n",
       "    </tr>\n",
       "    <tr>\n",
       "      <th>0.633</th>\n",
       "      <td>0.013</td>\n",
       "      <td>0.052</td>\n",
       "    </tr>\n",
       "    <tr>\n",
       "      <th>0.622</th>\n",
       "      <td>0.015</td>\n",
       "      <td>0.075</td>\n",
       "    </tr>\n",
       "    <tr>\n",
       "      <th>0.500</th>\n",
       "      <td>0.016</td>\n",
       "      <td>0.075</td>\n",
       "    </tr>\n",
       "    <tr>\n",
       "      <th>0.375</th>\n",
       "      <td>0.018</td>\n",
       "      <td>0.078</td>\n",
       "    </tr>\n",
       "    <tr>\n",
       "      <th>0.333</th>\n",
       "      <td>0.019</td>\n",
       "      <td>0.089</td>\n",
       "    </tr>\n",
       "    <tr>\n",
       "      <th>0.243</th>\n",
       "      <td>0.023</td>\n",
       "      <td>0.101</td>\n",
       "    </tr>\n",
       "    <tr>\n",
       "      <th>0.231</th>\n",
       "      <td>0.023</td>\n",
       "      <td>0.104</td>\n",
       "    </tr>\n",
       "    <tr>\n",
       "      <th>0.221</th>\n",
       "      <td>0.030</td>\n",
       "      <td>0.115</td>\n",
       "    </tr>\n",
       "    <tr>\n",
       "      <th>0.210</th>\n",
       "      <td>0.095</td>\n",
       "      <td>0.275</td>\n",
       "    </tr>\n",
       "    <tr>\n",
       "      <th>0.139</th>\n",
       "      <td>0.131</td>\n",
       "      <td>0.322</td>\n",
       "    </tr>\n",
       "    <tr>\n",
       "      <th>0.133</th>\n",
       "      <td>0.132</td>\n",
       "      <td>0.322</td>\n",
       "    </tr>\n",
       "    <tr>\n",
       "      <th>0.128</th>\n",
       "      <td>0.208</td>\n",
       "      <td>0.384</td>\n",
       "    </tr>\n",
       "    <tr>\n",
       "      <th>0.112</th>\n",
       "      <td>0.258</td>\n",
       "      <td>0.456</td>\n",
       "    </tr>\n",
       "    <tr>\n",
       "      <th>0.107</th>\n",
       "      <td>0.298</td>\n",
       "      <td>0.473</td>\n",
       "    </tr>\n",
       "    <tr>\n",
       "      <th>0.088</th>\n",
       "      <td>0.302</td>\n",
       "      <td>0.480</td>\n",
       "    </tr>\n",
       "    <tr>\n",
       "      <th>0.087</th>\n",
       "      <td>0.305</td>\n",
       "      <td>0.480</td>\n",
       "    </tr>\n",
       "    <tr>\n",
       "      <th>0.087</th>\n",
       "      <td>0.330</td>\n",
       "      <td>0.504</td>\n",
       "    </tr>\n",
       "    <tr>\n",
       "      <th>0.086</th>\n",
       "      <td>0.564</td>\n",
       "      <td>0.734</td>\n",
       "    </tr>\n",
       "    <tr>\n",
       "      <th>0.084</th>\n",
       "      <td>0.575</td>\n",
       "      <td>0.753</td>\n",
       "    </tr>\n",
       "    <tr>\n",
       "      <th>0.077</th>\n",
       "      <td>0.576</td>\n",
       "      <td>0.753</td>\n",
       "    </tr>\n",
       "    <tr>\n",
       "      <th>0.061</th>\n",
       "      <td>0.582</td>\n",
       "      <td>0.765</td>\n",
       "    </tr>\n",
       "    <tr>\n",
       "      <th>0.060</th>\n",
       "      <td>0.604</td>\n",
       "      <td>0.772</td>\n",
       "    </tr>\n",
       "    <tr>\n",
       "      <th>0.053</th>\n",
       "      <td>0.605</td>\n",
       "      <td>0.774</td>\n",
       "    </tr>\n",
       "    <tr>\n",
       "      <th>0.050</th>\n",
       "      <td>0.896</td>\n",
       "      <td>0.918</td>\n",
       "    </tr>\n",
       "    <tr>\n",
       "      <th>0.038</th>\n",
       "      <td>0.898</td>\n",
       "      <td>0.929</td>\n",
       "    </tr>\n",
       "    <tr>\n",
       "      <th>0.028</th>\n",
       "      <td>0.911</td>\n",
       "      <td>0.948</td>\n",
       "    </tr>\n",
       "    <tr>\n",
       "      <th>0.000</th>\n",
       "      <td>1.000</td>\n",
       "      <td>1.000</td>\n",
       "    </tr>\n",
       "  </tbody>\n",
       "</table>\n",
       "</div>"
      ],
      "text/plain": [
       "            false_positive_rate  true_positive_rate\n",
       "thresholds                                         \n",
       "2.000                     0.000               0.000\n",
       "1.000                     0.007               0.021\n",
       "0.900                     0.008               0.026\n",
       "0.875                     0.008               0.035\n",
       "0.846                     0.009               0.038\n",
       "0.800                     0.010               0.038\n",
       "0.750                     0.010               0.040\n",
       "0.667                     0.010               0.042\n",
       "0.633                     0.013               0.052\n",
       "0.622                     0.015               0.075\n",
       "0.500                     0.016               0.075\n",
       "0.375                     0.018               0.078\n",
       "0.333                     0.019               0.089\n",
       "0.243                     0.023               0.101\n",
       "0.231                     0.023               0.104\n",
       "0.221                     0.030               0.115\n",
       "0.210                     0.095               0.275\n",
       "0.139                     0.131               0.322\n",
       "0.133                     0.132               0.322\n",
       "0.128                     0.208               0.384\n",
       "0.112                     0.258               0.456\n",
       "0.107                     0.298               0.473\n",
       "0.088                     0.302               0.480\n",
       "0.087                     0.305               0.480\n",
       "0.087                     0.330               0.504\n",
       "0.086                     0.564               0.734\n",
       "0.084                     0.575               0.753\n",
       "0.077                     0.576               0.753\n",
       "0.061                     0.582               0.765\n",
       "0.060                     0.604               0.772\n",
       "0.053                     0.605               0.774\n",
       "0.050                     0.896               0.918\n",
       "0.038                     0.898               0.929\n",
       "0.028                     0.911               0.948\n",
       "0.000                     1.000               1.000"
      ]
     },
     "execution_count": 283,
     "metadata": {},
     "output_type": "execute_result"
    }
   ],
   "source": [
    "pd.options.display.float_format = '{:,.3f}'.format\n",
    "df"
   ]
  },
  {
   "cell_type": "code",
   "execution_count": 290,
   "metadata": {
    "collapsed": false
   },
   "outputs": [
    {
     "data": {
      "text/plain": [
       "(array([2.626e+03, 7.760e+02, 3.390e+02, 1.600e+01, 0.000e+00, 5.000e+00,\n",
       "        3.300e+01, 1.000e+00, 9.000e+00, 4.000e+01]),\n",
       " array([0. , 0.1, 0.2, 0.3, 0.4, 0.5, 0.6, 0.7, 0.8, 0.9, 1. ]),\n",
       " <a list of 10 Patch objects>)"
      ]
     },
     "execution_count": 290,
     "metadata": {},
     "output_type": "execute_result"
    },
    {
     "data": {
      "image/png": "[encoded data removed]",
      "text/plain": [
       "<matplotlib.figure.Figure at 0x20069a0f860>"
      ]
     },
     "metadata": {},
     "output_type": "display_data"
    }
   ],
   "source": [
    "plt.hist(y_pred[:,1])"
   ]
  },
  {
   "cell_type": "code",
   "execution_count": 291,
   "metadata": {
    "collapsed": false
   },
   "outputs": [],
   "source": [
    "# us 0.087 as threshold and calculate confusion matrics\n",
    "pred_cust=[1 if x<0.087 else 0 for x in y_pred[:,1]]\n",
    "\n",
    "confusion_matrix(y_test_array,pred_cust)"
   ]
  },
  {
   "cell_type": "code",
   "execution_count": null,
   "metadata": {
    "collapsed": true
   },
   "outputs": [],
   "source": [
    "y_pred = tcgrid.predict_proba(X_test_roc)"
   ]
  },
  {
   "cell_type": "code",
   "execution_count": null,
   "metadata": {
    "collapsed": true
   },
   "outputs": [],
   "source": [
    "# the following is using rf"
   ]
  },
  {
   "cell_type": "code",
   "execution_count": 294,
   "metadata": {
    "collapsed": false
   },
   "outputs": [
    {
     "name": "stdout",
     "output_type": "stream",
     "text": [
      "             precision    recall  f1-score   support\n",
      "\n",
      "          0       0.90      0.99      0.94      3420\n",
      "          1       0.60      0.07      0.12       425\n",
      "\n",
      "avg / total       0.86      0.89      0.85      3845\n",
      "\n"
     ]
    }
   ],
   "source": [
    "rf = RandomForestClassifier()\n",
    "rf.fit(X_train,y_train)\n",
    "pred=rf.predict(X_test)\n",
    "print(classification_report(y_test,pred))"
   ]
  },
  {
   "cell_type": "code",
   "execution_count": 295,
   "metadata": {
    "collapsed": true
   },
   "outputs": [],
   "source": [
    "# recall is really low\n",
    "# using randomized search and use recall as score"
   ]
  },
  {
   "cell_type": "code",
   "execution_count": 296,
   "metadata": {
    "collapsed": false
   },
   "outputs": [
    {
     "data": {
      "text/plain": [
       "RandomizedSearchCV(cv=5, error_score='raise',\n",
       "          estimator=RandomForestClassifier(bootstrap=True, class_weight=None, criterion='gini',\n",
       "            max_depth=4, max_features='auto', max_leaf_nodes=None,\n",
       "            min_samples_leaf=1, min_samples_split=2,\n",
       "            min_weight_fraction_leaf=0.0, n_estimators=10, n_jobs=1,\n",
       "            oob_score=False, random_state=None, verbose=0,\n",
       "            warm_start=False),\n",
       "          fit_params={}, iid=True, n_iter=3, n_jobs=1,\n",
       "          param_distributions={'min_samples_leaf': [2, 4, 8], 'max_depth': [8, 16, 32]},\n",
       "          pre_dispatch='2*n_jobs', random_state=None, refit=True,\n",
       "          scoring='recall', verbose=0)"
      ]
     },
     "execution_count": 296,
     "metadata": {},
     "output_type": "execute_result"
    }
   ],
   "source": [
    "\n",
    "rf = RandomForestClassifier(max_depth=4)\n",
    "rf.fit(X_train,y_train)\n",
    "\n",
    "params = {'max_depth': [8, 16, 32], 'min_samples_leaf':[2, 4, 8]}\n",
    "\n",
    "rfgrid = RandomizedSearchCV(estimator=rf,param_distributions=params,cv=5,scoring='recall',n_iter=3)\n",
    "rfgrid.fit(X_train,y_train)\n",
    "\n",
    "\n",
    "pred=rfgrid.predict(X_test)\n",
    "print(classification_report(y_test,pred))"
   ]
  },
  {
   "cell_type": "code",
   "execution_count": 299,
   "metadata": {
    "collapsed": false
   },
   "outputs": [
    {
     "data": {
      "image/png": "[encoded data removed]",
      "text/plain": [
       "<matplotlib.figure.Figure at 0x2006a8cf860>"
      ]
     },
     "metadata": {},
     "output_type": "display_data"
    }
   ],
   "source": [
    "\n",
    "y_pred = rfgrid.predict_proba(X_test)\n",
    "predictions = y_pred[:,1]\n",
    "\n",
    "false_positive_rate, true_positive_rate, thresholds = roc_curve(actual, predictions)\n",
    "roc_auc = auc(false_positive_rate, true_positive_rate)\n",
    "\n",
    "plt.title('RF ROC')\n",
    "plt.plot(false_positive_rate, true_positive_rate, 'b',\n",
    "label='AUC = %0.2f'% roc_auc)\n",
    "plt.legend(loc='lower right')\n",
    "plt.plot([0,1],[0,1],'r--')\n",
    "plt.xlim([-0.1,1.2])\n",
    "plt.ylim([-0.1,1.2])\n",
    "plt.ylabel('True Positive Rate')\n",
    "plt.xlabel('False Positive Rate')\n",
    "plt.show()\n"
   ]
  },
  {
   "cell_type": "code",
   "execution_count": 301,
   "metadata": {
    "collapsed": false
   },
   "outputs": [
    {
     "data": {
      "text/plain": [
       "array([[1951, 1469],\n",
       "       [ 135,  290]])"
      ]
     },
     "execution_count": 301,
     "metadata": {},
     "output_type": "execute_result"
    }
   ],
   "source": [
    "# us 0.087 as threshold and calculate confusion matrics\n",
    "pred_cust=[1 if x>0.087 else 0 for x in y_pred[:,1]]\n",
    "\n",
    "confusion_matrix(y_test_array,pred_cust)"
   ]
  },
  {
   "cell_type": "code",
   "execution_count": 130,
   "metadata": {
    "collapsed": false
   },
   "outputs": [
    {
     "name": "stdout",
     "output_type": "stream",
     "text": [
      "             precision    recall  f1-score   support\n",
      "\n",
      "          0       0.90      0.89      0.90      3420\n",
      "          1       0.21      0.23      0.22       425\n",
      "\n",
      "avg / total       0.83      0.82      0.82      3845\n",
      "\n"
     ]
    },
    {
     "name": "stderr",
     "output_type": "stream",
     "text": [
      "C:\\Users\\Yilun\\Anaconda3\\lib\\site-packages\\sklearn\\utils\\validation.py:515: DataConversionWarning: A column-vector y was passed when a 1d array was expected. Please change the shape of y to (n_samples, ), for example using ravel().\n",
      "  y = column_or_1d(y, warn=True)\n"
     ]
    },
    {
     "name": "stdout",
     "output_type": "stream",
     "text": [
      "             precision    recall  f1-score   support\n",
      "\n",
      "          0       0.90      0.99      0.94      3420\n",
      "          1       0.56      0.09      0.15       425\n",
      "\n",
      "avg / total       0.86      0.89      0.85      3845\n",
      "\n",
      "             precision    recall  f1-score   support\n",
      "\n",
      "          0       0.89      1.00      0.94      3420\n",
      "          1       0.00      0.00      0.00       425\n",
      "\n",
      "avg / total       0.79      0.89      0.84      3845\n",
      "\n"
     ]
    },
    {
     "name": "stderr",
     "output_type": "stream",
     "text": [
      "C:\\Users\\Yilun\\Anaconda3\\lib\\site-packages\\sklearn\\utils\\validation.py:515: DataConversionWarning: A column-vector y was passed when a 1d array was expected. Please change the shape of y to (n_samples, ), for example using ravel().\n",
      "  y = column_or_1d(y, warn=True)\n",
      "C:\\Users\\Yilun\\Anaconda3\\lib\\site-packages\\ipykernel\\__main__.py:21: DataConversionWarning: A column-vector y was passed when a 1d array was expected. Please change the shape of y to (n_samples,), for example using ravel().\n"
     ]
    },
    {
     "name": "stdout",
     "output_type": "stream",
     "text": [
      "             precision    recall  f1-score   support\n",
      "\n",
      "          0       0.89      1.00      0.94      3420\n",
      "          1       0.66      0.05      0.10       425\n",
      "\n",
      "avg / total       0.87      0.89      0.85      3845\n",
      "\n"
     ]
    },
    {
     "name": "stderr",
     "output_type": "stream",
     "text": [
      "C:\\Users\\Yilun\\Anaconda3\\lib\\site-packages\\sklearn\\utils\\validation.py:515: DataConversionWarning: A column-vector y was passed when a 1d array was expected. Please change the shape of y to (n_samples, ), for example using ravel().\n",
      "  y = column_or_1d(y, warn=True)\n"
     ]
    },
    {
     "name": "stdout",
     "output_type": "stream",
     "text": [
      "             precision    recall  f1-score   support\n",
      "\n",
      "          0       0.90      0.99      0.94      3420\n",
      "          1       0.54      0.08      0.13       425\n",
      "\n",
      "avg / total       0.86      0.89      0.85      3845\n",
      "\n"
     ]
    }
   ],
   "source": [
    "# Start building ML models. I will use Decision Tree, Bagging Classifier,\n",
    "# Logistic Regression, Random Forest, Adaptive Boosting, and finally a \n",
    "# Voting Classifier that incorporates the best of these models.\n",
    "\n",
    "tc = DecisionTreeClassifier()\n",
    "tc.fit(X_train,y_train)\n",
    "pred=tc.predict(X_test)\n",
    "print(classification_report(y_test,pred))\n",
    "\n",
    "bag = BaggingClassifier(base_estimator=tc)\n",
    "bag.fit(X_train,y_train)\n",
    "pred=bag.predict(X_test)\n",
    "print(classification_report(y_test,pred))\n",
    "\n",
    "log = LogisticRegression()\n",
    "log.fit(X_train,y_train)\n",
    "pred=log.predict(X_test)\n",
    "print(classification_report(y_test,pred))\n",
    "\n",
    "rf = RandomForestClassifier()\n",
    "rf.fit(X_train,y_train)\n",
    "pred=rf.predict(X_test)\n",
    "print(classification_report(y_test,pred))\n",
    "\n",
    "ada = AdaBoostClassifier(base_estimator=rf)\n",
    "ada.fit(X_train,y_train)\n",
    "pred=ada.predict(X_test)\n",
    "print(classification_report(y_test,pred))\n"
   ]
  },
  {
   "cell_type": "code",
   "execution_count": 144,
   "metadata": {
    "collapsed": false
   },
   "outputs": [],
   "source": [
    "# Optimize classifiers\n",
    "\n",
    "start = time.time()\n",
    "\n",
    "tc = DecisionTreeClassifier(max_depth=4)\n",
    "##tc.fit(X_train,y_train)"
   ]
  },
  {
   "cell_type": "code",
   "execution_count": 152,
   "metadata": {
    "collapsed": false
   },
   "outputs": [],
   "source": [
    "y_train=y_train.iloc[:,0]"
   ]
  },
  {
   "cell_type": "code",
   "execution_count": 153,
   "metadata": {
    "collapsed": false
   },
   "outputs": [
    {
     "name": "stdout",
     "output_type": "stream",
     "text": [
      "71.78061175346375\n"
     ]
    }
   ],
   "source": [
    "params = {'max_depth':[2,4,8]}\n",
    "\n",
    "tcgrid = GridSearchCV(estimator=tc,param_grid=params,cv=5,scoring='recall')\n",
    "tcgrid.fit(X_train,y_train)\n",
    "\n",
    "end = time.time()\n",
    "print(end-start)"
   ]
  },
  {
   "cell_type": "code",
   "execution_count": 154,
   "metadata": {
    "collapsed": false
   },
   "outputs": [
    {
     "name": "stdout",
     "output_type": "stream",
     "text": [
      "1.3813390731811523\n",
      "1.5336577892303467\n"
     ]
    }
   ],
   "source": [
    "start = time.time()\n",
    "\n",
    "params = {'C':[0.01,0.1,1,10]}\n",
    "\n",
    "loggrid = RandomizedSearchCV(estimator=log,param_distributions=params,cv=5,scoring='recall',n_iter=3)\n",
    "loggrid.fit(X_train,y_train)\n",
    "\n",
    "end = time.time()\n",
    "print(end-start)\n",
    "start = time.time()\n",
    "\n",
    "rf = RandomForestClassifier(max_depth=4)\n",
    "rf.fit(X_train,y_train)\n",
    "\n",
    "params = {'max_depth': [8, 16, 32], 'min_samples_leaf':[2, 4, 8]}\n",
    "\n",
    "rfgrid = RandomizedSearchCV(estimator=rf,param_distributions=params,cv=5,scoring='recall',n_iter=3)\n",
    "rfgrid.fit(X_train,y_train)\n",
    "\n",
    "end = time.time()\n",
    "print(end-start)"
   ]
  },
  {
   "cell_type": "code",
   "execution_count": 155,
   "metadata": {
    "collapsed": false
   },
   "outputs": [
    {
     "name": "stdout",
     "output_type": "stream",
     "text": [
      "1.7399988174438477\n",
      "3.9891579151153564\n"
     ]
    }
   ],
   "source": [
    "start = time.time()\n",
    "\n",
    "bag = BaggingClassifier(base_estimator=tcgrid.best_estimator_,n_estimators=2)\n",
    "bag.fit(X_train,y_train)\n",
    "\n",
    "params = {'base_estimator':[tcgrid.best_estimator_,rfgrid.best_estimator_],'n_estimators':[2,3,4]}\n",
    "\n",
    "baggrid = RandomizedSearchCV(estimator=bag,param_distributions=params,cv=5,scoring='recall',n_iter=3)\n",
    "baggrid.fit(X_train,y_train)\n",
    "\n",
    "end = time.time()\n",
    "print(end-start)\n",
    "start = time.time()\n",
    "\n",
    "abc = AdaBoostClassifier(base_estimator=rfgrid.best_estimator_,n_estimators=4)\n",
    "abc.fit(X_train,y_train)\n",
    "\n",
    "params = {'base_estimator':[tcgrid.best_estimator_,rfgrid.best_estimator_],'n_estimators':[2,3,4]}\n",
    "\n",
    "abcgrid = RandomizedSearchCV(estimator = abc, param_distributions= params, cv=5, scoring='recall',n_iter=3)\n",
    "abcgrid.fit(X_train,y_train)\n",
    "\n",
    "end = time.time()\n",
    "print(end-start)"
   ]
  },
  {
   "cell_type": "markdown",
   "metadata": {},
   "source": [
    "### Estimate the efficiency of the model compared with accuracy"
   ]
  },
  {
   "cell_type": "code",
   "execution_count": 156,
   "metadata": {
    "collapsed": false
   },
   "outputs": [
    {
     "data": {
      "image/png": "[encoded data removed]",
      "text/plain": [
       "<matplotlib.figure.Figure at 0x200575c9978>"
      ]
     },
     "metadata": {},
     "output_type": "display_data"
    },
    {
     "data": {
      "image/png": "[encoded data removed]",
      "text/plain": [
       "<matplotlib.figure.Figure at 0x2005575f358>"
      ]
     },
     "metadata": {},
     "output_type": "display_data"
    },
    {
     "data": {
      "image/png": "[encoded data removed]",
      "text/plain": [
       "<matplotlib.figure.Figure at 0x200577d5b70>"
      ]
     },
     "metadata": {},
     "output_type": "display_data"
    },
    {
     "data": {
      "image/png": "[encoded data removed]",
      "text/plain": [
       "<matplotlib.figure.Figure at 0x200556a4940>"
      ]
     },
     "metadata": {},
     "output_type": "display_data"
    },
    {
     "data": {
      "image/png": "[encoded data removed]",
      "text/plain": [
       "<matplotlib.figure.Figure at 0x20057402a90>"
      ]
     },
     "metadata": {},
     "output_type": "display_data"
    }
   ],
   "source": [
    "# Plot ROC curves to see how well each model is predicting the training data\n",
    "\n",
    "X_train_roc, X_test_roc,y_train_roc, y_test_roc = train_test_split(X_train,y_train,test_size=0.2,random_state=73)\n",
    "\n",
    "actual = y_test_roc\n",
    "\n",
    "y_pred = tcgrid.predict_proba(X_test_roc)\n",
    "predictions = y_pred[:,1]\n",
    "\n",
    "false_positive_rate, true_positive_rate, thresholds = roc_curve(actual, predictions)\n",
    "roc_auc = auc(false_positive_rate, true_positive_rate)\n",
    "\n",
    "plt.title('TC ROC')\n",
    "plt.plot(false_positive_rate, true_positive_rate, 'b',\n",
    "label='AUC = %0.2f'% roc_auc)\n",
    "plt.legend(loc='lower right')\n",
    "plt.plot([0,1],[0,1],'r--')\n",
    "plt.xlim([-0.1,1.2])\n",
    "plt.ylim([-0.1,1.2])\n",
    "plt.ylabel('True Positive Rate')\n",
    "plt.xlabel('False Positive Rate')\n",
    "plt.show()\n",
    "\n",
    "y_pred = loggrid.predict_proba(X_test_roc)\n",
    "predictions = y_pred[:,1]\n",
    "\n",
    "false_positive_rate, true_positive_rate, thresholds = roc_curve(actual, predictions)\n",
    "roc_auc = auc(false_positive_rate, true_positive_rate)\n",
    "\n",
    "plt.title('LOG ROC')\n",
    "plt.plot(false_positive_rate, true_positive_rate, 'b',\n",
    "label='AUC = %0.2f'% roc_auc)\n",
    "plt.legend(loc='lower right')\n",
    "plt.plot([0,1],[0,1],'r--')\n",
    "plt.xlim([-0.1,1.2])\n",
    "plt.ylim([-0.1,1.2])\n",
    "plt.ylabel('True Positive Rate')\n",
    "plt.xlabel('False Positive Rate')\n",
    "plt.show()\n",
    "\n",
    "y_pred = rfgrid.predict_proba(X_test_roc)\n",
    "predictions = y_pred[:,1]\n",
    "\n",
    "false_positive_rate, true_positive_rate, thresholds = roc_curve(actual, predictions)\n",
    "roc_auc = auc(false_positive_rate, true_positive_rate)\n",
    "\n",
    "plt.title('RF ROC')\n",
    "plt.plot(false_positive_rate, true_positive_rate, 'b',\n",
    "label='AUC = %0.2f'% roc_auc)\n",
    "plt.legend(loc='lower right')\n",
    "plt.plot([0,1],[0,1],'r--')\n",
    "plt.xlim([-0.1,1.2])\n",
    "plt.ylim([-0.1,1.2])\n",
    "plt.ylabel('True Positive Rate')\n",
    "plt.xlabel('False Positive Rate')\n",
    "plt.show()\n",
    "\n",
    "y_pred = baggrid.predict_proba(X_test_roc)\n",
    "predictions = y_pred[:,1]\n",
    "\n",
    "false_positive_rate, true_positive_rate, thresholds = roc_curve(actual, predictions)\n",
    "roc_auc = auc(false_positive_rate, true_positive_rate)\n",
    "\n",
    "plt.title('BAG ROC')\n",
    "plt.plot(false_positive_rate, true_positive_rate, 'b',\n",
    "label='AUC = %0.2f'% roc_auc)\n",
    "plt.legend(loc='lower right')\n",
    "plt.plot([0,1],[0,1],'r--')\n",
    "plt.xlim([-0.1,1.2])\n",
    "plt.ylim([-0.1,1.2])\n",
    "plt.ylabel('True Positive Rate')\n",
    "plt.xlabel('False Positive Rate')\n",
    "plt.show()\n",
    "\n",
    "y_pred = abcgrid.predict_proba(X_test_roc)\n",
    "predictions = y_pred[:,1]\n",
    "\n",
    "false_positive_rate, true_positive_rate, thresholds = roc_curve(actual, predictions)\n",
    "roc_auc = auc(false_positive_rate, true_positive_rate)\n",
    "\n",
    "plt.title('ABC ROC')\n",
    "plt.plot(false_positive_rate, true_positive_rate, 'b',\n",
    "label='AUC = %0.2f'% roc_auc)\n",
    "plt.legend(loc='lower right')\n",
    "plt.plot([0,1],[0,1],'r--')\n",
    "plt.xlim([-0.1,1.2])\n",
    "plt.ylim([-0.1,1.2])\n",
    "plt.ylabel('True Positive Rate')\n",
    "plt.xlabel('False Positive Rate')\n",
    "plt.show()"
   ]
  },
  {
   "cell_type": "code",
   "execution_count": 21,
   "metadata": {
    "collapsed": false
   },
   "outputs": [
    {
     "name": "stdout",
     "output_type": "stream",
     "text": [
      "RandomForestClassifier(bootstrap=True, class_weight=None, criterion='gini',\n",
      "            max_depth=32, max_features='auto', max_leaf_nodes=None,\n",
      "            min_impurity_decrease=0.0, min_impurity_split=None,\n",
      "            min_samples_leaf=2, min_samples_split=2,\n",
      "            min_weight_fraction_leaf=0.0, n_estimators=10, n_jobs=1,\n",
      "            oob_score=False, random_state=None, verbose=0,\n",
      "            warm_start=False)\n",
      "BaggingClassifier(base_estimator=RandomForestClassifier(bootstrap=True, class_weight=None, criterion='gini',\n",
      "            max_depth=32, max_features='auto', max_leaf_nodes=None,\n",
      "            min_impurity_decrease=0.0, min_impurity_split=None,\n",
      "            min_samples_leaf=2, min_samples_split=2,\n",
      "            min_weight_fraction_leaf=0.0, n_estimators=10, n_jobs=1,\n",
      "            oob_score=False, random_state=None, verbose=0,\n",
      "            warm_start=False),\n",
      "         bootstrap=True, bootstrap_features=False, max_features=1.0,\n",
      "         max_samples=1.0, n_estimators=2, n_jobs=1, oob_score=False,\n",
      "         random_state=None, verbose=0, warm_start=False)\n",
      "AdaBoostClassifier(algorithm='SAMME.R',\n",
      "          base_estimator=RandomForestClassifier(bootstrap=True, class_weight=None, criterion='gini',\n",
      "            max_depth=32, max_features='auto', max_leaf_nodes=None,\n",
      "            min_impurity_decrease=0.0, min_impurity_split=None,\n",
      "            min_samples_leaf=2, min_samples_split=2,\n",
      "            min_weight_fraction_leaf=0.0, n_estimators=10, n_jobs=1,\n",
      "            oob_score=False, random_state=None, verbose=0,\n",
      "            warm_start=False),\n",
      "          learning_rate=1.0, n_estimators=2, random_state=None)\n"
     ]
    }
   ],
   "source": [
    "# We can see that the log classifier is not predicting the data well. Hence, we will get rid\n",
    "# of it, and instead just use a random forest with the adaptive boosting. We will continue\n",
    "# with the best estimators of each of the classifiers.\n",
    "\n",
    "rfgrid_best = rfgrid.best_estimator_\n",
    "baggrid_best = baggrid.best_estimator_\n",
    "abcgrid_best = abcgrid.best_estimator_\n",
    "\n",
    "print(rfgrid_best)\n",
    "print(baggrid_best)\n",
    "print(abcgrid_best)"
   ]
  },
  {
   "cell_type": "code",
   "execution_count": 22,
   "metadata": {
    "collapsed": false
   },
   "outputs": [
    {
     "name": "stdout",
     "output_type": "stream",
     "text": [
      "Fitting 5 folds for each of 5 candidates, totalling 25 fits\n"
     ]
    },
    {
     "name": "stderr",
     "output_type": "stream",
     "text": [
      "[Parallel(n_jobs=1)]: Done  25 out of  25 | elapsed:   47.2s finished\n"
     ]
    },
    {
     "data": {
      "text/plain": [
       "RandomizedSearchCV(cv=5, error_score='raise',\n",
       "          estimator=VotingClassifier(estimators=[('RF', RandomForestClassifier(bootstrap=True, class_weight=None, criterion='gini',\n",
       "            max_depth=32, max_features='auto', max_leaf_nodes=None,\n",
       "            min_impurity_decrease=0.0, min_impurity_split=None,\n",
       "            min_samples_leaf=2, min_samples_sp...ors=2, random_state=None))],\n",
       "         flatten_transform=None, n_jobs=1, voting='soft', weights=None),\n",
       "          fit_params=None, iid=True, n_iter=5, n_jobs=1,\n",
       "          param_distributions={'RF__max_depth': [4, 8], 'RF__min_samples_leaf': [3, 4], 'BAG__n_estimators': [3, 4], 'AB__n_estimators': [3, 4]},\n",
       "          pre_dispatch='2*n_jobs', random_state=1, refit=True,\n",
       "          return_train_score='warn', scoring='accuracy', verbose=1)"
      ]
     },
     "execution_count": 22,
     "metadata": {},
     "output_type": "execute_result"
    }
   ],
   "source": [
    "# Create a voting classifier that uses multiple classifiers\n",
    "\n",
    "vclf = VotingClassifier(estimators=[('RF', rfgrid_best), ('BAG', baggrid_best), ('AB', abcgrid_best)],\n",
    "                        voting='soft')\n",
    "\n",
    "params = {\n",
    "  'RF__max_depth': [4, 8], 'RF__min_samples_leaf':[3, 4],\n",
    "  'BAG__n_estimators':[3,4],\n",
    "  'AB__n_estimators':[3,4]}\n",
    "\n",
    "allgrid = RandomizedSearchCV(estimator=vclf, param_distributions=params, cv=5, \n",
    "                             scoring = 'accuracy',\n",
    "                             random_state=1, verbose=1, n_iter=5)\n",
    "\n",
    "allgrid.fit(X_train,y_train)"
   ]
  },
  {
   "cell_type": "code",
   "execution_count": 157,
   "metadata": {
    "collapsed": false
   },
   "outputs": [
    {
     "ename": "NameError",
     "evalue": "name 'allgrid' is not defined",
     "output_type": "error",
     "traceback": [
      "\u001b[0;31m---------------------------------------------------------------------------\u001b[0m",
      "\u001b[0;31mNameError\u001b[0m                                 Traceback (most recent call last)",
      "\u001b[0;32m<ipython-input-157-712041c9d6bb>\u001b[0m in \u001b[0;36m<module>\u001b[0;34m()\u001b[0m\n\u001b[0;32m----> 1\u001b[0;31m \u001b[0my_pred\u001b[0m \u001b[1;33m=\u001b[0m \u001b[0mallgrid\u001b[0m\u001b[1;33m.\u001b[0m\u001b[0mpredict_proba\u001b[0m\u001b[1;33m(\u001b[0m\u001b[0mX_test_roc\u001b[0m\u001b[1;33m)\u001b[0m\u001b[1;33m\u001b[0m\u001b[0m\n\u001b[0m\u001b[1;32m      2\u001b[0m \u001b[0mpredictions\u001b[0m \u001b[1;33m=\u001b[0m \u001b[0my_pred\u001b[0m\u001b[1;33m[\u001b[0m\u001b[1;33m:\u001b[0m\u001b[1;33m,\u001b[0m\u001b[1;36m1\u001b[0m\u001b[1;33m]\u001b[0m\u001b[1;33m\u001b[0m\u001b[0m\n\u001b[1;32m      3\u001b[0m \u001b[1;33m\u001b[0m\u001b[0m\n\u001b[1;32m      4\u001b[0m \u001b[0mfalse_positive_rate\u001b[0m\u001b[1;33m,\u001b[0m \u001b[0mtrue_positive_rate\u001b[0m\u001b[1;33m,\u001b[0m \u001b[0mthresholds\u001b[0m \u001b[1;33m=\u001b[0m \u001b[0mroc_curve\u001b[0m\u001b[1;33m(\u001b[0m\u001b[0mactual\u001b[0m\u001b[1;33m,\u001b[0m \u001b[0mpredictions\u001b[0m\u001b[1;33m)\u001b[0m\u001b[1;33m\u001b[0m\u001b[0m\n\u001b[1;32m      5\u001b[0m \u001b[0mroc_auc\u001b[0m \u001b[1;33m=\u001b[0m \u001b[0mauc\u001b[0m\u001b[1;33m(\u001b[0m\u001b[0mfalse_positive_rate\u001b[0m\u001b[1;33m,\u001b[0m \u001b[0mtrue_positive_rate\u001b[0m\u001b[1;33m)\u001b[0m\u001b[1;33m\u001b[0m\u001b[0m\n",
      "\u001b[0;31mNameError\u001b[0m: name 'allgrid' is not defined"
     ]
    }
   ],
   "source": [
    "y_pred = allgrid.predict_proba(X_test_roc)\n",
    "predictions = y_pred[:,1]\n",
    "\n",
    "false_positive_rate, true_positive_rate, thresholds = roc_curve(actual, predictions)\n",
    "roc_auc = auc(false_positive_rate, true_positive_rate)\n",
    "\n",
    "plt.title('VOTING ROC')\n",
    "plt.plot(false_positive_rate, true_positive_rate, 'b',\n",
    "label='AUC = %0.2f'% roc_auc)\n",
    "plt.legend(loc='lower right')\n",
    "plt.plot([0,1],[0,1],'r--')\n",
    "plt.xlim([-0.1,1.2])\n",
    "plt.ylim([-0.1,1.2])\n",
    "plt.ylabel('True Positive Rate')\n",
    "plt.xlabel('False Positive Rate')\n",
    "plt.show()"
   ]
  },
  {
   "cell_type": "markdown",
   "metadata": {},
   "source": [
    "## Random Forest feature importances \n",
    "## - Dimention reduction and business analysis"
   ]
  },
  {
   "cell_type": "code",
   "execution_count": 159,
   "metadata": {
    "collapsed": true
   },
   "outputs": [],
   "source": [
    "pd.options.display.float_format = '{:,.2f}'.format\n",
    "\n",
    "\n",
    "importances = rf.feature_importances_\n",
    "mean = np.mean([tree.feature_importances_ for tree in rf.estimators_],\n",
    "             axis=0)\n",
    "\n",
    "# indices = np.argsort(importances)[::-1]\n",
    "\n",
    "# Print the feature ranking\n",
    "print(\"Feature importance:\")\n",
    "print(\"\")\n",
    "\n",
    "X_train_lst = []\n",
    "for column in X_train:\n",
    "     X_train_lst.append(column)\n",
    "\n",
    "X_train_ser = pd.Series(X_train_lst)\n",
    "        \n",
    "# for i in range(len(X_train_lst)):\n",
    "#     print('Feature: ',X_train_lst[i],mean[i])\n",
    "\n",
    "feature_imp = pd.DataFrame(\n",
    "{'Feature':X_train_ser,\n",
    " 'Importance':mean})\n",
    "\n",
    "feature_imp.sort_values(by='Importance',inplace=True,ascending=False)\n",
    "print(feature_imp)\n",
    "\n",
    "# From the feature importance dataframe, we can predict the most\n",
    "# explicative features for the churning of customers according \n",
    "# to our model. "
   ]
  },
  {
   "cell_type": "code",
   "execution_count": 24,
   "metadata": {
    "collapsed": false
   },
   "outputs": [
    {
     "name": "stdout",
     "output_type": "stream",
     "text": [
      "Feature importance:\n",
      "\n",
      "                                           Feature  Importance\n",
      "16                              margin_net_pow_ele    0.195327\n",
      "15                            margin_gross_pow_ele    0.129410\n",
      "3                                       date_activ    0.088858\n",
      "35      origin_up_lxidpiddsbxsbosboudacockeimpuepw    0.072867\n",
      "2                                  cons_last_month    0.068439\n",
      "6                                     date_renewal    0.065548\n",
      "10                         forecast_meter_rent_12m    0.064408\n",
      "24  channel_sales_foosdfpfkusacimwkcsosbicdxkicaua    0.039183\n",
      "18                                      net_margin    0.036204\n",
      "0                                         cons_12m    0.034778\n",
      "19                                 num_years_antig    0.034065\n",
      "11                        forecast_price_energy_p1    0.030318\n",
      "20                                         pow_max    0.022780\n",
      "33      origin_up_kamkkxfxxuwbdslkwifmmcsiusiuosws    0.018741\n",
      "14                                        imp_cons    0.018218\n",
      "4                                         date_end    0.018001\n",
      "5                                  date_modif_prod    0.015139\n",
      "7                                forecast_cons_12m    0.013133\n",
      "8                               forecast_cons_year    0.010551\n",
      "12                        forecast_price_energy_p2    0.008491\n",
      "1                                     cons_gas_12m    0.008057\n",
      "17                                     nb_prod_act    0.003887\n",
      "25  channel_sales_lmkebamcaaclubfxadlmueccxoimlema    0.002034\n",
      "13                           forecast_price_pow_p1    0.001564\n",
      "30                                       has_gas_t    0.000000\n",
      "36                               origin_up_unknown    0.000000\n",
      "34      origin_up_ldkssxwpmemidmecebumciepifcamkci    0.000000\n",
      "9                         forecast_discount_energy    0.000000\n",
      "32      origin_up_ewxeelcelemmiwuafmddpobolfuxioce    0.000000\n",
      "31      origin_up_aabpopmuoobccoxasfsksebxoxffdcxs    0.000000\n",
      "27                           channel_sales_unknown    0.000000\n",
      "29                                       has_gas_f    0.000000\n",
      "28  channel_sales_usilxuppasemubllopkaafesmlibmsdf    0.000000\n",
      "26  channel_sales_sddiedcslfslkckwlfkdpoeeailfpeds    0.000000\n",
      "23  channel_sales_fixdbufsefwooaasfcxdxadsiekoceaa    0.000000\n",
      "22  channel_sales_ewpakwlliwisiwduibdlfmalxowmwpci    0.000000\n",
      "21  channel_sales_epumfxlbckeskwekxbiuasklxalciiuu    0.000000\n",
      "37      origin_up_usapbepcfoloekilkwsdiboslwaxobdp    0.000000\n"
     ]
    }
   ],
   "source": [
    "# Check importance of features to figure out which are the most explicative\n",
    "# variables to churn.\n",
    "\n",
    "importances = rf.feature_importances_\n",
    "mean = np.mean([tree.feature_importances_ for tree in rf.estimators_],\n",
    "             axis=0)\n",
    "\n",
    "# indices = np.argsort(importances)[::-1]\n",
    "\n",
    "# Print the feature ranking\n",
    "print(\"Feature importance:\")\n",
    "print(\"\")\n",
    "\n",
    "X_train_lst = []\n",
    "for column in X_train:\n",
    "     X_train_lst.append(column)\n",
    "\n",
    "X_train_ser = pd.Series(X_train_lst)\n",
    "        \n",
    "# for i in range(len(X_train_lst)):\n",
    "#     print('Feature: ',X_train_lst[i],mean[i])\n",
    "\n",
    "feature_imp = pd.DataFrame(\n",
    "{'Feature':X_train_ser,\n",
    " 'Importance':mean})\n",
    "\n",
    "feature_imp.sort_values(by='Importance',inplace=True,ascending=False)\n",
    "print(feature_imp)\n",
    "\n",
    "# From the feature importance dataframe, we can predict the most\n",
    "# explicative features for the churning of customers according \n",
    "# to our model. "
   ]
  },
  {
   "cell_type": "code",
   "execution_count": 25,
   "metadata": {
    "collapsed": true
   },
   "outputs": [],
   "source": [
    "# The most important factor is \"margin_net_pow_ele\", i.e net\n",
    "# margin on power subscription for the customer. This is not\n",
    "# that surprising because it is likely that customers likely\n",
    "# to churn are customers who are being charged a higher price\n",
    "# and hence are likely to go ahead with cheaper alternatives.\n",
    "\n",
    "# The next most explicative factor, around 3 times less explicative\n",
    "# than the net margin, is \"margin_gross_pow_ele\", i.e. gross\n",
    "# margin on power subscription for the customer. This is further\n",
    "# support of the higher price resulting in customers opting\n",
    "# for cheapter alternatives.\n"
   ]
  },
  {
   "cell_type": "code",
   "execution_count": 26,
   "metadata": {
    "collapsed": false
   },
   "outputs": [
    {
     "name": "stdout",
     "output_type": "stream",
     "text": [
      "Fitting 5 folds for each of 5 candidates, totalling 25 fits\n"
     ]
    },
    {
     "name": "stderr",
     "output_type": "stream",
     "text": [
      "[Parallel(n_jobs=1)]: Done  25 out of  25 | elapsed:   42.2s finished\n"
     ]
    },
    {
     "name": "stdout",
     "output_type": "stream",
     "text": [
      "Fitting 5 folds for each of 5 candidates, totalling 25 fits\n"
     ]
    },
    {
     "name": "stderr",
     "output_type": "stream",
     "text": [
      "[Parallel(n_jobs=1)]: Done  25 out of  25 | elapsed:   41.7s finished\n"
     ]
    },
    {
     "name": "stdout",
     "output_type": "stream",
     "text": [
      "Fitting 5 folds for each of 5 candidates, totalling 25 fits\n"
     ]
    },
    {
     "name": "stderr",
     "output_type": "stream",
     "text": [
      "[Parallel(n_jobs=1)]: Done  25 out of  25 | elapsed:   42.1s finished\n"
     ]
    },
    {
     "name": "stdout",
     "output_type": "stream",
     "text": [
      "Fitting 5 folds for each of 5 candidates, totalling 25 fits\n"
     ]
    },
    {
     "name": "stderr",
     "output_type": "stream",
     "text": [
      "[Parallel(n_jobs=1)]: Done  25 out of  25 | elapsed:   41.4s finished\n"
     ]
    },
    {
     "name": "stdout",
     "output_type": "stream",
     "text": [
      "Fitting 5 folds for each of 5 candidates, totalling 25 fits\n"
     ]
    },
    {
     "name": "stderr",
     "output_type": "stream",
     "text": [
      "[Parallel(n_jobs=1)]: Done  25 out of  25 | elapsed:   48.2s finished\n"
     ]
    },
    {
     "name": "stdout",
     "output_type": "stream",
     "text": [
      "Fitting 5 folds for each of 5 candidates, totalling 25 fits\n"
     ]
    },
    {
     "name": "stderr",
     "output_type": "stream",
     "text": [
      "[Parallel(n_jobs=1)]: Done  25 out of  25 | elapsed:   51.3s finished\n"
     ]
    },
    {
     "name": "stdout",
     "output_type": "stream",
     "text": [
      "Fitting 5 folds for each of 5 candidates, totalling 25 fits\n"
     ]
    },
    {
     "name": "stderr",
     "output_type": "stream",
     "text": [
      "[Parallel(n_jobs=1)]: Done  25 out of  25 | elapsed:   52.7s finished\n"
     ]
    },
    {
     "name": "stdout",
     "output_type": "stream",
     "text": [
      "Fitting 5 folds for each of 5 candidates, totalling 25 fits\n"
     ]
    },
    {
     "name": "stderr",
     "output_type": "stream",
     "text": [
      "[Parallel(n_jobs=1)]: Done  25 out of  25 | elapsed:   51.2s finished\n"
     ]
    },
    {
     "name": "stdout",
     "output_type": "stream",
     "text": [
      "Fitting 5 folds for each of 5 candidates, totalling 25 fits\n"
     ]
    },
    {
     "name": "stderr",
     "output_type": "stream",
     "text": [
      "[Parallel(n_jobs=1)]: Done  25 out of  25 | elapsed:   51.1s finished\n"
     ]
    },
    {
     "name": "stdout",
     "output_type": "stream",
     "text": [
      "Fitting 5 folds for each of 5 candidates, totalling 25 fits\n"
     ]
    },
    {
     "name": "stderr",
     "output_type": "stream",
     "text": [
      "[Parallel(n_jobs=1)]: Done  25 out of  25 | elapsed:   55.4s finished\n"
     ]
    },
    {
     "name": "stdout",
     "output_type": "stream",
     "text": [
      "0.903392053437\n"
     ]
    }
   ],
   "source": [
    "# Conduct 10 fold cross validation to assess model\n",
    "\n",
    "vclf_scores = cross_val_score(allgrid, X_train, y_train, cv=10, scoring='accuracy')\n",
    "print(vclf_scores.mean())"
   ]
  },
  {
   "cell_type": "code",
   "execution_count": 27,
   "metadata": {
    "collapsed": true
   },
   "outputs": [],
   "source": [
    "# Predict churned customers based on voting classifier\n",
    "\n",
    "y_pred = allgrid.predict(X_test)\n",
    "\n",
    "y_pred_prob = allgrid.predict_proba(X_test)\n",
    "prob = y_pred_prob[:,1]\n",
    "\n",
    "indices_list = [i for i in range(len(y_pred))]\n",
    "\n",
    "prediction = pd.DataFrame(\n",
    "{'index': indices_list,\n",
    " 'id':X_test_id,\n",
    " 'Churn_prediction':y_pred,\n",
    " 'Churn_probability':prob})\n",
    "\n",
    "prediction = prediction[['index','id','Churn_prediction','Churn_probability']]\n",
    "\n",
    "prediction.to_csv('ML_case_predictions.csv',index=False)"
   ]
  },
  {
   "cell_type": "code",
   "execution_count": 28,
   "metadata": {
    "collapsed": false
   },
   "outputs": [
    {
     "name": "stdout",
     "output_type": "stream",
     "text": [
      "      index                                id  Churn_prediction  \\\n",
      "40       40  0f644e4211eb1cb8b36a47900b624704                 1   \n",
      "256     256  73b1bd0e7e6c6b41b9f5892ff2541bfe                 1   \n",
      "1471   1471  b911acb75a072fd9fd50ab3f8a38b658                 1   \n",
      "1628   1628  af746cde31bc82e7262c592a85e0adf7                 1   \n",
      "1973   1973  7dd7456999d4ba2f4bb00ec099539ed5                 1   \n",
      "2206   2206  ec51f1eac2ba4e31d93f7ea8c8f2c2e8                 1   \n",
      "2673   2673  25ac33d516bc673cad5bdc234661bcda                 1   \n",
      "3449   3449  c52e685799c5ce920d2657aff7790177                 1   \n",
      "3490   3490  82b7f5395e6f4b6f6d0251014340e7b0                 1   \n",
      "3964   3964  ca2a33c56686f237b7e1d973c16d5631                 1   \n",
      "\n",
      "      Churn_probability  \n",
      "40             0.506892  \n",
      "256            0.510502  \n",
      "1471           0.544634  \n",
      "1628           0.773724  \n",
      "1973           0.623294  \n",
      "2206           0.748901  \n",
      "2673           0.752185  \n",
      "3449           0.579664  \n",
      "3490           0.552817  \n",
      "3964           0.588260  \n"
     ]
    }
   ],
   "source": [
    "# Finding a more explicit relation between sales channels and churn.\n",
    "# Start by creating a new dataframe for the 11 churned customers that\n",
    "# our model predicts.\n",
    "\n",
    "y_pred_ser = pd.Series(y_pred)\n",
    "churned_df = prediction[prediction['Churn_prediction']==1]\n",
    "print(churned_df)"
   ]
  },
  {
   "cell_type": "code",
   "execution_count": 29,
   "metadata": {
    "collapsed": false
   },
   "outputs": [
    {
     "name": "stdout",
     "output_type": "stream",
     "text": [
      "10\n"
     ]
    }
   ],
   "source": [
    "# Get the indices of these customers and add them to a list so \n",
    "# that we can access it more easily for future steps.\n",
    "\n",
    "churned_index = churned_df[\"index\"].tolist()\n",
    "print(len(churned_index))"
   ]
  },
  {
   "cell_type": "code",
   "execution_count": 51,
   "metadata": {
    "collapsed": false
   },
   "outputs": [
    {
     "name": "stdout",
     "output_type": "stream",
     "text": [
      "Percentage of sales channels amongst test data:\n",
      "\n",
      "foosdfpfkusacimwkcsosbicdxkicaua    60.343666\n",
      "lmkebamcaaclubfxadlmueccxoimlema    17.789757\n",
      "usilxuppasemubllopkaafesmlibmsdf    13.207547\n",
      "ewpakwlliwisiwduibdlfmalxowmwpci     8.490566\n",
      "fixdbufsefwooaasfcxdxadsiekoceaa     0.067385\n",
      "epumfxlbckeskwekxbiuasklxalciiuu     0.067385\n",
      "sddiedcslfslkckwlfkdpoeeailfpeds     0.033693\n",
      "Name: channel_sales, dtype: float64\n",
      "\n",
      "Probability of sales channels for churned customers:\n",
      "\n",
      "foosdfpfkusacimwkcsosbicdxkicaua    0.9\n",
      "ewpakwlliwisiwduibdlfmalxowmwpci    0.1\n",
      "Name: channel_sales, dtype: float64\n"
     ]
    }
   ],
   "source": [
    "# Get the sales channels that these churned customers belong to.\n",
    "\n",
    "values = data2['channel_sales'].value_counts()\n",
    "print(\"Percentage of sales channels amongst test data:\")\n",
    "print(\"\")\n",
    "print(values*100/data2['channel_sales'].count())\n",
    "print(\"\")\n",
    "\n",
    "churned_channels = data2['channel_sales'].iloc[churned_index]\n",
    "\n",
    "print(\"Probability of sales channels for churned customers:\")\n",
    "print(\"\")\n",
    "print(churned_channels.value_counts()/len(churned_index))\n",
    "\n",
    "# We notice that there are only 3 types of sales channels within\n",
    "# the 11 customers that our churning according to our model. Of\n",
    "# these, 9 customers are using \"foosdfpfkusacimwkcsosbicdxkicaua\"\n",
    "# channel, 1 is using \"ewpakwlliwisiwduibdlfmalxowmwpci\" channel,\n",
    "# and 1 is unknown."
   ]
  },
  {
   "cell_type": "markdown",
   "metadata": {},
   "source": [
    "### Conducted profitability analysis for this model"
   ]
  },
  {
   "cell_type": "code",
   "execution_count": 47,
   "metadata": {
    "collapsed": false
   },
   "outputs": [
    {
     "name": "stdout",
     "output_type": "stream",
     "text": [
      "Date of activation of current contract:\n",
      "\n",
      "40      2012-02-21\n",
      "256     2012-02-04\n",
      "1471    2013-03-22\n",
      "1628    2010-05-07\n",
      "1973    2011-10-28\n",
      "2206    2013-04-09\n",
      "2673    2010-05-07\n",
      "3449    2012-02-04\n",
      "3490    2013-03-22\n",
      "3964    2013-03-25\n",
      "Name: date_activ, dtype: object\n",
      "\n",
      "Last month's consumption as a percentage of 12 month consumption:\n",
      "\n",
      "40       7.901796\n",
      "256      0.000000\n",
      "1471     2.531588\n",
      "1628   -13.047361\n",
      "1973     0.000000\n",
      "2206     0.000000\n",
      "2673   -13.047361\n",
      "3449     0.000000\n",
      "3490     2.531588\n",
      "3964     2.531588\n",
      "dtype: float64\n",
      "\n",
      "12 month consumption for churned customers:\n",
      "\n",
      "40      342593\n",
      "256      54072\n",
      "1471    154251\n",
      "1628     86232\n",
      "1973     53819\n",
      "2206     48667\n",
      "2673     86232\n",
      "3449     54072\n",
      "3490    154251\n",
      "3964    154251\n",
      "Name: cons_12m, dtype: int64\n",
      "\n",
      "Forecasted 12 month consumption for churned customers:\n",
      "\n",
      "40      1169.39\n",
      "256      326.69\n",
      "1471    1333.69\n",
      "1628     302.46\n",
      "1973     251.04\n",
      "2206     273.93\n",
      "2673     317.18\n",
      "3449     292.13\n",
      "3490    1160.26\n",
      "3964       0.00\n",
      "Name: forecast_cons_12m, dtype: float64\n",
      "\n",
      "Percentage difference:\n",
      "\n",
      "40      -99.658665\n",
      "256     -99.395824\n",
      "1471    -99.135377\n",
      "1628    -99.649249\n",
      "1973    -99.533548\n",
      "2206    -99.437134\n",
      "2673    -99.632178\n",
      "3449    -99.459739\n",
      "3490    -99.247810\n",
      "3964   -100.000000\n",
      "Name: percentage_diff, dtype: float64\n",
      "\n"
     ]
    }
   ],
   "source": [
    "# We can use the forecast_cons_12m column to see whether\n",
    "# the customers predicted to churn are actually forecasted\n",
    "# to have a lower consumption for the same time period as\n",
    "# the one trained on.\n",
    "\n",
    "test_data = pd.read_csv('ml_case_test_data.csv')\n",
    "\n",
    "# Check date of activation of current contract of churned customers\n",
    "churned_elc_cons=test_data['date_activ'].iloc[churned_index]\n",
    "print(\"Date of activation of current contract:\")\n",
    "print(\"\")\n",
    "print(churned_elc_cons)\n",
    "print(\"\")\n",
    "\n",
    "# Get last month's electricty consumption as a percentage of total 12\n",
    "# month consumption of churned customers\n",
    "churned_elc_cons=(test_data['cons_last_month']*100/test_data['cons_12m']).iloc[churned_index]\n",
    "print(\"Last month's consumption as a percentage of 12 month consumption:\")\n",
    "print(\"\")\n",
    "print(churned_elc_cons)\n",
    "print(\"\")\n",
    "\n",
    "\n",
    "# Get past 12 months consumption of churned customers\n",
    "churned_elc_cons=test_data['cons_12m'].iloc[churned_index]\n",
    "print(\"12 month consumption for churned customers:\")\n",
    "print(\"\")\n",
    "print(churned_elc_cons)\n",
    "print(\"\")\n",
    "\n",
    "# Get forecasted 12 months consumption of churned customers\n",
    "churned_forecast_cons=test_data['forecast_cons_12m'].iloc[churned_index]\n",
    "print(\"Forecasted 12 month consumption for churned customers:\")\n",
    "print(\"\")\n",
    "print(churned_forecast_cons)\n",
    "print(\"\")\n",
    "\n",
    "# Create a new column with the percentage\n",
    "test_data['percentage_diff']=(churned_forecast_cons-churned_elc_cons)*100/churned_elc_cons\n",
    "print(\"Percentage difference:\")\n",
    "print(\"\")\n",
    "print(test_data['percentage_diff'].iloc[churned_index])\n",
    "print(\"\")\n",
    "\n",
    "test_data=test_data.drop(['percentage_diff'],axis=1)\n",
    "\n",
    "# As can be seen the forecasted consumption is considerably lower\n",
    "# than the current consumption for all these customers. Hence,\n",
    "# the model's forecast is in accordance to the company's."
   ]
  },
  {
   "cell_type": "code",
   "execution_count": 7,
   "metadata": {
    "collapsed": false
   },
   "outputs": [],
   "source": [
    "# Lets see what the overall profit for the company is without the churners.\n",
    "# To get the overall profit we want to sum the product of net margin and\n",
    "# revenue for each customer. First we need to find the revenue for each\n",
    "# customer.\n",
    "\n",
    "# To get the revenue, I am going to make a few assumptions:\n",
    "# a.   the three price periods refer to the three 8 hr time periods in a day\n",
    "# b.   a price of 0 in any of these rows implies 0 consumption at that time\n",
    "# c.   price_p1_var, price_p2_var, price_p3_var are variable prices in cents\n",
    "#      that depend on quantity of electricity consumed. \n",
    "# d.   consumption is equal in each time period that has a positive\n",
    "#      consumption\n",
    "# e.   price_p1_fix, price_p2_fix, price_p3_fix are fixed prices in cents \n",
    "#      for an entire month that the customer pays daily\n",
    "\n",
    "# With all these assumptions in place, I am going to begin by\n",
    "# getting the average of the mean variable price for 12 months\n",
    "# and the average\n",
    "\n",
    "price_data = pd.read_csv('ml_case_test_hist_data.csv')"
   ]
  },
  {
   "cell_type": "code",
   "execution_count": 12,
   "metadata": {
    "collapsed": false
   },
   "outputs": [
    {
     "data": {
      "text/plain": [
       "4024"
      ]
     },
     "execution_count": 12,
     "metadata": {},
     "output_type": "execute_result"
    }
   ],
   "source": [
    "price_data['id'].nunique()"
   ]
  },
  {
   "cell_type": "code",
   "execution_count": 13,
   "metadata": {
    "collapsed": true
   },
   "outputs": [],
   "source": [
    "count1 = []\n",
    "price_data['price_p1_var'].fillna(0,inplace=True)\n",
    "for i in price_data['price_p1_var'].iteritems():\n",
    "    if i[1]!=0:\n",
    "        count1.append(1)\n",
    "    else:\n",
    "        count1.append(0)\n",
    "\n",
    "count2=[]\n",
    "price_data['price_p2_var'].fillna(0,inplace=True)\n",
    "for i in price_data['price_p2_var'].iteritems():\n",
    "    if i[1]!=0:\n",
    "        count2.append(1)\n",
    "    else:\n",
    "        count2.append(0)\n",
    "\n",
    "count3=[]\n",
    "price_data['price_p3_var'].fillna(0,inplace=True)\n",
    "for i in price_data['price_p3_var'].iteritems():\n",
    "    if i[1]!=0:\n",
    "        count3.append(1)\n",
    "    else:\n",
    "        count3.append(0)\n",
    "\n",
    "count=[]\n",
    "for i in range(len(count1)):\n",
    "    count.append(count1[i]+count2[i]+count3[i])\n",
    "\n",
    "price_data['count']=count\n",
    "\n",
    "# Create new columns for the average variable price and the \n",
    "# total fixed price for each price date\n",
    "\n",
    "price_data['avg_price_var']=(price_data['price_p1_var']+price_data['price_p2_var']+price_data['price_p3_var'])/price_data['count']\n",
    "price_data['sum_price_fix']=30*(price_data['price_p1_fix']+price_data['price_p2_fix']+price_data['price_p3_fix'])\n",
    "\n",
    "price_data=price_data.drop(['count'],axis=1)"
   ]
  },
  {
   "cell_type": "code",
   "execution_count": 33,
   "metadata": {
    "collapsed": true
   },
   "outputs": [],
   "source": [
    "# Group by customer id and get the average 12 month prices for\n",
    "# the variable price and the total sum 12 month prices for the \n",
    "# fixed prices\n",
    "\n",
    "id_=[]\n",
    "for i in price_data['id'].iteritems():\n",
    "    if i[1] in id_:\n",
    "        pass\n",
    "    else:\n",
    "        id_.append(i[1])\n",
    "\n",
    "avg_var_12m=price_data.groupby('id',sort=False)['avg_price_var'].mean()\n",
    "sum_fix_12m=price_data.groupby('id',sort=False)['sum_price_fix'].sum()\n",
    "\n",
    "temp_data = pd.DataFrame(\n",
    "  {'id':id_,\n",
    "   'avg_var_12m':avg_var_12m,\n",
    "   'fix_12m':sum_fix_12m})\n",
    "\n",
    "temp_data=temp_data[['id','avg_var_12m','fix_12m']]"
   ]
  },
  {
   "cell_type": "code",
   "execution_count": 46,
   "metadata": {
    "collapsed": false
   },
   "outputs": [
    {
     "name": "stdout",
     "output_type": "stream",
     "text": [
      "Profit loss from churning customers:\n",
      "$ 105100.70968491897\n",
      "\n",
      "Profit recovered from churning customers with 20% discount:\n",
      "$ 84080.56774793519\n"
     ]
    }
   ],
   "source": [
    "# Merge the pricing dataframe with the test dataframe to order\n",
    "# the prices appropriately according to the customer id's\n",
    "\n",
    "test_data = pd.merge(test_data,temp_data,on='id')\n",
    "\n",
    "test_data['revenue']=test_data['avg_var_12m']*test_data['cons_12m']+test_data['fix_12m']\n",
    "test_data['profit']=test_data['revenue']*test_data['margin_net_pow_ele']\n",
    "\n",
    "churned_net_mar = test_data['margin_net_pow_ele'].iloc[churned_index]\n",
    "\n",
    "# Amount of profit lost from churned customers, divided by 100\n",
    "# to convert from cents to dollars.\n",
    "\n",
    "churned_profit = test_data['profit'].iloc[churned_index]\n",
    "print(\"Profit loss from churning customers:\")\n",
    "print('$',churned_profit.sum()/100)\n",
    "print(\"\")\n",
    "\n",
    "# Increase in profit if we offer 20% discount to customers\n",
    "# predicted to churn, divided by 100 to convert from cents\n",
    "# to dollars.\n",
    "\n",
    "disc_churned_profit=churned_profit*0.8\n",
    "print(\"Profit recovered from churning customers with 20% discount:\")\n",
    "print('$',disc_churned_profit.sum()/100)"
   ]
  }
 ],
 "metadata": {
  "anaconda-cloud": {},
  "kernelspec": {
   "display_name": "Python [default]",
   "language": "python",
   "name": "python3"
  },
  "language_info": {
   "codemirror_mode": {
    "name": "ipython",
    "version": 3
   },
   "file_extension": ".py",
   "mimetype": "text/x-python",
   "name": "python",
   "nbconvert_exporter": "python",
   "pygments_lexer": "ipython3",
   "version": "3.5.2"
  }
 },
 "nbformat": 4,
 "nbformat_minor": 2
}
